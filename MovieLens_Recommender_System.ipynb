{
  "nbformat": 4,
  "nbformat_minor": 0,
  "metadata": {
    "colab": {
      "provenance": [],
      "authorship_tag": "ABX9TyNZJ0FMVRwZKX287q3NfBOD",
      "include_colab_link": true
    },
    "kernelspec": {
      "name": "python3",
      "display_name": "Python 3"
    },
    "language_info": {
      "name": "python"
    },
    "gpuClass": "standard",
    "accelerator": "GPU"
  },
  "cells": [
    {
      "cell_type": "markdown",
      "metadata": {
        "id": "view-in-github",
        "colab_type": "text"
      },
      "source": [
        "<a href=\"https://colab.research.google.com/github/BoasAndreasen/RecommenderSystems/blob/main/MovieLens_Recommender_System.ipynb\" target=\"_parent\"><img src=\"https://colab.research.google.com/assets/colab-badge.svg\" alt=\"Open In Colab\"/></a>"
      ]
    },
    {
      "cell_type": "code",
      "source": [
        "import pandas as pd\n",
        "import numpy as np\n",
        "from sklearn import model_selection, metrics, preprocessing\n",
        "from sklearn.metrics import mean_squared_error, mean_absolute_error\n",
        "import matplotlib.pyplot as plt\n",
        "import torch\n",
        "import math\n",
        "import torch.nn as nn\n",
        "import matplotlib.pyplot as plt \n",
        "from torch.utils.data import Dataset, DataLoader"
      ],
      "metadata": {
        "id": "7QxSqD_PNBw0"
      },
      "execution_count": null,
      "outputs": []
    },
    {
      "cell_type": "code",
      "source": [
        "device = torch.device('cuda' if torch.cuda.is_available() else 'cpu')"
      ],
      "metadata": {
        "id": "UI6fXre7NehS"
      },
      "execution_count": null,
      "outputs": []
    },
    {
      "cell_type": "markdown",
      "source": [
        "## Data Preparation"
      ],
      "metadata": {
        "id": "osmRJMSVyNDQ"
      }
    },
    {
      "cell_type": "code",
      "execution_count": null,
      "metadata": {
        "colab": {
          "base_uri": "https://localhost:8080/"
        },
        "id": "sNDIgwrWEXn3",
        "outputId": "c5b5207e-524d-4797-91ae-66d3d16e0bf6"
      },
      "outputs": [
        {
          "output_type": "stream",
          "name": "stdout",
          "text": [
            "  % Total    % Received % Xferd  Average Speed   Time    Time     Time  Current\n",
            "                                 Dload  Upload   Total   Spent    Left  Speed\n",
            "100  955k  100  955k    0     0  2226k      0 --:--:-- --:--:-- --:--:-- 2226k\n"
          ]
        }
      ],
      "source": [
        "# Data Citation:\n",
        "# F. Maxwell Harper and Joseph A. Konstan. 2015. The MovieLens Datasets: History and Context. ACM Transactions on \n",
        "# Interactive Intelligent Systems (TiiS) 5, 4: 19:1–19:19. \n",
        "\n",
        "! curl https://files.grouplens.org/datasets/movielens/ml-latest-small.zip -o ml-latest-small.zip"
      ]
    },
    {
      "cell_type": "code",
      "source": [
        "import zipfile\n",
        "with zipfile.ZipFile('ml-latest-small.zip', 'r') as zip_ref:\n",
        "    zip_ref.extractall('data')"
      ],
      "metadata": {
        "id": "jJ49tYunEgP3"
      },
      "execution_count": null,
      "outputs": []
    },
    {
      "cell_type": "code",
      "source": [
        "# import the dataset\n",
        "df = pd.read_csv('data/ml-latest-small/ratings.csv')"
      ],
      "metadata": {
        "id": "KhDlgoNdEi6y"
      },
      "execution_count": null,
      "outputs": []
    },
    {
      "cell_type": "code",
      "source": [
        "# create convertable continous unique values starting from 0\n",
        "users = df.userId.unique()\n",
        "movies = df.movieId.unique()\n",
        "\n",
        "movieId_to_i = {}\n",
        "i_to_movieId = {}\n",
        "userId_to_i = {}\n",
        "i_to_userId = {}\n",
        "\n",
        "for (i, movieId) in enumerate(movies):\n",
        "    movieId_to_i[movieId] = i\n",
        "    i_to_movieId[i] = movieId\n",
        "\n",
        "for (i, userId) in enumerate(users):\n",
        "    userId_to_i[userId] = i\n",
        "    i_to_userId[i] = userId"
      ],
      "metadata": {
        "id": "78jaMRN1CPUs"
      },
      "execution_count": null,
      "outputs": []
    },
    {
      "cell_type": "code",
      "source": [
        "# Create 9724 movieId x 610 ratings userId matrix\n",
        "data = df.pivot_table(index='movieId', columns='userId', values='rating')\n",
        "\n",
        "# create continous rows and column 0\n",
        "data1 = data.reset_index(drop=True)\n",
        "\n",
        "# Make userId start from 0\n",
        "data2 = data1.rename(columns=dict(zip(data1.columns, list(range(len(data1.columns))))))\n",
        "\n",
        "print(data2)"
      ],
      "metadata": {
        "colab": {
          "base_uri": "https://localhost:8080/"
        },
        "id": "kCnO-7m67Hnn",
        "outputId": "513ca40d-b676-4506-b593-6709802dc57a"
      },
      "execution_count": null,
      "outputs": [
        {
          "output_type": "stream",
          "name": "stdout",
          "text": [
            "userId  0    1    2    3    4    5    6    7    8    9    ...  600  601  602  \\\n",
            "0       4.0  NaN  NaN  NaN  4.0  NaN  4.5  NaN  NaN  NaN  ...  4.0  NaN  4.0   \n",
            "1       NaN  NaN  NaN  NaN  NaN  4.0  NaN  4.0  NaN  NaN  ...  NaN  4.0  NaN   \n",
            "2       4.0  NaN  NaN  NaN  NaN  5.0  NaN  NaN  NaN  NaN  ...  NaN  NaN  NaN   \n",
            "3       NaN  NaN  NaN  NaN  NaN  3.0  NaN  NaN  NaN  NaN  ...  NaN  NaN  NaN   \n",
            "4       NaN  NaN  NaN  NaN  NaN  5.0  NaN  NaN  NaN  NaN  ...  NaN  NaN  NaN   \n",
            "...     ...  ...  ...  ...  ...  ...  ...  ...  ...  ...  ...  ...  ...  ...   \n",
            "9719    NaN  NaN  NaN  NaN  NaN  NaN  NaN  NaN  NaN  NaN  ...  NaN  NaN  NaN   \n",
            "9720    NaN  NaN  NaN  NaN  NaN  NaN  NaN  NaN  NaN  NaN  ...  NaN  NaN  NaN   \n",
            "9721    NaN  NaN  NaN  NaN  NaN  NaN  NaN  NaN  NaN  NaN  ...  NaN  NaN  NaN   \n",
            "9722    NaN  NaN  NaN  NaN  NaN  NaN  NaN  NaN  NaN  NaN  ...  NaN  NaN  NaN   \n",
            "9723    NaN  NaN  NaN  NaN  NaN  NaN  NaN  NaN  NaN  NaN  ...  NaN  NaN  NaN   \n",
            "\n",
            "userId  603  604  605  606  607  608  609  \n",
            "0       3.0  4.0  2.5  4.0  2.5  3.0  5.0  \n",
            "1       5.0  3.5  NaN  NaN  2.0  NaN  NaN  \n",
            "2       NaN  NaN  NaN  NaN  2.0  NaN  NaN  \n",
            "3       NaN  NaN  NaN  NaN  NaN  NaN  NaN  \n",
            "4       3.0  NaN  NaN  NaN  NaN  NaN  NaN  \n",
            "...     ...  ...  ...  ...  ...  ...  ...  \n",
            "9719    NaN  NaN  NaN  NaN  NaN  NaN  NaN  \n",
            "9720    NaN  NaN  NaN  NaN  NaN  NaN  NaN  \n",
            "9721    NaN  NaN  NaN  NaN  NaN  NaN  NaN  \n",
            "9722    NaN  NaN  NaN  NaN  NaN  NaN  NaN  \n",
            "9723    NaN  NaN  NaN  NaN  NaN  NaN  NaN  \n",
            "\n",
            "[9724 rows x 610 columns]\n"
          ]
        }
      ]
    },
    {
      "cell_type": "code",
      "source": [
        "train = data2.copy()\n",
        "\n",
        "# Set test set to empty array of size 9724 x 610 \n",
        "test = pd.DataFrame(np.empty(train.shape))\n",
        "test[:] = np.nan\n",
        "\n",
        "# Move 20 percent of ratings for each user from train set to test set\n",
        "for idx, column in data2.iteritems():\n",
        "    not_null_column = column[column.notna()]\n",
        "    num_to_replace = int(round(len(not_null_column) * 0.2))\n",
        "    replace_indices = np.random.choice(not_null_column.index, size=num_to_replace, replace=False)\n",
        "\n",
        "    for ind in replace_indices:\n",
        "        test.iloc[ind,idx] = train.iloc[ind,idx]\n",
        "        train.iloc[ind,idx] = float(\"nan\")"
      ],
      "metadata": {
        "id": "-LWwjB9XTuHg"
      },
      "execution_count": null,
      "outputs": []
    },
    {
      "cell_type": "code",
      "source": [
        "print(\"user 52's\", data2[52].count(), 'ratings were split into', train[52].count(), 'training and', test[52].count(), 'testing')\n",
        "print(\"train set shape:\", train.shape)\n",
        "print(\"train set number of ratings:\", np.count_nonzero(~np.isnan(train)))\n",
        "print(\"test set shape:\", test.shape)\n",
        "print(\"test set number of ratings:\", np.count_nonzero(~np.isnan(test)))"
      ],
      "metadata": {
        "colab": {
          "base_uri": "https://localhost:8080/"
        },
        "id": "zBIfE7NITEWZ",
        "outputId": "0ea00759-1d67-4e08-9e52-5a076bd0a9a7"
      },
      "execution_count": null,
      "outputs": [
        {
          "output_type": "stream",
          "name": "stdout",
          "text": [
            "user 52's 20 ratings were split into 16 training and 4 testing\n",
            "train set shape: (9724, 610)\n",
            "train set number of ratings: 80672\n",
            "test set shape: (9724, 610)\n",
            "test set number of ratings: 20164\n"
          ]
        }
      ]
    },
    {
      "cell_type": "code",
      "source": [
        "# For imputation, fill each movie its average rating\n",
        "train_imputed = train.T.fillna(train.mean(axis=1)).T\n",
        "# Since some movies have no ratings in their training set after the split, \n",
        "# fill those movies with overall average\n",
        "train_imputed = train_imputed.fillna(np.nanmean(train.values))\n",
        "\n",
        "# alternatively fill all values with the overall average\n",
        "# train_mean = np.nanmean(train.values) #approx 3.5\n",
        "# train_data = train.fillna(train_mean)"
      ],
      "metadata": {
        "id": "zFJOGrkALeMh"
      },
      "execution_count": null,
      "outputs": []
    },
    {
      "cell_type": "markdown",
      "source": [
        "## Median value baseline "
      ],
      "metadata": {
        "id": "lQyUf9ED2Wja"
      }
    },
    {
      "cell_type": "code",
      "source": [
        "predicted = np.nanmean(train)\n",
        "print(\"Median rating:\", \"{:.3f}\".format(predicted))\n",
        "\n",
        "diffs = predicted - test\n",
        "rmse = np.sqrt(np.nanmean(np.square(diffs)))\n",
        "print(\"RMSE using median:\", \"{:.3f}\".format(rmse))"
      ],
      "metadata": {
        "colab": {
          "base_uri": "https://localhost:8080/"
        },
        "id": "jN9xOieuOWvW",
        "outputId": "56677646-188d-42fa-fbc3-228f11897f51"
      },
      "execution_count": null,
      "outputs": [
        {
          "output_type": "stream",
          "name": "stdout",
          "text": [
            "Median rating: 3.502\n",
            "RMSE using median: 1.048\n"
          ]
        }
      ]
    },
    {
      "cell_type": "markdown",
      "source": [
        "## Eigendecomposition SVD "
      ],
      "metadata": {
        "id": "40qqGNAwy6tP"
      }
    },
    {
      "cell_type": "code",
      "source": [
        "# inspired by https://github.com/amoghasubramanya/Movie-Recommender-using-SVD/blob/master/svd.py\n",
        "# and https://web.mit.edu/be.400/www/SVD/Singular_Value_Decomposition.htm\n",
        "\n",
        "A = np.array(train_imputed)\n",
        "\n",
        "import time\n",
        "start_time = time.perf_counter()\n",
        "\n",
        "# calculate U and sigma\n",
        "AAT = np.dot(A, np.transpose(A)) #9724 x 9724\n",
        "eigenvalueAAT, eigenvecAAT = np.linalg.eig(AAT)\n",
        "\n",
        "# sorted indexes\n",
        "sorted_eigen_indexes = eigenvalueAAT.argsort()[::-1]\n",
        "# get real first k sorted eigen values\n",
        "sigma = np.real(np.sqrt(eigenvalueAAT[sorted_eigen_indexes]))\n",
        "# get real values sorted by eigenvectors\n",
        "U = np.real(eigenvecAAT[:,sorted_eigen_indexes])\n",
        "\n",
        "# calculate V\n",
        "ATA = np.dot(np.transpose(A), A) #9724 x 9724\n",
        "eigenvalueATA, eigenvecATA = np.linalg.eig(ATA)\n",
        "# sort eigen values\n",
        "sorted_eigen_indexesATA = eigenvalueATA.argsort()[::-1]\n",
        "# get real values sorted by eigenvectors \n",
        "V = np.real(eigenvecATA[:,sorted_eigen_indexesATA])\n",
        "\n",
        "end_time = time.perf_counter()\n",
        "execution_time = end_time - start_time\n",
        "print(\"Execution time:\", execution_time, \"seconds\")"
      ],
      "metadata": {
        "id": "Zdi03xbRVG7d",
        "colab": {
          "base_uri": "https://localhost:8080/"
        },
        "outputId": "12aabb2e-e9aa-49c4-c7dc-e453d524d6f0"
      },
      "execution_count": null,
      "outputs": [
        {
          "output_type": "stream",
          "name": "stdout",
          "text": [
            "Execution time: 602.6036770259998 seconds\n"
          ]
        }
      ]
    },
    {
      "cell_type": "code",
      "source": [
        "k_list = [1, 2, 3, 4, 5, 6, 7, 8, 9, 10, 20, 50, 100, 610]\n",
        "\n",
        "k_list = [1, 2, 3, 4, 5, 6, 7, 8, 9, 10, 11, 12, 13, 14, 15, 16, 17, 18, 19, 20,\n",
        "          21, 22, 23, 24, 25, 26, 27, 28, 29, 30, 50, 100, 250, 610]\n",
        "k_performance = []\n",
        "\n",
        "best_k = 0\n",
        "rmse_at_best_k = 100\n",
        "\n",
        "for k in k_list:\n",
        "    U_k = U[:,0:k]\n",
        "    sigma_k = np.diag(sigma[:k])\n",
        "    VT_k = np.transpose(V[:,0:k])\n",
        "    predicted = U_k @ sigma_k @ VT_k\n",
        "\n",
        "    # compute squared differences between non-NaN values\n",
        "    diffs = predicted - test\n",
        "    mask = ~(np.isnan(diffs) | np.isnan(test))\n",
        "    squared_diffs = np.square(diffs[mask])\n",
        "\n",
        "    # compute mean of squared differences\n",
        "    rmse = np.sqrt(np.nanmean(squared_diffs))\n",
        "\n",
        "    k_performance.append(rmse)\n",
        "\n",
        "    if rmse_at_best_k > rmse:\n",
        "        best_k = k\n",
        "        rmse_at_best_k = rmse\n",
        "        time_at_best_rmse = execution_time\n",
        "\n",
        "# Re-run\n",
        "print(\"The lowest RMSE was\", rmse_at_best_k, \"and was achieved at k:\", best_k)\n",
        "print(k_performance)"
      ],
      "metadata": {
        "colab": {
          "base_uri": "https://localhost:8080/"
        },
        "id": "gd1kbyDyl0K8",
        "outputId": "8f3134a2-9bb8-48ae-a259-c1d23db03a8f"
      },
      "execution_count": null,
      "outputs": [
        {
          "output_type": "stream",
          "name": "stdout",
          "text": [
            "The lowest RMSE was 7.141 and was achieved at k: 1\n",
            "[7.140743409898033, 7.14150589218039, 7.143552314288311, 7.145606148115893, 7.148520294561754, 7.148658387712769, 7.149867612178621, 7.151432663448593, 7.152059495811399, 7.152489829019307, 7.153108298824802, 7.153616896577829, 7.154703536872254, 7.155227637370468, 7.1561464224095435, 7.156355036386312, 7.156548578904705, 7.157228550424164, 7.156816191414842, 7.156519272962333, 7.156673672297748, 7.156436114578581, 7.156286607002416, 7.156046714860786, 7.156187185687782, 7.1567019387063775, 7.155693867983327, 7.156122232065261, 7.156254162502065, 7.156541802347858, 7.157931003065503, 7.159938220193024, 7.159507961691908, 7.160210704309549]\n"
          ]
        }
      ]
    },
    {
      "cell_type": "code",
      "source": [
        "from matplotlib.ticker import ScalarFormatter\n",
        "\n",
        "fig, ax = plt.subplots(figsize=(8,6))\n",
        "\n",
        "plt.semilogx(k_list, k_performance, marker='o')\n",
        "plt.xlabel('k')\n",
        "plt.ylabel('rmse')\n",
        "plt.title('Traditional SVD')\n",
        "\n",
        "# Set the x-axis tick locations and labels\n",
        "x_ticks = [1, 10, 20, 30, 100, 610]\n",
        "x_tick_labels = ['1', '10', '20', '30', '100', '610']\n",
        "plt.xticks(x_ticks, x_tick_labels)\n",
        "\n",
        "# Set the y-axis tick format to use plain numbers\n",
        "formatter = ScalarFormatter(useMathText=True)\n",
        "ax.yaxis.set_major_formatter(formatter)\n",
        "\n",
        "# Find the index of the lowest value in performance\n",
        "min_index = np.argmin(k_performance)\n",
        "\n",
        "# Plot a scatter marker at the lowest point\n",
        "plt.scatter(k_list[min_index], k_performance[min_index], s=100, marker='o', color='red')\n",
        "plt.text(k_list[min_index]+0.3, k_performance[min_index], f'{k_performance[min_index]:.3f}')\n",
        "\n",
        "plt.show()"
      ],
      "metadata": {
        "colab": {
          "base_uri": "https://localhost:8080/",
          "height": 404
        },
        "id": "JbTgWNhBB8E9",
        "outputId": "468b11a7-c136-4cb9-e893-64e35264b00b"
      },
      "execution_count": null,
      "outputs": [
        {
          "output_type": "display_data",
          "data": {
            "text/plain": [
              "<Figure size 576x432 with 1 Axes>"
            ],
            "image/png": "[encoded data removed]"
          },
          "metadata": {
            "needs_background": "light"
          }
        }
      ]
    },
    {
      "cell_type": "markdown",
      "source": [
        "## Numpy SVD"
      ],
      "metadata": {
        "id": "c6VyLZJmGSD6"
      }
    },
    {
      "cell_type": "code",
      "source": [
        "# Numpy SVD\n",
        "import time\n",
        "start_time = time.perf_counter()\n",
        "\n",
        "U, sigma, VT = np.linalg.svd(np.array(train_imputed),full_matrices=False)\n",
        "predicted = U @ np.diag(sigma) @ VT\n",
        "\n",
        "end_time = time.perf_counter()\n",
        "execution_time = end_time - start_time\n",
        "print(\"Execution time:\", execution_time, \"seconds\")\n",
        "\n",
        "diffs = predicted - test\n",
        "mask = ~(np.isnan(diffs) | np.isnan(test))\n",
        "squared_diffs = np.square(diffs[mask])\n",
        "\n",
        "# compute mean of squared differences\n",
        "rmse = np.sqrt(np.nanmean(squared_diffs))\n",
        "print(rmse)"
      ],
      "metadata": {
        "id": "Zchcto2ZJDgy",
        "colab": {
          "base_uri": "https://localhost:8080/"
        },
        "outputId": "f841f9ba-3ed0-4149-b5b7-7a60e26eae95"
      },
      "execution_count": null,
      "outputs": [
        {
          "output_type": "stream",
          "name": "stdout",
          "text": [
            "Execution time: 3.0504139799995755 seconds\n",
            "0.9811187477544974\n"
          ]
        }
      ]
    },
    {
      "cell_type": "code",
      "source": [
        "k_list = [1, 2, 3, 4, 5, 6, 7, 8, 9, 10, 11, 12, 13, 14, 15, 16, 17, 18, 19, 20,\n",
        "          21, 22, 23, 24, 25, 26, 27, 28, 29, 30, 50, 100, 250, 610]\n",
        "k_performance = []\n",
        "\n",
        "best_k = 0\n",
        "rmse_at_best_k = 100\n",
        "\n",
        "for k in k_list:\n",
        "    U_k = U[:,0:k]\n",
        "    sigma_k = np.diag(sigma[:k])\n",
        "    VT_k = VT[:,0:k]\n",
        "    \n",
        "    predicted = U_k @ sigma_k @ np.transpose(VT_k)\n",
        "\n",
        "    # compute squared differences between non-NaN values\n",
        "    diffs = predicted - test\n",
        "    mask = ~(np.isnan(diffs) | np.isnan(test))\n",
        "    squared_diffs = np.square(diffs[mask])\n",
        "\n",
        "    # compute mean of squared differences\n",
        "    rmse = np.sqrt(np.nanmean(squared_diffs))\n",
        "\n",
        "    k_performance.append(rmse)\n",
        "\n",
        "    if rmse_at_best_k > rmse:\n",
        "        best_k = k\n",
        "        rmse_at_best_k = rmse\n",
        "        time_at_best_rmse = execution_time\n",
        "\n",
        "# Re-run\n",
        "print(\"The lowest RMSE was\", rmse_at_best_k, \"and was achieved at k:\", best_k)\n",
        "print(k_performance)"
      ],
      "metadata": {
        "colab": {
          "base_uri": "https://localhost:8080/"
        },
        "id": "d-6wq-nCHayH",
        "outputId": "cab1d417-29bf-4384-b9c3-61aa25616b87"
      },
      "execution_count": null,
      "outputs": [
        {
          "output_type": "stream",
          "name": "stdout",
          "text": [
            "The lowest RMSE was 5.421272681757275 and was achieved at k: 1\n",
            "[5.421272681757275, 5.421422180968024, 5.4224542694484, 5.421850362125395, 5.421958951957305, 5.422184951274923, 5.421792530719359, 5.421839982047641, 5.422042500111756, 5.422147947305877, 5.422396206977733, 5.422454579625713, 5.422510843982366, 5.422567325953805, 5.422692611566212, 5.422629582365302, 5.422533273373481, 5.422658001793261, 5.422273090554982, 5.422378454937849, 5.421773177571767, 5.421869912793793, 5.421932247865416, 5.421982740089123, 5.421985190123949, 5.422237675362425, 5.422145233585401, 5.422390109034041, 5.422560231011175, 5.4225926395373705, 5.42209295243035, 5.424274974308773, 5.425985684038899, 5.426408075166635]\n"
          ]
        }
      ]
    },
    {
      "cell_type": "code",
      "source": [
        "from sklearn.utils.extmath import randomized_svd\n",
        "import time\n",
        "\n",
        "k_list = [1, 2, 3, 4, 5, 6, 7, 8, 9, 10, 11, 12, 13, 14, 15, 16, 17, 18, 19, 20,\n",
        "          21, 22, 23, 24, 25, 26, 27, 28, 29, 30, 50, 100, 250, 610]\n",
        "k_performance = []\n",
        "\n",
        "best_k = 0\n",
        "rmse_at_best_k = 100\n",
        "time_at_best_rmse = 0\n",
        "\n",
        "for k in k_list:\n",
        "    start_time = time.perf_counter()\n",
        "    U, Sigma, VT = randomized_svd(np.array(train_imputed), \n",
        "                                  n_components=k,\n",
        "                                  n_iter=5,\n",
        "                                  random_state=None)\n",
        "    \n",
        "    predicted = U @ np.diag(Sigma) @ VT\n",
        "\n",
        "    end_time = time.perf_counter()\n",
        "    execution_time = end_time - start_time\n",
        "    \n",
        "\n",
        "    # compute squared differences between non-NaN values\n",
        "    diffs = predicted - test\n",
        "    mask = ~(np.isnan(diffs) | np.isnan(test))\n",
        "    squared_diffs = np.square(diffs[mask])\n",
        "\n",
        "    # compute mean of squared differences\n",
        "    rmse = np.sqrt(np.nanmean(squared_diffs))\n",
        "    k_performance.append(rmse)\n",
        "\n",
        "    if rmse_at_best_k > rmse:\n",
        "        best_k = k\n",
        "        rmse_at_best_k = rmse\n",
        "        time_at_best_rmse = execution_time\n",
        "\n",
        "print(\"The lowest RMSE was\", rmse_at_best_k, \"and was achieved at k:\", best_k)\n",
        "print(\"Execution time at best k:\", time_at_best_rmse, \"seconds\")"
      ],
      "metadata": {
        "id": "B-q6GaaysgfG",
        "colab": {
          "base_uri": "https://localhost:8080/"
        },
        "outputId": "a1b79135-85c3-4d05-8b5e-5500b347f744"
      },
      "execution_count": null,
      "outputs": [
        {
          "output_type": "stream",
          "name": "stdout",
          "text": [
            "The lowest RMSE was 0.9571325855990267 and was achieved at k: 15\n",
            "Execution time at best k: 0.5253192339996531 seconds\n"
          ]
        }
      ]
    },
    {
      "cell_type": "code",
      "source": [
        "fig, ax = plt.subplots(figsize=(8,6)) # adjust the size of the figure\n",
        "\n",
        "plt.plot(k_list, k_performance)\n",
        "plt.xscale('log')\n",
        "plt.xticks([1]+k_list[::3], [1]+k_list[::3], rotation=45) # rotate the tick labels\n",
        "plt.xlabel('k')\n",
        "plt.ylabel('Performance')\n",
        "plt.title('Algorithm Performance for different values of k')\n",
        "plt.show()"
      ],
      "metadata": {
        "colab": {
          "base_uri": "https://localhost:8080/",
          "height": 415
        },
        "id": "YVXletYK72OU",
        "outputId": "ccaca6ac-48be-4822-98c1-661b6c4a6336"
      },
      "execution_count": null,
      "outputs": [
        {
          "output_type": "display_data",
          "data": {
            "text/plain": [
              "<Figure size 576x432 with 1 Axes>"
            ],
            "image/png": "[encoded data removed]"
          },
          "metadata": {
            "needs_background": "light"
          }
        }
      ]
    },
    {
      "cell_type": "code",
      "source": [
        "# Compute the explained variance ratio for each factor\n",
        "explained_var_ratio = (sigma ** 2) / np.sum(sigma ** 2)\n",
        "\n",
        "print(explained_var_ratio[0] / sum(explained_var_ratio) * 100, '%')\n",
        "\n",
        "# Print the explained variance ratio for each factor\n",
        "print('Explained variance ratio:', explained_var_ratio[:5])"
      ],
      "metadata": {
        "colab": {
          "base_uri": "https://localhost:8080/"
        },
        "id": "VUvBnq2uy5Pg",
        "outputId": "d1d19b0e-3376-49b9-c7b1-5733ae068458"
      },
      "execution_count": null,
      "outputs": [
        {
          "output_type": "stream",
          "name": "stdout",
          "text": [
            "99.91152710070433 %\n",
            "Explained variance ratio: [9.99115271e-01 2.61257807e-05 1.71713547e-05 1.66040170e-05\n",
            " 1.47913954e-05]\n"
          ]
        }
      ]
    },
    {
      "cell_type": "code",
      "source": [
        "# compute squared differences between non-NaN values\n",
        "diffs = predicted - test\n",
        "mask = ~(np.isnan(diffs) | np.isnan(test))\n",
        "squared_diffs = np.square(diffs[mask])\n",
        "\n",
        "# compute mean of squared differences\n",
        "rmse = np.sqrt(np.nanmean(squared_diffs))\n",
        "print(k, rmse)"
      ],
      "metadata": {
        "colab": {
          "base_uri": "https://localhost:8080/"
        },
        "id": "-LXWTy-cu1AX",
        "outputId": "201de6e1-a9aa-433d-f9d0-f58a1bb441c1"
      },
      "execution_count": null,
      "outputs": [
        {
          "output_type": "stream",
          "name": "stdout",
          "text": [
            "0.9875777532134082\n"
          ]
        }
      ]
    },
    {
      "cell_type": "markdown",
      "source": [
        "## Deep Learning"
      ],
      "metadata": {
        "id": "lLZa3VcIqvSB"
      }
    },
    {
      "cell_type": "code",
      "source": [
        "class MovieLensDataset(Dataset):\n",
        "    def __init__(self, ratings):\n",
        "        self.user_ids = torch.LongTensor(ratings['userId'].values)\n",
        "        self.movie_ids = torch.LongTensor(ratings['movieId'].values)\n",
        "        self.ratings = torch.FloatTensor(ratings['rating'].values)\n",
        "        \n",
        "    def __len__(self):\n",
        "        return len(self.ratings)\n",
        "    \n",
        "    def __getitem__(self, idx):\n",
        "        return self.user_ids[idx], self.movie_ids[idx], self.ratings[idx]"
      ],
      "metadata": {
        "id": "UFjHNtgnM_Eu"
      },
      "execution_count": null,
      "outputs": []
    },
    {
      "cell_type": "code",
      "source": [
        "class MatrixFactorization(nn.Module):\n",
        "    def __init__(self, n_users, n_movies, embedding_size):\n",
        "        super().__init__()\n",
        "        # trainable lookup matrix for shallow embedding vectors\n",
        "        self.user_embed = nn.Embedding(n_users, embedding_size)\n",
        "        self.movie_embed = nn.Embedding(n_movies, embedding_size)\n",
        "\n",
        "        self.user_embed.weight.data.uniform_(0,0.05)\n",
        "        self.movie_embed.weight.data.uniform_(0,0.05)\n",
        "        \n",
        "        self.linear_layers = nn.Sequential(\n",
        "            nn.Linear(embedding_size * 2, embedding_size * 2),\n",
        "            nn.ReLU(),\n",
        "            nn.Dropout(0.1),\n",
        "            nn.Linear(embedding_size * 2, embedding_size),\n",
        "            nn.ReLU(),\n",
        "            nn.Linear(embedding_size, 1)\n",
        "        )\n",
        "\n",
        "        self.out = nn.Sigmoid()\n",
        "        \n",
        "    def forward(self, users, movies, ratings=None):\n",
        "        user_embeds = self.user_embed(users)\n",
        "        movie_embeds = self.movie_embed(movies)\n",
        "        linear_input = self.linear_layers(torch.cat([user_embeds, movie_embeds], dim=1))\n",
        "\n",
        "        return linear_input\n",
        "        #return self.out(linear_input) * 5 + 1\n",
        "\n",
        "mf = MatrixFactorization(609,9723,100)\n",
        "print(mf)\n",
        "num_params = sum(p.numel() for p in mf.parameters())\n",
        "print(\"Number of paramters:\", num_params)"
      ],
      "metadata": {
        "colab": {
          "base_uri": "https://localhost:8080/"
        },
        "id": "CCFMPPV5G4MT",
        "outputId": "0cf19c92-8b80-4ed7-a5a2-3041fb93845b"
      },
      "execution_count": null,
      "outputs": [
        {
          "output_type": "stream",
          "name": "stdout",
          "text": [
            "MatrixFactorization(\n",
            "  (user_embed): Embedding(609, 100)\n",
            "  (movie_embed): Embedding(9723, 100)\n",
            "  (linear_layers): Sequential(\n",
            "    (0): Linear(in_features=200, out_features=200, bias=True)\n",
            "    (1): ReLU()\n",
            "    (2): Dropout(p=0.1, inplace=False)\n",
            "    (3): Linear(in_features=200, out_features=100, bias=True)\n",
            "    (4): ReLU()\n",
            "    (5): Linear(in_features=100, out_features=1, bias=True)\n",
            "  )\n",
            "  (out): Sigmoid()\n",
            ")\n",
            "Number of paramters: 1093601\n"
          ]
        }
      ]
    },
    {
      "cell_type": "code",
      "source": [
        "df_train, df_valid = model_selection.train_test_split(\n",
        "    df, test_size=0.1, random_state=42\n",
        ")\n",
        "\n",
        "train_dataset = MovieLensDataset(df_train)\n",
        "valid_dataset = MovieLensDataset(df_valid)"
      ],
      "metadata": {
        "id": "C9TH-D-2NIsq"
      },
      "execution_count": null,
      "outputs": []
    },
    {
      "cell_type": "code",
      "source": [
        "train_loader = DataLoader(dataset=train_dataset,\n",
        "                          batch_size=len(train_dataset),\n",
        "                          shuffle=True)\n",
        "\n",
        "validation_loader = DataLoader(dataset=valid_dataset,\n",
        "                          batch_size=len(valid_dataset),\n",
        "                          shuffle=True) "
      ],
      "metadata": {
        "id": "803xEG_bNVsU"
      },
      "execution_count": null,
      "outputs": []
    },
    {
      "cell_type": "code",
      "source": [
        "num_users = df['userId'].nunique()\n",
        "num_movies = df['movieId'].nunique()\n",
        "\n",
        "model = MatrixFactorization(num_users, num_movies, 200)\n",
        "optimizer = torch.optim.Adam(model.parameters())  \n",
        "\n",
        "loss_func = nn.MSELoss()"
      ],
      "metadata": {
        "id": "mlyeBoyhNZM1"
      },
      "execution_count": null,
      "outputs": []
    },
    {
      "cell_type": "code",
      "source": [
        "import torch.optim as optim\n",
        "import time\n",
        "\n",
        "def train_model(model, train_loader, val_loader, n_epochs, lr, weight_decay):\n",
        "    optimizer = optim.Adam(model.parameters(), lr=lr, weight_decay=weight_decay)\n",
        "    criterion = nn.MSELoss()\n",
        "    training_start_time = time.perf_counter()\n",
        "    for epoch in range(n_epochs):\n",
        "        epoch_start_time = time.perf_counter()\n",
        "        model.train()\n",
        "\n",
        "        train_loss = 0\n",
        "        for user_ids, movie_ids, ratings in train_loader:\n",
        "            optimizer.zero_grad()\n",
        "            predictions = model(user_ids, movie_ids).squeeze()\n",
        "            loss = criterion(predictions, ratings)\n",
        "            loss.backward()\n",
        "            optimizer.step()\n",
        "            train_loss += loss.item()\n",
        "        train_loss /= len(train_loader)\n",
        "\n",
        "        validation_loss = 0\n",
        "        for user_ids, movie_ids, ratings in validation_loader:\n",
        "            predictions = model(user_ids, movie_ids).squeeze()\n",
        "            loss = criterion(predictions, ratings)\n",
        "            validation_loss += loss.item()\n",
        "        validation_loss /= len(validation_loader)\n",
        "\n",
        "\n",
        "        val_rmse = evaluate_model(model, val_loader)\n",
        "        print(f'Epoch {epoch+1}/{n_epochs}, Train Loss: {train_loss:.4f}, Validation Loss: {validation_loss:.4f}, Val RMSE: {val_rmse:.4f}, Train Time: {time.perf_counter() - epoch_start_time:.3f}' + 's')\n",
        "    \n",
        "    print(f'Total Train Time: {time.perf_counter() - training_start_time:.3f}' + 's')\n",
        "        \n",
        "\n",
        "def evaluate_model(model, data_loader):\n",
        "    model.eval()\n",
        "    with torch.no_grad():\n",
        "        predictions, actuals = [], []\n",
        "        for user_ids, movie_ids, ratings in data_loader:\n",
        "            batch_predictions = model(user_ids, movie_ids).squeeze()\n",
        "            predictions.extend(batch_predictions.tolist())\n",
        "            actuals.extend(ratings.tolist())\n",
        "        rmse = np.sqrt(np.mean((np.array(actuals) - np.array(predictions)) ** 2))\n",
        "    return rmse\n",
        "\n",
        "# Train model\n",
        "train_model(model, train_loader, validation_loader, n_epochs=5, lr=0.001, weight_decay=0.001)"
      ],
      "metadata": {
        "colab": {
          "base_uri": "https://localhost:8080/"
        },
        "id": "vgaZTgOQNjoy",
        "outputId": "dd5b0cb8-fc82-4175-ffd8-c2d180b2eea7"
      },
      "execution_count": null,
      "outputs": [
        {
          "output_type": "stream",
          "name": "stdout",
          "text": [
            "Epoch 1/5, Train Loss: 0.7717, Validation Loss: 0.7911, Val RMSE: 0.8867, Train Time: 4.901s\n",
            "Epoch 2/5, Train Loss: 0.6344, Validation Loss: 0.8579, Val RMSE: 0.9236, Train Time: 4.133s\n",
            "Epoch 3/5, Train Loss: 0.7173, Validation Loss: 0.8537, Val RMSE: 0.9210, Train Time: 5.136s\n",
            "Epoch 4/5, Train Loss: 0.7145, Validation Loss: 0.8069, Val RMSE: 0.8958, Train Time: 4.768s\n",
            "Epoch 5/5, Train Loss: 0.6630, Validation Loss: 0.7864, Val RMSE: 0.8841, Train Time: 4.087s\n",
            "Total Train Time: 23.026s\n"
          ]
        }
      ]
    },
    {
      "cell_type": "code",
      "source": [
        "#!pip install surprise\n",
        "\n",
        "from surprise import accuracy, Dataset, SVD\n",
        "from surprise.model_selection import train_test_split"
      ],
      "metadata": {
        "id": "4bJseaTdgEzT"
      },
      "execution_count": null,
      "outputs": []
    },
    {
      "cell_type": "code",
      "source": [
        "# Load the movielens-100k dataset (download it if needed),\n",
        "data = Dataset.load_builtin(\"ml-100k\")\n",
        "\n",
        "# sample random trainset and testset\n",
        "# test set is made of 20% of the ratings.\n",
        "trainset, testset = train_test_split(data, test_size=0.20)\n",
        "\n",
        "# We'll use the famous SVD algorithm.\n",
        "algo = SVD()\n",
        "\n",
        "# Train the algorithm on the trainset, and predict ratings for the testset\n",
        "algo.fit(trainset)\n",
        "predictions = algo.test(testset)\n",
        "\n",
        "# Then compute RMSE\n",
        "accuracy.mae(predictions)\n",
        "accuracy.mse(predictions)\n",
        "accuracy.rmse(predictions)"
      ],
      "metadata": {
        "id": "zIE9bS4yXfMO"
      },
      "execution_count": null,
      "outputs": []
    },
    {
      "cell_type": "code",
      "source": [
        "from sklearn.utils.extmath import randomized_svd\n",
        "\n",
        "\n",
        "train_data = df_train.pivot_table(index='userId', columns='movieId', values='rating').fillna(3.5)\n",
        "test_data = df_valid.pivot_table(index='userId', columns='movieId', values='rating')\n",
        "\n",
        "U, Sigma, VT = randomized_svd(np.array(train_data), \n",
        "                              n_components=15,\n",
        "                              n_iter=5,\n",
        "                              random_state=None)\n",
        "\n",
        "predicted = U @ np.diag(Sigma) @ VT\n",
        "print(\"full matrix\", num_users, num_movies) #full matrix 610 9724\n",
        "print(\"train data\", train_data.shape) #train data (610, 9379)\n",
        "print(\"predicted\",predicted.shape) #predicted (610, 9379)\n",
        "print(\"validation\",test_data.shape) #validation (603, 3653)\n",
        "\n",
        "#rmse = np.sqrt(mean_squared_error(test_data, predicted))"
      ],
      "metadata": {
        "id": "_9ZKwcld4_i1",
        "colab": {
          "base_uri": "https://localhost:8080/",
          "height": 240
        },
        "outputId": "26e2adb6-51e3-4dff-eece-2508aeb69ab2"
      },
      "execution_count": null,
      "outputs": [
        {
          "output_type": "error",
          "ename": "NameError",
          "evalue": "ignored",
          "traceback": [
            "\u001b[0;31m---------------------------------------------------------------------------\u001b[0m",
            "\u001b[0;31mNameError\u001b[0m                                 Traceback (most recent call last)",
            "\u001b[0;32m<ipython-input-419-b4e875e36a14>\u001b[0m in \u001b[0;36m<module>\u001b[0;34m\u001b[0m\n\u001b[1;32m     11\u001b[0m \u001b[0;34m\u001b[0m\u001b[0m\n\u001b[1;32m     12\u001b[0m \u001b[0mpredicted\u001b[0m \u001b[0;34m=\u001b[0m \u001b[0mU\u001b[0m \u001b[0;34m@\u001b[0m \u001b[0mnp\u001b[0m\u001b[0;34m.\u001b[0m\u001b[0mdiag\u001b[0m\u001b[0;34m(\u001b[0m\u001b[0mSigma\u001b[0m\u001b[0;34m)\u001b[0m \u001b[0;34m@\u001b[0m \u001b[0mVT\u001b[0m\u001b[0;34m\u001b[0m\u001b[0;34m\u001b[0m\u001b[0m\n\u001b[0;32m---> 13\u001b[0;31m \u001b[0mprint\u001b[0m\u001b[0;34m(\u001b[0m\u001b[0;34m\"full matrix\"\u001b[0m\u001b[0;34m,\u001b[0m \u001b[0mnum_users\u001b[0m\u001b[0;34m,\u001b[0m \u001b[0mnum_movies\u001b[0m\u001b[0;34m)\u001b[0m \u001b[0;31m#full matrix 610 9724\u001b[0m\u001b[0;34m\u001b[0m\u001b[0;34m\u001b[0m\u001b[0m\n\u001b[0m\u001b[1;32m     14\u001b[0m \u001b[0mprint\u001b[0m\u001b[0;34m(\u001b[0m\u001b[0;34m\"train data\"\u001b[0m\u001b[0;34m,\u001b[0m \u001b[0mtrain_data\u001b[0m\u001b[0;34m.\u001b[0m\u001b[0mshape\u001b[0m\u001b[0;34m)\u001b[0m \u001b[0;31m#train data (610, 9379)\u001b[0m\u001b[0;34m\u001b[0m\u001b[0;34m\u001b[0m\u001b[0m\n\u001b[1;32m     15\u001b[0m \u001b[0mprint\u001b[0m\u001b[0;34m(\u001b[0m\u001b[0;34m\"predicted\"\u001b[0m\u001b[0;34m,\u001b[0m\u001b[0mpredicted\u001b[0m\u001b[0;34m.\u001b[0m\u001b[0mshape\u001b[0m\u001b[0;34m)\u001b[0m \u001b[0;31m#predicted (610, 9379)\u001b[0m\u001b[0;34m\u001b[0m\u001b[0;34m\u001b[0m\u001b[0m\n",
            "\u001b[0;31mNameError\u001b[0m: name 'num_users' is not defined"
          ]
        }
      ]
    },
    {
      "cell_type": "code",
      "source": [
        "from sklearn.decomposition import TruncatedSVD\n",
        "\n",
        "movie_svd = TruncatedSVD(n_components=10)\n",
        "movie_features = movie_svd.fit_transform(train_data.T)\n",
        "\n",
        "print (\"movie_features.shape = {0}\".format(movie_features.shape))\n",
        "\n",
        "user_svd = TruncatedSVD(n_components=10)\n",
        "user_features = user_svd.fit_transform(train_data)\n",
        "\n",
        "print (\"user_features.shape = {0}\".format(user_features.shape))"
      ],
      "metadata": {
        "colab": {
          "base_uri": "https://localhost:8080/"
        },
        "id": "eHU4amVr0wCH",
        "outputId": "d67de704-5dc5-4db5-9b48-7037cea047ff"
      },
      "execution_count": null,
      "outputs": [
        {
          "output_type": "stream",
          "name": "stdout",
          "text": [
            "movie_features.shape = (9379, 10)\n",
            "user_features.shape = (610, 10)\n"
          ]
        }
      ]
    },
    {
      "cell_type": "code",
      "source": [
        "train_data_columns = train_data.columns\n",
        "print(len(train_data_columns))\n",
        "train_data_rows = train_data.index.values\n",
        "print(len(train_data_rows))\n",
        "\n",
        "#print(test_data)\n",
        "print(list(zip(*np.where(test_data.notnull()))))\n",
        "print(test_data)\n",
        "\n",
        "'''\n",
        "test_data_columns = test_data.columns\n",
        "print(len(test_data_columns))\n",
        "test_data_rows = test_data.index.values\n",
        "print(len(test_data_rows))\n",
        "\n",
        "print(test_data)\n",
        "'''"
      ],
      "metadata": {
        "id": "owybAWaGY5Hd",
        "colab": {
          "base_uri": "https://localhost:8080/",
          "height": 645
        },
        "outputId": "f44a7fca-559d-4b6f-a81c-2545d1518447"
      },
      "execution_count": null,
      "outputs": [
        {
          "output_type": "stream",
          "name": "stdout",
          "text": [
            "9379\n",
            "610\n",
            "[(0, 22), (0, 34), (0, 48), (0, 65), (0, 82), (0, 90), (0, 94), (0, 95), (0, 103), (0, 104), (0, 111), (0, 114), (0, 119), (0, 134), (0, 136), (0, 142), (0, 145), (0, 148), (0, 155), (0, 163), (0, 167), (0, 176), (0, 180), (0, 199), (0, 205), (1, 226), (1, 229), (2, 115), (2, 238), (2, 243), (2, 246), (2, 253), (3, 35), (3, 100), (3, 165), (3, 191), (3, 257), (3, 265), (3, 272), (3, 288), (3, 298), (3, 332), (3, 343), (3, 344), (3, 356), (3, 363), (3, 366), (3, 373), (3, 375), (3, 380), (3, 381), (4, 0), (5, 16), (5, 17), (5, 278), (5, 391), (5, 394), (5, 417), (5, 418), (5, 419), (5, 422), (5, 425), (5, 444), (5, 446), (5, 455), (5, 467), (5, 468), (5, 470), (5, 479), (5, 492), (5, 495), (5, 496), (5, 524), (5, 533), (5, 537), (5, 542), (5, 544), (5, 546), (5, 549), (5, 551), (5, 556), (5, 557), (5, 565), (5, 568), (5, 577), (5, 580), (5, 586), (6, 19), (6, 25), (6, 260), (6, 305), (6, 404), (6, 551), (6, 599), (6, 601), (6, 604), (6, 606), (6, 611), (6, 619), (6, 623), (6, 635), (6, 636), (6, 649), (6, 650), (6, 652), (6, 667), (6, 682), (6, 685), (7, 13), (7, 19), (7, 32), (7, 275), (7, 390), (7, 478), (7, 513), (7, 520), (7, 524), (8, 695), (9, 230), (9, 380), (9, 406), (9, 631), (9, 650), (9, 670), (9, 684), (9, 710), (9, 713), (9, 730), (9, 733), (9, 737), (9, 748), (9, 751), (9, 767), (9, 769), (9, 772), (9, 785), (9, 787), (9, 788), (10, 110), (10, 800), (10, 804), (11, 28), (11, 368), (11, 574), (11, 610), (11, 814), (12, 335), (12, 825), (12, 832), (13, 32), (13, 258), (13, 283), (13, 410), (13, 421), (13, 490), (13, 504), (13, 516), (13, 521), (13, 535), (14, 27), (14, 168), (14, 184), (14, 212), (14, 239), (14, 841), (14, 865), (14, 882), (14, 886), (14, 887), (14, 901), (15, 4), (15, 15), (15, 33), (15, 57), (15, 63), (15, 210), (15, 239), (15, 463), (15, 493), (15, 905), (15, 925), (16, 4), (16, 32), (16, 51), (16, 132), (16, 184), (16, 216), (16, 252), (16, 311), (16, 794), (16, 933), (16, 949), (17, 19), (17, 33), (17, 44), (17, 106), (17, 159), (17, 213), (17, 215), (17, 216), (17, 223), (17, 228), (17, 399), (17, 539), (17, 660), (17, 739), (17, 783), (17, 858), (17, 859), (17, 877), (17, 886), (17, 919), (17, 941), (17, 942), (17, 944), (17, 956), (17, 968), (17, 987), (17, 990), (17, 1026), (17, 1045), (17, 1046), (17, 1050), (17, 1053), (17, 1067), (17, 1084), (17, 1089), (17, 1092), (17, 1105), (17, 1113), (17, 1118), (17, 1123), (17, 1126), (17, 1127), (18, 19), (18, 38), (18, 63), (18, 76), (18, 82), (18, 90), (18, 91), (18, 112), (18, 136), (18, 141), (18, 160), (18, 174), (18, 239), (18, 317), (18, 346), (18, 406), (18, 410), (18, 414), (18, 429), (18, 443), (18, 445), (18, 465), (18, 491), (18, 493), (18, 506), (18, 513), (18, 520), (18, 522), (18, 534), (18, 576), (18, 579), (18, 580), (18, 588), (18, 601), (18, 806), (18, 925), (18, 976), (18, 979), (18, 1129), (18, 1134), (18, 1135), (18, 1140), (18, 1142), (18, 1143), (18, 1154), (18, 1157), (18, 1158), (18, 1162), (18, 1166), (18, 1173), (18, 1174), (18, 1178), (18, 1180), (18, 1187), (18, 1188), (18, 1190), (18, 1210), (18, 1216), (18, 1223), (18, 1225), (18, 1229), (18, 1234), (18, 1245), (18, 1259), (18, 1270), (18, 1272), (18, 1276), (18, 1277), (18, 1286), (18, 1289), (18, 1302), (18, 1311), (18, 1329), (18, 1338), (18, 1358), (18, 1360), (18, 1363), (18, 1365), (18, 1366), (18, 1374), (19, 37), (19, 49), (19, 60), (19, 207), (19, 564), (19, 567), (19, 629), (19, 713), (19, 845), (19, 987), (19, 1182), (19, 1194), (19, 1380), (19, 1384), (19, 1391), (19, 1393), (19, 1397), (19, 1405), (19, 1406), (19, 1421), (19, 1432), (20, 14), (20, 15), (20, 21), (20, 93), (20, 160), (20, 165), (20, 173), (20, 291), (20, 412), (20, 418), (20, 522), (20, 599), (20, 602), (20, 668), (20, 672), (20, 804), (20, 822), (20, 838), (20, 1033), (20, 1079), (20, 1142), (20, 1246), (20, 1381), (20, 1418), (20, 1454), (20, 1463), (20, 1464), (20, 1465), (20, 1473), (20, 1513), (20, 1518), (20, 1519), (20, 1522), (20, 1531), (20, 1532), (20, 1541), (20, 1548), (21, 630), (21, 856), (21, 955), (21, 1018), (21, 1028), (21, 1030), (21, 1555), (21, 1558), (21, 1573), (22, 15), (22, 44), (22, 260), (22, 295), (22, 935), (22, 1578), (22, 1580), (22, 1583), (22, 1594), (22, 1600), (22, 1606), (23, 4), (23, 39), (23, 119), (23, 168), (23, 621), (23, 1540), (23, 1609), (23, 1621), (24, 216), (24, 866), (25, 397), (26, 21), (26, 37), (26, 38), (26, 40), (26, 125), (26, 144), (26, 209), (26, 427), (26, 839), (26, 908), (26, 987), (26, 1292), (26, 1633), (26, 1637), (27, 18), (27, 32), (27, 33), (27, 35), (27, 40), (27, 62), (27, 66), (27, 161), (27, 181), (27, 416), (27, 446), (27, 624), (27, 650), (27, 662), (27, 682), (27, 692), (27, 745), (27, 849), (27, 856), (27, 905), (27, 930), (27, 941), (27, 942), (27, 946), (27, 950), (27, 970), (27, 1027), (27, 1042), (27, 1210), (27, 1410), (27, 1414), (27, 1443), (27, 1558), (27, 1565), (27, 1569), (27, 1570), (27, 1609), (27, 1643), (27, 1646), (27, 1655), (27, 1679), (27, 1685), (27, 1696), (27, 1698), (27, 1699), (27, 1702), (27, 1703), (27, 1708), (27, 1709), (27, 1715), (27, 1721), (27, 1725), (27, 1726), (27, 1729), (27, 1732), (27, 1738), (27, 1741), (27, 1743), (27, 1744), (27, 1745), (27, 1750), (27, 1757), (27, 1758), (27, 1760), (27, 1761), (27, 1762), (28, 199), (28, 310), (28, 793), (28, 864), (29, 892), (30, 284), (30, 410), (30, 839), (30, 1151), (30, 1780), (31, 4), (31, 74), (31, 259), (31, 390), (31, 538), (31, 584), (32, 6), (32, 19), (32, 54), (32, 96), (32, 240), (32, 247), (32, 258), (32, 321), (32, 329), (32, 341), (32, 389), (32, 391), (32, 417), (32, 471), (32, 493), (32, 597), (32, 835), (32, 1284), (32, 1384), (32, 1588), (32, 1794), (32, 1803), (33, 150), (33, 181), (33, 348), (33, 736), (33, 825), (33, 826), (33, 1812), (33, 1818), (34, 4), (34, 395), (35, 302), (35, 325), (35, 342), (35, 627), (35, 705), (35, 828), (35, 1179), (35, 1235), (35, 1403), (35, 1824), (36, 12), (37, 24), (37, 31), (37, 266), (37, 284), (37, 450), (37, 522), (37, 541), (37, 791), (37, 1786), (38, 32), (38, 96), (38, 151), (38, 170), (38, 175), (38, 591), (38, 697), (38, 839), (39, 257), (39, 483), (39, 501), (39, 521), (39, 790), (39, 1830), (40, 33), (40, 119), (40, 129), (40, 132), (40, 173), (40, 356), (40, 406), (40, 599), (40, 619), (40, 637), (40, 662), (40, 723), (40, 736), (40, 889), (40, 892), (40, 994), (40, 1003), (40, 1055), (40, 1112), (40, 1568), (40, 1838), (40, 1851), (41, 11), (41, 31), (41, 33), (41, 41), (41, 58), (41, 154), (41, 156), (41, 175), (41, 179), (41, 189), (41, 194), (41, 195), (41, 200), (41, 281), (41, 359), (41, 374), (41, 400), (41, 416), (41, 461), (41, 508), (41, 599), (41, 709), (41, 815), (41, 836), (41, 838), (41, 844), (41, 970), (41, 1150), (41, 1202), (41, 1207), (41, 1239), (41, 1247), (41, 1256), (41, 1265), (41, 1353), (41, 1457), (41, 1459), (41, 1820), (41, 1858), (41, 1876), (41, 1878), (41, 1884), (41, 1886), (41, 1894), (41, 1896), (41, 1907), (41, 1910), (41, 1913), (41, 1917), (42, 12), (42, 18), (42, 25), (42, 34), (42, 37), (42, 283), (42, 300), (42, 391), (42, 410), (42, 413), (42, 431), (42, 484), (42, 1577), (42, 1640), (42, 1920), (42, 1921), (43, 14), (43, 439), (43, 537), (43, 1129), (43, 1150), (43, 1788), (43, 1925), (44, 2), (44, 23), (44, 118), (44, 132), (44, 161), (44, 168), (44, 170), (44, 181), (44, 257), (44, 331), (44, 349), (44, 359), (44, 363), (44, 385), (44, 394), (44, 433), (44, 458), (44, 549), (44, 612), (44, 623), (44, 624), (44, 634), (44, 689), (44, 711), (44, 813), (44, 836), (44, 853), (44, 1261), (44, 1267), (44, 1292), (44, 1343), (44, 1381), (44, 1413), (44, 1440), (44, 1653), (44, 1821), (44, 1834), (44, 1928), (44, 1934), (44, 1941), (44, 1949), (44, 1951), (44, 1955), (44, 1958), (45, 18), (45, 458), (46, 19), (46, 31), (46, 406), (46, 445), (46, 709), (46, 1849), (46, 1971), (46, 1974), (46, 1981), (46, 1983), (47, 150), (47, 841), (48, 60), (48, 231), (48, 762), (49, 0), (49, 15), (49, 84), (49, 210), (49, 252), (49, 256), (49, 290), (49, 332), (49, 378), (49, 451), (49, 573), (49, 630), (49, 779), (49, 911), (49, 937), (49, 939), (49, 997), (49, 1155), (49, 1508), (49, 1514), (49, 1620), (49, 1624), (49, 1626), (49, 1629), (49, 1992), (49, 2000), (49, 2006), (49, 2010), (49, 2011), (49, 2014), (49, 2015), (49, 2016), (49, 2017), (49, 2018), (49, 2019), (49, 2025), (49, 2027), (49, 2028), (49, 2033), (50, 1), (50, 5), (50, 63), (50, 90), (50, 94), (50, 164), (50, 339), (50, 348), (50, 454), (50, 610), (50, 639), (50, 700), (50, 713), (50, 1025), (50, 1058), (50, 1184), (50, 1215), (50, 1269), (50, 1320), (50, 1433), (50, 1749), (50, 1776), (50, 1837), (50, 1928), (50, 1972), (50, 2034), (50, 2041), (50, 2054), (50, 2059), (50, 2060), (50, 2063), (50, 2065), (50, 2067), (50, 2074), (51, 329), (51, 391), (51, 493), (51, 752), (51, 760), (51, 776), (51, 863), (51, 871), (51, 1054), (51, 1055), (51, 1740), (51, 1753), (51, 1778), (51, 2084), (51, 2087), (51, 2089), (52, 85), (52, 1786), (52, 2093), (53, 417), (53, 1139), (54, 330), (54, 807), (54, 1022), (55, 12), (55, 19), (55, 21), (55, 24), (55, 25), (55, 399), (55, 1788), (56, 0), (56, 24), (56, 26), (56, 40), (56, 61), (56, 75), (56, 80), (56, 81), (56, 83), (56, 84), (56, 91), (56, 99), (56, 107), (56, 269), (56, 284), (56, 321), (56, 350), (56, 357), (56, 404), (56, 515), (56, 597), (56, 603), (56, 796), (56, 800), (56, 940), (56, 962), (56, 1200), (56, 1208), (56, 1345), (56, 1363), (56, 1634), (56, 1863), (56, 1865), (56, 2099), (56, 2102), (56, 2107), (56, 2109), (56, 2111), (56, 2115), (57, 11), (57, 27), (57, 34), (57, 40), (57, 235), (57, 258), (57, 271), (57, 276), (57, 286), (57, 396), (57, 418), (57, 428), (57, 472), (57, 492), (57, 526), (57, 792), (58, 68), (58, 71), (58, 94), (58, 236), (58, 349), (58, 590), (58, 907), (58, 921), (58, 1552), (58, 2131), (59, 4), (59, 216), (59, 336), (60, 58), (60, 69), (60, 252), (60, 641), (60, 963), (60, 1295), (61, 68), (61, 119), (61, 150), (61, 216), (61, 593), (61, 603), (61, 621), (61, 660), (61, 788), (61, 842), (61, 877), (61, 965), (61, 1022), (61, 1044), (61, 1110), (61, 1119), (61, 1126), (61, 1433), (61, 1473), (61, 1538), (61, 1622), (61, 1734), (61, 1739), (61, 2137), (61, 2144), (61, 2150), (61, 2155), (62, 3), (62, 4), (62, 6), (62, 12), (62, 32), (62, 41), (62, 56), (62, 62), (62, 63), (62, 211), (62, 216), (62, 252), (62, 285), (62, 329), (62, 412), (62, 612), (62, 627), (62, 776), (62, 866), (62, 885), (62, 1343), (62, 1369), (62, 1505), (62, 1527), (62, 1689), (62, 2178), (62, 2185), (62, 2189), (63, 2), (63, 14), (63, 40), (63, 52), (63, 78), (63, 92), (63, 119), (63, 138), (63, 141), (63, 160), (63, 168), (63, 181), (63, 189), (63, 191), (63, 208), (63, 236), (63, 286), (63, 305), (63, 309), (63, 346), (63, 421), (63, 448), (63, 458), (63, 505), (63, 510), (63, 513), (63, 543), (63, 612), (63, 613), (63, 618), (63, 622), (63, 630), (63, 643), (63, 670), (63, 705), (63, 718), (63, 832), (63, 932), (63, 937), (63, 975), (63, 997), (63, 1267), (63, 1268), (63, 1273), (63, 1300), (63, 1303), (63, 1340), (63, 1459), (63, 1466), (63, 1564), (63, 1583), (63, 1770), (63, 1808), (63, 1828), (63, 2065), (63, 2098), (63, 2198), (63, 2217), (63, 2219), (64, 210), (64, 231), (64, 1109), (64, 1566), (65, 0), (65, 24), (65, 55), (65, 76), (65, 79), (65, 143), (65, 257), (65, 318), (65, 374), (65, 457), (65, 469), (65, 568), (65, 640), (65, 686), (65, 849), (65, 911), (65, 954), (65, 963), (65, 1217), (65, 1253), (65, 1368), (65, 1579), (65, 1635), (65, 1643), (65, 1798), (65, 1897), (65, 1916), (65, 1923), (65, 2059), (65, 2221), (65, 2231), (65, 2238), (66, 493), (67, 10), (67, 11), (67, 12), (67, 44), (67, 53), (67, 65), (67, 82), (67, 97), (67, 112), (67, 117), (67, 126), (67, 143), (67, 150), (67, 177), (67, 181), (67, 211), (67, 216), (67, 268), (67, 317), (67, 356), (67, 407), (67, 412), (67, 456), (67, 503), (67, 505), (67, 554), (67, 592), (67, 594), (67, 625), (67, 634), (67, 653), (67, 702), (67, 738), (67, 759), (67, 786), (67, 813), (67, 822), (67, 844), (67, 854), (67, 857), (67, 882), (67, 892), (67, 899), (67, 902), (67, 904), (67, 911), (67, 919), (67, 923), (67, 944), (67, 974), (67, 980), (67, 985), (67, 993), (67, 1029), (67, 1040), (67, 1057), (67, 1074), (67, 1087), (67, 1108), (67, 1114), (67, 1139), (67, 1265), (67, 1276), (67, 1307), (67, 1312), (67, 1324), (67, 1345), (67, 1408), (67, 1409), (67, 1417), (67, 1430), (67, 1443), (67, 1444), (67, 1453), (67, 1456), (67, 1459), (67, 1485), (67, 1558), (67, 1586), (67, 1595), (67, 1624), (67, 1629), (67, 1661), (67, 1684), (67, 1701), (67, 1757), (67, 1797), (67, 1804), (67, 1826), (67, 1843), (67, 1895), (67, 1897), (67, 1959), (67, 1974), (67, 2066), (67, 2076), (67, 2107), (67, 2108), (67, 2148), (67, 2150), (67, 2156), (67, 2213), (67, 2251), (67, 2252), (67, 2259), (67, 2260), (67, 2261), (67, 2263), (67, 2264), (67, 2265), (67, 2268), (67, 2275), (67, 2276), (67, 2280), (67, 2283), (67, 2287), (67, 2291), (67, 2292), (67, 2305), (67, 2306), (67, 2307), (67, 2308), (67, 2310), (67, 2312), (67, 2313), (67, 2318), (67, 2319), (67, 2326), (67, 2331), (67, 2335), (68, 15), (68, 207), (68, 312), (68, 348), (69, 68), (69, 80), (69, 311), (69, 654), (69, 758), (69, 936), (69, 1673), (69, 2348), (69, 2349), (70, 0), (70, 39), (70, 68), (70, 449), (70, 569), (70, 570), (70, 795), (71, 1468), (71, 2224), (71, 2350), (72, 612), (72, 657), (72, 671), (72, 713), (72, 979), (72, 1017), (72, 1065), (72, 1088), (72, 1090), (72, 1107), (72, 1435), (72, 1478), (72, 1569), (72, 1614), (72, 1620), (72, 1846), (72, 1979), (72, 2212), (72, 2288), (72, 2320), (72, 2338), (72, 2358), (72, 2361), (72, 2362), (73, 96), (73, 302), (73, 333), (73, 703), (73, 861), (73, 941), (73, 1000), (73, 1553), (73, 1612), (73, 1657), (73, 1753), (73, 2376), (73, 2380), (73, 2381), (73, 2384), (73, 2386), (74, 58), (74, 312), (74, 522), (74, 595), (74, 645), (74, 657), (75, 67), (75, 596), (75, 705), (75, 742), (75, 904), (75, 931), (75, 1024), (75, 1111), (75, 1130), (75, 1562), (75, 1567), (75, 2391), (76, 150), (76, 624), (77, 36), (77, 161), (77, 399), (77, 1045), (78, 14), (78, 24), (78, 68), (78, 138), (78, 199), (78, 404), (78, 1325), (78, 2231), (78, 2395), (79, 173), (79, 212), (79, 391), (79, 618), (79, 621), (79, 748), (79, 759), (79, 876), (79, 942), (79, 1045), (79, 1052), (79, 1282), (80, 210), (80, 399), (80, 404), (80, 490), (80, 513), (81, 2), (81, 93), (81, 276), (81, 285), (81, 388), (81, 397), (81, 453), (81, 499), (81, 626), (81, 911), (81, 942), (81, 973), (81, 1693), (81, 1954), (81, 2046), (81, 2242), (81, 2406), (81, 2407), (81, 2410), (81, 2411), (81, 2418), (81, 2421), (82, 25), (82, 73), (82, 210), (82, 621), (82, 734), (82, 759), (82, 765), (82, 842), (82, 938), (82, 999), (82, 1560), (82, 1596), (82, 2389), (83, 209), (83, 240), (83, 243), (83, 279), (83, 302), (83, 303), (83, 312), (83, 395), (83, 408), (83, 413), (83, 417), (83, 426), (83, 438), (83, 440), (83, 473), (83, 487), (83, 505), (83, 554), (83, 708), (83, 818), (83, 1142), (83, 1145), (83, 1918), (83, 2037), (83, 2105), (83, 2107), (83, 2247), (83, 2394), (83, 2428), (83, 2430), (83, 2433), (83, 2437), (83, 2440), (84, 321), (84, 402), (85, 775), (85, 866), (85, 1003), (86, 122), (86, 1173), (86, 2443), (87, 222), (87, 621), (87, 641), (87, 1000), (87, 1226), (87, 2445), (87, 2447), (88, 56), (88, 178), (88, 371), (88, 638), (88, 737), (88, 927), (88, 980), (88, 991), (88, 1158), (88, 1382), (88, 1490), (88, 1492), (88, 1507), (88, 1528), (88, 1534), (88, 1536), (88, 1816), (88, 1986), (88, 2338), (88, 2355), (88, 2364), (88, 2449), (88, 2453), (88, 2458), (88, 2459), (88, 2460), (88, 2462), (88, 2463), (88, 2464), (88, 2466), (88, 2470), (88, 2472), (88, 2479), (88, 2482), (88, 2485), (88, 2486), (88, 2487), (88, 2488), (88, 2489), (88, 2491), (88, 2492), (88, 2495), (88, 2496), (88, 2497), (88, 2498), (88, 2499), (88, 2500), (88, 2503), (88, 2504), (88, 2505), (88, 2506), (88, 2507), (89, 55), (89, 2512), (89, 2515), (89, 2516), (90, 0), (90, 4), (90, 14), (90, 15), (90, 18), (90, 35), (90, 59), (90, 72), (90, 121), (90, 137), (90, 148), (90, 163), (90, 172), (90, 178), (90, 199), (90, 201), (90, 207), (90, 332), (90, 348), (90, 374), (90, 397), (90, 404), (90, 447), (90, 477), (90, 490), (90, 590), (90, 593), (90, 598), (90, 605), (90, 620), (90, 624), (90, 638), (90, 646), (90, 712), (90, 917), (90, 919), (90, 925), (90, 926), (90, 948), (90, 963), (90, 988), (90, 1153), (90, 1179), (90, 1201), (90, 1237), (90, 1244), (90, 1343), (90, 1363), (90, 1451), (90, 1456), (90, 1605), (90, 2070), (90, 2095), (90, 2192), (90, 2215), (90, 2285), (90, 2528), (90, 2529), (90, 2536), (90, 2539), (91, 500), (91, 814), (91, 2049), (92, 14), (92, 19), (92, 31), (92, 116), (92, 210), (92, 249), (92, 321), (92, 388), (92, 392), (92, 452), (92, 501), (92, 971), (92, 1218), (92, 1377), (93, 412), (93, 417), (94, 52), (94, 63), (94, 202), (94, 262), (94, 263), (94, 404), (94, 609), (94, 625), (94, 649), (94, 839), (94, 856), (94, 904), (94, 1344), (94, 1829), (94, 2036), (94, 2240), (94, 2556), (94, 2561), (95, 6), (95, 39), (95, 97), (95, 513), (95, 526), (95, 595), (95, 849), (95, 852), (95, 2563), (96, 150), (96, 199), (96, 605), (96, 853), (96, 910), (97, 378), (97, 749), (97, 912), (97, 1039), (97, 1044), (97, 1481), (97, 2277), (98, 210), (98, 391), (98, 399), (98, 451), (98, 493), (98, 503), (98, 1139), (98, 1858), (98, 1919), (99, 13), (99, 44), (99, 72), (99, 290), (99, 416), (99, 513), (99, 720), (99, 1238), (99, 1252), (99, 1281), (99, 1379), (99, 1435), (99, 1897), (99, 2094), (99, 2106), (100, 161), (100, 199), (100, 822), (100, 924), (100, 925), (100, 1339), (100, 1879), (101, 1), (101, 3), (101, 32), (101, 395), (101, 447), (101, 450), (101, 473), (102, 67), (102, 86), (102, 218), (102, 222), (102, 295), (102, 370), (102, 388), (102, 389), (102, 595), (102, 612), (102, 623), (102, 649), (102, 669), (102, 708), (102, 754), (102, 771), (102, 836), (102, 851), (102, 862), (102, 929), (102, 939), (102, 1029), (102, 1049), (102, 1077), (102, 1142), (102, 1244), (102, 1401), (102, 1402), (102, 1422), (102, 1470), (102, 1547), (102, 1563), (102, 1629), (102, 1758), (102, 1769), (102, 1774), (102, 2438), (102, 2473), (102, 2574), (102, 2576), (102, 2578), (102, 2579), (102, 2585), (103, 39), (103, 284), (103, 493), (103, 618), (103, 629), (103, 637), (103, 746), (103, 838), (103, 1024), (103, 1146), (103, 1409), (103, 1649), (103, 2206), (103, 2261), (103, 2278), (103, 2311), (103, 2423), (103, 2562), (103, 2589), (103, 2597), (103, 2599), (104, 19), (104, 110), (104, 132), (104, 150), (104, 215), (104, 232), (104, 234), (104, 307), (104, 333), (104, 382), (104, 590), (104, 610), (104, 620), (104, 623), (104, 649), (104, 650), (104, 655), (104, 662), (104, 729), (104, 864), (104, 887), (104, 890), (104, 892), (104, 899), (104, 904), (104, 914), (104, 920), (104, 931), (104, 955), (104, 956), (104, 985), (104, 991), (104, 1047), (104, 1069), (104, 1086), (104, 1091), (104, 1158), (104, 1423), (104, 1491), (104, 1493), (104, 1567), (104, 1572), (104, 1584), (104, 1613), (104, 1684), (104, 1764), (104, 1815), (104, 1835), (104, 2030), (104, 2037), (104, 2150), (104, 2163), (104, 2190), (104, 2204), (104, 2265), (104, 2274), (104, 2368), (104, 2369), (104, 2449), (104, 2600), (104, 2601), (104, 2603), (104, 2605), (104, 2606), (104, 2610), (104, 2611), (104, 2614), (104, 2615), (104, 2616), (104, 2620), (104, 2621), (104, 2622), (104, 2623), (104, 2624), (104, 2625), (104, 2626), (104, 2627), (104, 2628), (104, 2629), (104, 2631), (104, 2632), (104, 2633), (104, 2634), (104, 2635), (105, 754), (105, 759), (105, 876), (105, 1470), (106, 395), (106, 520), (106, 521), (107, 25), (107, 932), (107, 1321), (107, 2061), (107, 2264), (107, 2641), (107, 2642), (108, 3), (108, 11), (108, 33), (108, 258), (108, 259), (108, 389), (108, 390), (108, 428), (108, 451), (108, 501), (108, 509), (108, 516), (108, 578), (108, 1833), (108, 2426), (109, 626), (109, 1280), (109, 1945), (109, 2216), (109, 2644), (110, 64), (110, 99), (110, 102), (110, 132), (110, 150), (110, 228), (110, 326), (110, 327), (110, 366), (110, 382), (110, 565), (110, 657), (110, 700), (110, 759), (110, 778), (110, 789), (110, 816), (110, 956), (110, 1001), (110, 1050), (110, 1064), (110, 1142), (110, 1369), (110, 1400), (110, 1412), (110, 1474), (110, 1479), (110, 1537), (110, 1543), (110, 1574), (110, 1618), (110, 1843), (110, 1845), (110, 1846), (110, 1941), (110, 1957), (110, 2288), (110, 2303), (110, 2416), (110, 2495), (110, 2502), (110, 2509), (110, 2604), (110, 2649), (110, 2653), (110, 2660), (110, 2666), (110, 2667), (110, 2668), (110, 2673), (110, 2676), (110, 2679), (110, 2680), (110, 2683), (110, 2687), (110, 2688), (110, 2690), (110, 2691), (110, 2692), (110, 2693), (110, 2694), (110, 2695), (111, 0), (111, 184), (111, 389), (111, 393), (111, 421), (111, 504), (111, 752), (112, 14), (112, 390), (112, 413), (112, 599), (112, 710), (112, 1201), (112, 2037), (112, 2110), (112, 2244), (112, 2252), (112, 2555), (112, 2696), (112, 2698), (112, 2704), (113, 230), (113, 892), (113, 1498), (114, 87), (114, 110), (114, 170), (114, 181), (114, 849), (114, 1201), (114, 1334), (114, 1629), (114, 2520), (115, 19), (115, 25), (115, 346), (115, 623), (115, 709), (115, 734), (115, 1182), (115, 1449), (116, 3), (116, 15), (116, 40), (116, 42), (116, 403), (116, 404), (116, 410), (116, 422), (116, 440), (116, 459), (116, 480), (116, 526), (116, 565), (116, 834), (116, 940), (116, 965), (116, 1798), (117, 838), (118, 80), (118, 100), (118, 132), (118, 230), (118, 614), (118, 632), (118, 639), (118, 741), (118, 744), (118, 770), (118, 786), (118, 1068), (118, 1083), (118, 1100), (118, 1410), (118, 1512), (118, 1562), (118, 1734), (118, 1994), (118, 2494), (118, 2714), (119, 41), (119, 68), (119, 409), (119, 445), (120, 3), (120, 396), (120, 399), (120, 406), (120, 526), (120, 541), (121, 14), (121, 25), (121, 149), (121, 189), (121, 383), (121, 404), (121, 490), (121, 596), (121, 617), (121, 710), (121, 748), (121, 786), (121, 888), (121, 1052), (121, 1061), (121, 1101), (121, 1173), (121, 1432), (121, 1504), (121, 1552), (121, 1779), (121, 1994), (121, 2175), (121, 2328), (121, 2581), (121, 2682), (121, 2718), (121, 2719), (121, 2721), (122, 132), (122, 618), (122, 878), (122, 886), (122, 1035), (123, 15), (123, 134), (123, 720), (123, 808), (123, 975), (124, 97), (124, 100), (124, 159), (124, 173), (124, 212), (124, 232), (124, 352), (124, 490), (124, 637), (124, 772), (124, 774), (124, 819), (124, 838), (124, 864), (124, 871), (124, 898), (124, 936), (124, 1063), (124, 1070), (124, 1081), (124, 1082), (124, 1095), (124, 1126), (124, 1478), (124, 1523), (124, 1526), (124, 1855), (124, 2005), (124, 2035), (124, 2147), (124, 2168), (124, 2398), (124, 2552), (124, 2610), (124, 2627), (124, 2681), (124, 2685), (124, 2727), (124, 2731), (124, 2733), (124, 2735), (124, 2740), (124, 2741), (124, 2742), (124, 2743), (125, 26), (125, 285), (125, 399), (126, 752), (126, 2346), (127, 801), (127, 2102), (127, 2365), (127, 2449), (128, 68), (128, 91), (128, 99), (128, 150), (128, 159), (128, 180), (128, 393), (128, 465), (128, 475), (128, 668), (128, 794), (128, 931), (128, 2208), (128, 2745), (129, 6), (129, 31), (129, 32), (129, 210), (129, 285), (130, 215), (130, 235), (130, 838), (130, 1272), (130, 1663), (130, 2748), (131, 19), (131, 32), (131, 38), (131, 52), (131, 78), (131, 100), (131, 165), (131, 212), (131, 249), (131, 299), (131, 340), (131, 379), (131, 393), (131, 596), (131, 620), (131, 668), (131, 705), (131, 711), (131, 712), (131, 715), (131, 722), (131, 866), (131, 956), (131, 983), (131, 1014), (131, 1023), (131, 1173), (131, 1193), (131, 1293), (131, 1557), (131, 1588), (131, 1650), (131, 1710), (131, 2095), (131, 2175), (131, 2200), (131, 2255), (131, 2423), (131, 2592), (131, 2608), (131, 2609), (132, 4), (132, 284), (132, 513), (132, 526), (133, 9), (133, 30), (134, 8), (134, 12), (134, 14), (134, 21), (134, 33), (134, 35), (134, 70), (134, 110), (134, 127), (134, 137), (134, 320), (134, 325), (134, 369), (134, 384), (134, 492), (134, 493), (134, 529), (134, 925), (134, 1177), (134, 1236), (134, 1300), (134, 1346), (134, 1861), (134, 2758), (134, 2762), (135, 392), (135, 428), (135, 446), (135, 483), (135, 485), (135, 499), (135, 505), (135, 1640), (136, 6), (136, 150), (136, 209), (136, 244), (136, 619), (136, 734), (136, 918), (136, 1345), (136, 1627), (136, 1771), (136, 2038), (136, 2097), (136, 2130), (137, 609), (137, 637), (137, 670), (137, 683), (137, 700), (137, 775), (137, 783), (137, 827), (137, 829), (137, 862), (137, 994), (137, 1038), (137, 1088), (137, 1423), (137, 1427), (137, 1431), (137, 1573), (137, 1702), (137, 1985), (137, 2147), (137, 2185), (137, 2276), (138, 20), (138, 36), (138, 58), (138, 63), (138, 65), (138, 69), (138, 94), (138, 110), (138, 185), (138, 211), (138, 321), (138, 374), (138, 439), (138, 451), (138, 467), (138, 504), (138, 552), (138, 577), (138, 618), (138, 619), (138, 637), (138, 640), (138, 642), (138, 708), (138, 852), (138, 915), (138, 975), (138, 1154), (138, 1161), (138, 1208), (138, 1316), (138, 1392), (138, 1406), (138, 1409), (138, 1422), (138, 1449), (138, 1599), (138, 1662), (138, 1664), (138, 1677), (138, 1689), (138, 1720), (138, 1783), (138, 1823), (138, 1961), (138, 1967), (138, 2099), (138, 2211), (138, 2251), (138, 2272), (138, 2298), (138, 2383), (138, 2394), (138, 2541), (138, 2778), (138, 2779), (138, 2780), (138, 2781), (138, 2787), (138, 2790), (138, 2791), (138, 2795), (138, 2800), (138, 2801), (138, 2805), (138, 2809), (139, 15), (139, 100), (139, 110), (139, 160), (139, 197), (139, 199), (139, 210), (139, 233), (139, 646), (139, 785), (139, 816), (139, 878), (139, 892), (139, 1003), (139, 1189), (139, 1267), (139, 1469), (139, 1739), (140, 15), (140, 27), (140, 32), (141, 222), (141, 784), (141, 1244), (141, 1343), (141, 1354), (141, 1569), (141, 1839), (141, 2423), (141, 2811), (142, 3), (142, 106), (142, 150), (142, 258), (142, 593), (142, 836), (142, 1425), (142, 2179), (143, 0), (143, 392), (143, 396), (143, 465), (144, 539), (144, 572), (144, 579), (144, 846), (144, 1359), (145, 9), (145, 28), (145, 459), (145, 963), (146, 222), (146, 385), (146, 620), (146, 629), (146, 1470), (146, 1841), (147, 837), (147, 1151), (147, 2813), (148, 39), (148, 409), (149, 40), (149, 79), (149, 435), (149, 438), (149, 1148), (149, 1149), (149, 2817), (150, 132), (150, 292), (150, 838), (150, 903), (151, 107), (151, 153), (151, 173), (151, 327), (151, 385), (151, 621), (151, 1034), (151, 1128), (151, 1425), (151, 1446), (151, 1487), (151, 1521), (151, 1561), (151, 1979), (151, 2166), (151, 2820), (151, 2821), (152, 1073), (152, 2812), (152, 2822), (153, 0), (153, 14), (153, 91), (153, 245), (153, 324), (153, 1938), (153, 2408), (153, 2824), (154, 3), (154, 69), (154, 91), (154, 129), (154, 137), (154, 163), (154, 170), (154, 209), (154, 243), (154, 273), (154, 289), (154, 298), (154, 299), (154, 309), (154, 315), (154, 329), (154, 332), (154, 347), (154, 353), (154, 371), (154, 374), (154, 551), (154, 591), (154, 603), (154, 688), (154, 904), (154, 932), (154, 1251), (154, 1268), (154, 1274), (154, 1389), (154, 1414), (154, 1419), (154, 1596), (154, 1660), (154, 1769), (154, 1873), (154, 2050), (154, 2119), (154, 2172), (154, 2452), (154, 2786), (154, 2833), (154, 2834), (154, 2835), (154, 2839), (154, 2840), (154, 2841), (154, 2842), (155, 200), (156, 380), (156, 382), (156, 504), (156, 612), (156, 662), (156, 684), (156, 709), (156, 714), (156, 745), (156, 1487), (156, 1566), (156, 1667), (156, 1845), (156, 2157), (156, 2301), (157, 3), (157, 15), (157, 61), (157, 68), (157, 80), (157, 114), (157, 202), (157, 207), (157, 506), (157, 521), (157, 551), (157, 600), (157, 689), (157, 793), (157, 796), (157, 903), (157, 962), (157, 999), (157, 1137), (157, 1151), (157, 1155), (157, 1277), (157, 1379), (157, 1425), (157, 1461), (157, 1788), (157, 1857), (157, 1984), (157, 2045), (157, 2098), (157, 2106), (157, 2252), (157, 2375), (157, 2514), (157, 2523), (157, 2843), (157, 2845), (157, 2846), (157, 2852), (157, 2856), (157, 2858), (158, 247), (159, 210), (160, 99), (160, 597), (160, 1200), (160, 1206), (160, 2248), (161, 32), (161, 592), (161, 940), (161, 971), (162, 23), (162, 332), (162, 627), (162, 714), (162, 942), (162, 2064), (162, 2861), (163, 0), (163, 2), (163, 36), (163, 76), (163, 161), (163, 258), (163, 378), (163, 543), (163, 625), (163, 650), (163, 681), (163, 720), (163, 919), (163, 994), (163, 1443), (164, 25), (164, 56), (164, 201), (164, 210), (164, 796), (164, 994), (164, 1295), (164, 1413), (164, 1906), (164, 1927), (164, 2254), (165, 28), (165, 71), (165, 590), (165, 838), (165, 915), (166, 1), (166, 12), (166, 37), (166, 62), (166, 101), (166, 110), (166, 184), (166, 315), (166, 382), (166, 405), (166, 499), (166, 524), (166, 555), (166, 618), (166, 619), (166, 712), (166, 717), (166, 718), (166, 719), (166, 1007), (166, 1151), (166, 1343), (166, 1378), (166, 1396), (166, 1397), (166, 2208), (166, 2393), (167, 6), (167, 26), (167, 30), (167, 39), (167, 405), (168, 3), (168, 238), (168, 258), (168, 309), (168, 499), (168, 908), (169, 68), (169, 207), (170, 406), (171, 16), (171, 17), (171, 18), (171, 258), (171, 283), (171, 390), (171, 396), (171, 449), (171, 459), (171, 510), (171, 532), (172, 675), (172, 726), (172, 2869), (173, 32), (173, 41), (173, 390), (173, 532), (174, 25), (174, 79), (174, 180), (174, 188), (174, 216), (174, 249), (174, 314), (174, 362), (174, 413), (174, 482), (174, 507), (174, 527), (174, 541), (174, 599), (174, 610), (174, 612), (174, 620), (174, 621), (174, 641), (174, 646), (174, 658), (174, 660), (174, 692), (174, 716), (174, 717), (174, 722), (174, 736), (174, 784), (174, 817), (174, 827), (174, 828), (174, 849), (174, 883), (174, 1029), (174, 1069), (174, 1105), (174, 1171), (174, 1191), (174, 1233), (174, 1235), (174, 1324), (174, 1355), (174, 1439), (174, 1473), (174, 1500), (174, 1551), (174, 1576), (174, 1613), (174, 1705), (174, 1778), (174, 1828), (174, 2073), (174, 2132), (174, 2148), (174, 2211), (174, 2228), (174, 2244), (174, 2267), (174, 2429), (174, 2479), (174, 2552), (174, 2678), (174, 2873), (174, 2876), (174, 2887), (174, 2891), (174, 2893), (174, 2894), (175, 33), (175, 79), (175, 132), (175, 399), (175, 637), (175, 641), (175, 1418), (175, 1654), (175, 1731), (175, 1867), (176, 1), (176, 442), (176, 587), (177, 150), (177, 156), (177, 173), (177, 917), (178, 18), (178, 31), (178, 32), (178, 34), (178, 257), (178, 300), (178, 409), (178, 450), (178, 493), (178, 510), (178, 511), (178, 515), (178, 520), (178, 522), (178, 525), (178, 529), (178, 532), (178, 551), (178, 589), (178, 2099), (179, 25), (179, 58), (179, 63), (179, 64), (179, 67), (179, 73), (179, 80), (179, 84), (179, 147), (179, 151), (179, 182), (179, 204), (179, 208), (179, 317), (179, 380), (179, 391), (179, 424), (179, 513), (179, 622), (179, 701), (179, 704), (179, 710), (179, 712), (179, 795), (179, 799), (179, 826), (179, 829), (179, 854), (179, 857), (179, 910), (179, 926), (179, 943), (179, 964), (179, 970), (179, 974), (179, 990), (179, 1035), (179, 1144), (179, 1208), (179, 1297), (179, 1305), (179, 1369), (179, 1386), (179, 1419), (179, 1438), (179, 1551), (179, 1553), (179, 1592), (179, 1627), (179, 1640), (179, 1697), (179, 1728), (179, 1791), (179, 1801), (179, 1811), (179, 1881), (179, 1885), (179, 1888), (179, 1910), (179, 1934), (179, 1970), (179, 2122), (179, 2206), (179, 2257), (179, 2372), (179, 2374), (179, 2443), (179, 2448), (179, 2542), (179, 2547), (179, 2587), (179, 2602), (179, 2643), (179, 2650), (179, 2757), (179, 2759), (179, 2770), (179, 2783), (179, 2788), (179, 2790), (179, 2802), (179, 2859), (179, 2862), (179, 2864), (179, 2873), (179, 2899), (179, 2900), (179, 2901), (179, 2903), (179, 2909), (179, 2910), (179, 2911), (179, 2913), (179, 2914), (179, 2920), (179, 2922), (179, 2930), (179, 2931), (180, 70), (180, 72), (180, 89), (180, 177), (180, 1668), (180, 2934), (181, 785), (181, 786), (181, 1980), (181, 2032), (181, 2159), (181, 2164), (181, 2170), (181, 2715), (181, 2938), (181, 2940), (182, 252), (182, 388), (182, 714), (182, 1401), (182, 2907), (183, 63), (183, 119), (183, 196), (183, 205), (183, 317), (183, 398), (183, 499), (183, 513), (183, 600), (183, 608), (183, 621), (183, 711), (183, 824), (183, 850), (183, 1151), (183, 1158), (183, 1221), (183, 1268), (183, 1295), (183, 1314), (183, 1984), (183, 2094), (183, 2870), (183, 2946), (183, 2947), (183, 2948), (184, 4), (184, 11), (184, 62), (184, 65), (184, 70), (184, 100), (184, 160), (184, 178), (184, 319), (184, 356), (184, 378), (184, 383), (184, 387), (184, 446), (184, 620), (184, 697), (184, 720), (184, 917), (184, 938), (184, 961), (184, 1558), (184, 1746), (184, 2180), (184, 2207), (184, 2608), (184, 2924), (184, 2952), (185, 292), (185, 980), (185, 1249), (185, 1805), (185, 2958), (186, 33), (186, 199), (186, 210), (186, 222), (186, 348), (186, 641), (186, 744), (187, 210), (187, 618), (187, 632), (188, 0), (188, 238), (188, 273), (188, 437), (188, 447), (188, 469), (188, 497), (188, 2963), (189, 3), (189, 498), (189, 499), (190, 63), (190, 1792), (191, 640), (192, 30), (192, 93), (192, 100), (192, 292), (192, 333), (192, 375), (192, 391), (192, 450), (192, 451), (192, 521), (192, 596), (192, 794), (192, 827), (192, 903), (192, 1402), (192, 1682), (192, 1899), (192, 2051), (192, 2914), (193, 631), (193, 841), (193, 994), (194, 4), (194, 32), (194, 941), (194, 1246), (194, 1302), (194, 1788), (195, 14), (195, 41), (195, 57), (195, 65), (195, 98), (195, 133), (195, 150), (195, 159), (195, 275), (195, 389), (195, 398), (195, 618), (195, 624), (195, 625), (195, 710), (195, 821), (195, 915), (195, 979), (195, 1155), (195, 1183), (195, 1359), (195, 1455), (195, 1814), (195, 2252), (195, 2343), (196, 44), (196, 62), (196, 70), (196, 140), (196, 178), (196, 201), (196, 244), (196, 280), (196, 321), (196, 493), (196, 513), (196, 597), (196, 635), (196, 648), (196, 819), (196, 903), (196, 907), (196, 980), (196, 995), (196, 1004), (196, 1319), (196, 1335), (196, 1381), (196, 1422), (196, 1627), (196, 1668), (196, 1714), (196, 1731), (196, 1748), (196, 1822), (196, 2114), (196, 2131), (196, 2287), (196, 2699), (196, 2825), (196, 2968), (196, 2972), (196, 2973), (196, 2974), (197, 48), (197, 72), (197, 251), (197, 275), (197, 335), (197, 345), (197, 451), (197, 596), (197, 599), (197, 620), (197, 621), (197, 660), (197, 670), (197, 678), (197, 700), (197, 708), (197, 729), (197, 936), (197, 1322), (197, 1381), (197, 1412), (197, 1449), (197, 1566), (197, 1733), (197, 1740), (197, 2609), (198, 32), (198, 60), (198, 93), (198, 100), (198, 116), (198, 156), (198, 247), (198, 311), (198, 335), (198, 341), (198, 391), (198, 458), (198, 598), (198, 1253), (199, 19), (199, 32), (199, 43), (199, 66), (199, 76), (199, 139), (199, 155), (199, 205), (199, 275), (199, 296), (199, 321), (199, 336), (199, 511), (199, 578), (199, 585), (199, 591), (199, 795), (199, 811), (199, 812), (199, 844), (199, 919), (199, 950), (199, 977), (199, 978), (199, 981), (199, 1136), (199, 1139), (199, 1183), (199, 1267), (199, 1352), (199, 1447), (199, 1454), (199, 1553), (199, 1588), (199, 1669), (199, 1783), (199, 1936), (199, 1965), (199, 2222), (199, 2246), (199, 2262), (199, 2440), (199, 2703), (199, 2777), (199, 2935), (199, 2976), (199, 2978), (199, 2979), (199, 2981), (199, 2982), (199, 2985), (200, 18), (200, 170), (200, 618), (200, 1470), (201, 218), (201, 493), (201, 752), (201, 842), (201, 2986), (202, 385), (202, 774), (202, 1500), (202, 2016), (203, 37), (203, 287), (203, 410), (203, 574), (204, 556), (204, 924), (204, 1332), (205, 153), (206, 110), (206, 154), (206, 173), (206, 219), (206, 348), (206, 631), (206, 1742), (206, 2989), (207, 15), (207, 161), (207, 385), (207, 404), (207, 532), (207, 612), (207, 621), (207, 624), (207, 864), (207, 877), (207, 894), (207, 1544), (207, 1623), (207, 2508), (207, 2937), (207, 2990), (207, 2992), (207, 2993), (207, 2995), (207, 2998), (208, 14), (208, 593), (208, 606), (208, 650), (208, 668), (208, 744), (208, 913), (208, 939), (208, 1028), (208, 1454), (208, 1716), (208, 2095), (208, 2157), (209, 72), (209, 150), (209, 368), (209, 374), (209, 657), (209, 744), (209, 776), (209, 785), (209, 855), (209, 876), (209, 891), (209, 955), (209, 980), (209, 1049), (209, 1506), (209, 1543), (209, 2029), (209, 2152), (209, 2812), (209, 2997), (209, 2999), (209, 3000), (209, 3001), (209, 3002), (210, 76), (210, 295), (210, 698), (210, 742), (210, 824), (210, 838), (210, 1058), (210, 2792), (211, 417), (211, 421), (212, 19), (212, 57), (212, 84), (212, 335), (212, 593), (212, 840), (212, 965), (212, 1312), (212, 2343), (213, 137), (213, 175), (213, 315), (213, 353), (213, 372), (213, 398), (213, 852), (213, 1167), (213, 1244), (213, 1301), (213, 1396), (213, 1833), (213, 2134), (213, 2449), (213, 2829), (213, 2906), (214, 45), (214, 56), (214, 108), (214, 116), (214, 128), (214, 134), (214, 179), (214, 237), (214, 238), (214, 275), (214, 348), (214, 359), (214, 400), (214, 434), (214, 520), (214, 523), (214, 592), (214, 803), (214, 839), (214, 847), (214, 914), (214, 972), (214, 973), (214, 1137), (214, 1138), (214, 1150), (214, 1182), (214, 1212), (214, 1213), (214, 1222), (214, 1227), (214, 1246), (214, 1298), (214, 1299), (214, 1309), (214, 1632), (214, 1648), (214, 1772), (214, 1776), (214, 1787), (214, 1879), (214, 1895), (214, 1946), (214, 2047), (214, 2053), (214, 2093), (214, 2125), (214, 2245), (214, 2395), (214, 2408), (214, 2832), (214, 3006), (214, 3012), (215, 65), (215, 97), (215, 158), (215, 310), (215, 1261), (216, 14), (216, 36), (216, 94), (216, 110), (216, 114), (216, 119), (216, 151), (216, 153), (216, 165), (216, 177), (216, 251), (216, 257), (216, 299), (216, 351), (216, 357), (216, 378), (216, 412), (216, 493), (216, 499), (216, 521), (216, 615), (216, 624), (216, 639), (216, 645), (216, 670), (216, 826), (216, 946), (216, 962), (216, 988), (216, 1027), (216, 1062), (216, 1189), (216, 1205), (216, 1398), (216, 1409), (216, 1415), (216, 1443), (216, 1561), (216, 1611), (216, 1613), (216, 1716), (216, 1733), (216, 1751), (216, 1789), (216, 1817), (216, 1841), (216, 1888), (216, 2079), (216, 2148), (216, 2270), (216, 2281), (216, 2288), (216, 2302), (216, 2383), (216, 2540), (216, 2745), (216, 2890), (216, 3023), (216, 3027), (216, 3028), (216, 3029), (217, 11), (217, 16), (217, 25), (217, 31), (217, 57), (217, 63), (217, 78), (217, 141), (217, 174), (217, 258), (217, 388), (217, 451), (217, 513), (217, 627), (217, 635), (217, 748), (217, 859), (217, 866), (217, 940), (217, 987), (217, 1207), (217, 1343), (217, 1489), (217, 2697), (218, 15), (218, 35), (218, 58), (218, 72), (218, 169), (218, 174), (218, 175), (218, 178), (218, 201), (218, 262), (218, 280), (218, 295), (218, 301), (218, 323), (218, 329), (218, 369), (218, 661), (218, 672), (218, 801), (218, 907), (218, 937), (218, 1642), (218, 1795), (218, 2097), (218, 2196), (218, 2205), (218, 2273), (218, 2521), (218, 2559), (218, 2875), (218, 3031), (218, 3033), (218, 3036), (218, 3037), (218, 3038), (218, 3039), (219, 39), (219, 67), (219, 190), (219, 218), (219, 510), (219, 529), (219, 532), (219, 598), (219, 838), (219, 960), (219, 1041), (219, 1446), (219, 1663), (219, 1838), (219, 1952), (219, 2068), (219, 2154), (219, 2484), (219, 2936), (219, 3042), (219, 3043), (219, 3044), (220, 3), (220, 161), (220, 378), (220, 388), (220, 623), (220, 645), (220, 1168), (220, 1244), (220, 2286), (221, 336), (221, 1321), (221, 2750), (222, 62), (222, 71), (222, 138), (222, 189), (222, 329), (222, 351), (222, 1253), (222, 1269), (222, 1332), (222, 2521), (222, 3049), (223, 20), (223, 26), (223, 28), (223, 52), (223, 66), (223, 76), (223, 91), (223, 130), (223, 132), (223, 195), (223, 208), (223, 391), (223, 398), (223, 407), (223, 567), (223, 619), (223, 623), (223, 625), (223, 627), (223, 640), (223, 645), (223, 660), (223, 691), (223, 710), (223, 722), (223, 811), (223, 841), (223, 845), (223, 856), (223, 910), (223, 914), (223, 951), (223, 980), (223, 1019), (223, 1053), (223, 1323), (223, 1429), (223, 1459), (223, 1558), (223, 1559), (223, 1595), (223, 1697), (223, 1731), (223, 1840), (223, 1929), (223, 2057), (223, 2432), (223, 2650), (223, 2655), (223, 2796), (223, 2816), (223, 3008), (223, 3056), (224, 15), (224, 24), (224, 258), (224, 391), (224, 744), (224, 765), (224, 861), (224, 895), (224, 1109), (225, 210), (225, 819), (225, 904), (226, 0), (226, 24), (226, 32), (226, 409), (226, 521), (227, 41), (227, 174), (227, 391), (227, 392), (227, 635), (227, 657), (227, 1288), (227, 1295), (227, 1478), (227, 1716), (227, 1726), (227, 3059), (228, 65), (229, 43), (229, 109), (229, 129), (229, 252), (229, 351), (229, 406), (229, 567), (229, 598), (229, 621), (229, 628), (229, 641), (229, 643), (229, 645), (229, 656), (229, 670), (229, 686), (229, 722), (229, 726), (229, 754), (229, 795), (229, 825), (229, 854), (229, 870), (229, 872), (229, 985), (229, 992), (229, 1015), (229, 1016), (229, 1023), (229, 1026), (229, 1038), (229, 1076), (229, 1078), (229, 1149), (229, 1220), (229, 1379), (229, 1420), (229, 1426), (229, 1480), (229, 1483), (229, 1653), (229, 1680), (229, 1712), (229, 1713), (229, 1739), (229, 1741), (229, 1746), (229, 1813), (229, 1974), (229, 2079), (229, 2083), (229, 2084), (229, 2138), (229, 2142), (229, 2146), (229, 2210), (229, 2220), (229, 2293), (229, 2313), (229, 2321), (229, 2325), (229, 2330), (229, 2352), (229, 2418), (229, 2420), (229, 2457), (229, 2648), (229, 2655), (229, 2662), (229, 2725), (229, 2729), (229, 2806), (229, 2884), (229, 2925), (229, 3024), (229, 3068), (229, 3072), (229, 3074), (229, 3080), (229, 3083), (229, 3085), (229, 3090), (229, 3095), (229, 3098), (230, 27), (230, 36), (230, 57), (230, 85), (230, 184), (230, 218), (230, 631), (230, 865), (230, 866), (230, 967), (230, 1000), (230, 1980), (230, 2031), (230, 2793), (231, 36), (231, 60), (231, 160), (231, 174), (231, 261), (231, 581), (231, 795), (231, 853), (231, 982), (231, 1175), (231, 1181), (231, 1194), (231, 1243), (231, 1385), (231, 1878), (231, 1946), (231, 2233), (231, 3103), (232, 390), (232, 400), (232, 401), (232, 412), (233, 181), (233, 350), (233, 1629), (234, 154), (234, 493), (234, 650), (234, 1034), (234, 1739), (235, 244), (235, 838), (235, 1610), (235, 2114), (235, 3104), (236, 41), (236, 63), (236, 132), (236, 134), (236, 144), (236, 154), (236, 168), (236, 210), (236, 285), (236, 506), (236, 544), (236, 592), (236, 605), (236, 609), (236, 660), (236, 670), (236, 692), (236, 839), (236, 844), (236, 853), (236, 861), (236, 931), (236, 942), (236, 979), (236, 998), (236, 1037), (236, 1261), (236, 1307), (236, 1420), (236, 1566), (236, 1788), (236, 1807), (237, 21), (237, 26), (237, 397), (237, 504), (237, 513), (237, 964), (237, 1133), (237, 1139), (237, 1149), (237, 2896), (238, 218), (238, 784), (238, 838), (238, 862), (238, 910), (238, 1072), (238, 1552), (238, 1601), (238, 1853), (238, 2443), (238, 2608), (239, 12), (239, 473), (239, 492), (239, 501), (240, 19), (240, 284), (240, 400), (240, 450), (240, 506), (241, 36), (241, 80), (241, 89), (241, 93), (241, 161), (241, 399), (241, 904), (241, 1644), (241, 1651), (241, 1659), (242, 1324), (242, 1782), (242, 1944), (243, 15), (243, 574), (243, 594), (243, 678), (243, 722), (243, 776), (243, 830), (243, 832), (243, 904), (243, 934), (243, 936), (243, 1012), (243, 1043), (243, 1091), (243, 1499), (243, 1595), (243, 1726), (243, 1817), (243, 2389), (243, 2613), (243, 2889), (243, 3106), (244, 11), (244, 63), (244, 65), (244, 132), (244, 199), (244, 220), (244, 233), (244, 252), (244, 290), (244, 378), (244, 596), (244, 603), (244, 623), (244, 629), (244, 632), (244, 635), (244, 877), (244, 936), (244, 1069), (244, 1378), (244, 1470), (244, 1855), (245, 84), (245, 207), (245, 635), (245, 892), (245, 1125), (245, 1541), (245, 1623), (246, 21), (246, 35), (246, 66), (246, 89), (246, 134), (246, 206), (246, 210), (246, 219), (246, 222), (246, 292), (246, 299), (246, 399), (246, 602), (246, 623), (246, 680), (246, 685), (246, 730), (246, 750), (246, 758), (246, 774), (246, 781), (246, 813), (246, 841), (246, 865), (246, 887), (246, 941), (246, 971), (246, 1023), (246, 1027), (246, 1032), (246, 1038), (246, 1040), (246, 1041), (246, 1043), (246, 1074), (246, 1077), (246, 1110), (246, 1114), (246, 1206), (246, 1297), (246, 1359), (246, 1400), (246, 1408), (246, 1425), (246, 1459), (246, 1460), (246, 1472), (246, 1478), (246, 1480), (246, 1483), (246, 1494), (246, 1503), (246, 1516), (246, 1517), (246, 1623), (246, 1670), (246, 1734), (246, 1768), (246, 1818), (246, 1850), (246, 1854), (246, 1978), (246, 1984), (246, 2072), (246, 2081), (246, 2143), (246, 2145), (246, 2149), (246, 2159), (246, 2175), (246, 2182), (246, 2264), (246, 2332), (246, 2392), (246, 2403), (246, 2423), (246, 2468), (246, 2473), (246, 2481), (246, 2493), (246, 2501), (246, 2524), (246, 2617), (246, 2650), (246, 2660), (246, 2677), (246, 3024), (246, 3042), (246, 3088), (246, 3117), (246, 3121), (246, 3125), (246, 3127), (246, 3128), (246, 3130), (246, 3137), (247, 2794), (248, 19), (248, 57), (248, 173), (249, 657), (249, 2022), (250, 704), (250, 1356), (250, 1575), (250, 1795), (250, 3141), (251, 36), (251, 258), (251, 932), (251, 1000), (251, 1307), (251, 1704), (251, 1710), (251, 1735), (251, 1926), (251, 3142), (252, 284), (252, 299), (252, 1351), (252, 2435), (253, 219), (253, 453), (253, 463), (253, 543), (253, 610), (253, 622), (253, 691), (253, 777), (253, 850), (253, 988), (253, 1093), (253, 1099), (253, 1111), (253, 1133), (253, 1410), (253, 1460), (253, 1488), (253, 1502), (253, 1564), (253, 1676), (253, 1700), (253, 2166), (253, 2316), (253, 2402), (253, 2715), (253, 2734), (254, 892), (254, 1491), (255, 207), (255, 392), (255, 618), (255, 936), (255, 971), (255, 2443), (256, 55), (256, 71), (256, 302), (256, 315), (256, 367), (256, 374), (256, 1155), (256, 1275), (256, 1344), (256, 1602), (256, 1880), (256, 2175), (256, 2367), (256, 2525), (256, 2540), (256, 2950), (256, 3145), (256, 3148), (257, 596), (257, 936), (257, 1497), (257, 2182), (258, 15), (258, 402), (259, 33), (259, 160), (259, 175), (259, 340), (259, 388), (259, 406), (259, 420), (259, 595), (259, 634), (259, 641), (259, 662), (259, 686), (259, 729), (259, 821), (259, 845), (259, 980), (259, 1257), (259, 1381), (259, 1449), (259, 1558), (259, 1837), (259, 2208), (259, 2250), (259, 2638), (259, 2800), (260, 68), (260, 150), (260, 285), (260, 310), (260, 391), (260, 631), (260, 708), (260, 809), (260, 850), (260, 964), (261, 70), (261, 118), (261, 148), (261, 174), (261, 403), (261, 431), (261, 601), (261, 691), (261, 971), (261, 1278), (261, 1314), (261, 1652), (261, 1774), (261, 1859), (261, 2346), (261, 2850), (262, 11), (262, 16), (262, 35), (262, 96), (262, 248), (262, 311), (262, 319), (262, 420), (262, 443), (262, 597), (262, 904), (262, 972), (262, 1150), (262, 1220), (262, 1277), (262, 1927), (262, 2408), (263, 25), (263, 64), (263, 165), (263, 369), (263, 832), (263, 1577), (264, 66), (264, 241), (264, 332), (264, 340), (264, 345), (264, 802), (264, 923), (264, 944), (264, 1162), (264, 1448), (264, 1880), (264, 1936), (264, 2829), (264, 2830), (264, 3154), (265, 36), (265, 409), (266, 1), (266, 36), (266, 40), (266, 286), (266, 556), (266, 964), (266, 2815), (267, 83), (267, 1226), (267, 1314), (267, 1647), (267, 1984), (267, 2751), (268, 184), (268, 620), (269, 11), (269, 398), (269, 456), (269, 473), (269, 686), (270, 5), (270, 31), (270, 57), (270, 64), (270, 70), (270, 79), (270, 106), (270, 117), (270, 126), (270, 134), (270, 137), (270, 153), (270, 160), (270, 189), (270, 256), (270, 276), (270, 333), (270, 462), (270, 502), (270, 547), (270, 550), (270, 598), (270, 607), (270, 614), (270, 615), (270, 616), (270, 617), (270, 618), (270, 622), (270, 623), (270, 630), (270, 634), (270, 655), (270, 664), (270, 673), (270, 700), (270, 736), (270, 742), (270, 798), (270, 803), (270, 830), (270, 853), (270, 910), (270, 925), (270, 937), (270, 959), (270, 974), (270, 975), (270, 979), (270, 983), (270, 1040), (270, 1043), (270, 1052), (270, 1054), (270, 1060), (270, 1062), (270, 1075), (270, 1080), (270, 1130), (270, 1135), (270, 1143), (270, 1151), (270, 1173), (270, 1228), (270, 1232), (270, 1264), (270, 1285), (270, 1292), (270, 1322), (270, 1344), (270, 1357), (270, 1393), (270, 1399), (270, 1410), (270, 1457), (270, 1471), (270, 1476), (270, 1487), (270, 1569), (270, 1570), (270, 1610), (270, 1618), (270, 1754), (270, 1758), (270, 1813), (270, 1818), (270, 1819), (270, 1834), (270, 1835), (270, 1908), (270, 1939), (270, 1967), (270, 1994), (270, 2071), (270, 2191), (270, 2236), (270, 2263), (270, 2270), (270, 2280), (270, 2288), (270, 2309), (270, 2324), (270, 2350), (270, 2399), (270, 2415), (270, 2422), (270, 2444), (270, 2455), (270, 2544), (270, 2556), (270, 2586), (270, 2650), (270, 2654), (270, 2661), (270, 2672), (270, 2847), (270, 2853), (270, 2868), (270, 2882), (270, 2932), (270, 2941), (270, 3021), (270, 3055), (270, 3057), (270, 3061), (270, 3071), (270, 3073), (270, 3075), (270, 3102), (270, 3123), (270, 3162), (270, 3178), (270, 3179), (270, 3182), (270, 3184), (270, 3187), (270, 3188), (270, 3195), (270, 3196), (271, 13), (271, 14), (271, 35), (271, 62), (271, 159), (271, 199), (271, 300), (271, 304), (271, 340), (271, 356), (271, 376), (271, 396), (271, 578), (271, 590), (271, 618), (271, 620), (271, 622), (271, 918), (271, 1242), (271, 1337), (271, 1424), (271, 1774), (271, 1942), (271, 2119), (271, 2275), (271, 2443), (271, 2573), (271, 2588), (271, 2761), (271, 2767), (271, 2779), (271, 2833), (271, 3200), (271, 3201), (271, 3202), (271, 3203), (271, 3205), (271, 3206), (271, 3210), (271, 3211), (272, 0), (272, 25), (272, 41), (272, 407), (272, 428), (272, 443), (272, 555), (272, 573), (272, 1176), (273, 437), (273, 556), (273, 565), (274, 1047), (274, 1244), (275, 25), (275, 33), (275, 41), (275, 63), (275, 67), (275, 73), (275, 99), (275, 231), (275, 233), (275, 591), (275, 618), (275, 624), (275, 631), (275, 641), (275, 827), (275, 884), (275, 904), (275, 994), (275, 1108), (275, 1120), (275, 1125), (275, 1569), (275, 1572), (275, 1710), (275, 1853), (275, 2013), (275, 2092), (275, 2171), (275, 3173), (276, 19), (276, 118), (276, 379), (276, 406), (276, 423), (276, 613), (276, 720), (276, 728), (276, 742), (276, 958), (276, 1232), (276, 1274), (276, 1396), (276, 1407), (276, 1783), (276, 2094), (276, 2296), (276, 2651), (276, 3212), (276, 3213), (276, 3214), (276, 3215), (277, 20), (277, 367), (277, 816), (277, 1641), (277, 2242), (278, 33), (278, 41), (278, 55), (278, 69), (278, 72), (278, 76), (278, 104), (278, 171), (278, 211), (278, 224), (278, 331), (278, 603), (278, 650), (278, 720), (278, 759), (278, 895), (278, 1052), (278, 1119), (278, 1271), (278, 1740), (279, 68), (279, 321), (279, 551), (280, 11), (280, 21), (280, 415), (280, 437), (280, 474), (280, 520), (280, 791), (280, 1139), (281, 241), (281, 295), (281, 401), (281, 1168), (281, 1171), (282, 19), (282, 56), (282, 173), (282, 212), (282, 378), (282, 390), (282, 410), (282, 447), (282, 513), (282, 587), (282, 622), (282, 858), (282, 1003), (282, 1184), (282, 2112), (283, 179), (283, 376), (283, 545), (283, 568), (283, 704), (283, 1142), (283, 1145), (283, 1184), (283, 1295), (283, 1397), (283, 1555), (283, 1560), (283, 1694), (283, 1712), (283, 1877), (283, 1933), (283, 2557), (283, 3047), (283, 3050), (284, 20), (284, 43), (284, 58), (284, 64), (284, 71), (284, 76), (284, 80), (284, 85), (284, 120), (284, 146), (284, 158), (284, 163), (284, 166), (284, 169), (284, 194), (284, 258), (284, 283), (284, 285), (284, 348), (284, 355), (284, 399), (284, 401), (284, 406), (284, 485), (284, 551), (284, 592), (284, 604), (284, 623), (284, 624), (284, 640), (284, 651), (284, 657), (284, 679), (284, 690), (284, 800), (284, 807), (284, 857), (284, 904), (284, 940), (284, 945), (284, 988), (284, 994), (284, 1043), (284, 1151), (284, 1178), (284, 1197), (284, 1199), (284, 1203), (284, 1209), (284, 1242), (284, 1268), (284, 1301), (284, 1310), (284, 1348), (284, 1438), (284, 1553), (284, 1559), (284, 1630), (284, 1631), (284, 1673), (284, 1716), (284, 1771), (284, 1808), (284, 1811), (284, 1964), (284, 1984), (284, 2039), (284, 2040), (284, 2062), (284, 2113), (284, 2120), (284, 2125), (284, 2172), (284, 2182), (284, 2245), (284, 2350), (284, 2353), (284, 2356), (284, 2387), (284, 2410), (284, 2423), (284, 2436), (284, 2526), (284, 2534), (284, 2568), (284, 2590), (284, 2638), (284, 2643), (284, 2771), (284, 2776), (284, 2787), (284, 2943), (284, 2945), (284, 3013), (284, 3032), (284, 3075), (284, 3163), (284, 3165), (284, 3185), (284, 3217), (284, 3219), (284, 3221), (284, 3224), (284, 3227), (284, 3228), (284, 3234), (284, 3235), (285, 67), (285, 395), (285, 416), (286, 67), (286, 96), (286, 129), (286, 132), (286, 175), (286, 279), (286, 294), (286, 309), (286, 413), (286, 690), (286, 796), (286, 838), (286, 949), (286, 1171), (286, 1173), (286, 1346), (286, 1388), (286, 1669), (286, 1771), (286, 1781), (286, 1822), (286, 1857), (286, 2121), (286, 2253), (286, 2450), (286, 2708), (286, 2871), (286, 3204), (286, 3240), (286, 3241), (286, 3242), (287, 1091), (287, 2166), (288, 15), (288, 41), (288, 60), (288, 82), (288, 107), (288, 119), (288, 258), (288, 327), (288, 393), (288, 397), (288, 513), (288, 607), (288, 657), (288, 711), (288, 766), (288, 867), (288, 876), (288, 881), (288, 942), (288, 958), (288, 987), (288, 1023), (288, 1081), (288, 1082), (288, 1368), (288, 1396), (288, 1397), (288, 1445), (288, 1450), (288, 1458), (288, 1484), (288, 1904), (288, 2159), (288, 2163), (288, 2229), (288, 2355), (288, 2409), (288, 2455), (288, 2872), (288, 2984), (288, 3097), (288, 3243), (288, 3244), (289, 1808), (290, 14), (290, 53), (290, 129), (290, 167), (290, 273), (290, 283), (290, 321), (290, 392), (290, 407), (290, 507), (290, 518), (290, 565), (290, 566), (290, 573), (290, 806), (290, 810), (290, 1139), (290, 1144), (290, 1178), (290, 1283), (290, 1291), (290, 1294), (290, 1318), (290, 1362), (290, 1608), (290, 1627), (290, 1895), (290, 1932), (290, 1936), (290, 2434), (290, 2838), (290, 2871), (290, 2934), (290, 3011), (290, 3014), (290, 3101), (290, 3161), (290, 3220), (290, 3245), (290, 3249), (291, 838), (291, 932), (292, 669), (292, 2953), (293, 2), (293, 39), (293, 270), (293, 1658), (294, 76), (294, 95), (294, 146), (294, 168), (294, 222), (294, 232), (294, 328), (294, 329), (294, 331), (294, 372), (294, 451), (294, 618), (294, 641), (294, 646), (294, 653), (294, 713), (294, 764), (294, 781), (294, 783), (294, 785), (294, 813), (294, 836), (294, 862), (294, 865), (294, 873), (294, 875), (294, 887), (294, 932), (294, 942), (294, 956), (294, 959), (294, 980), (294, 988), (294, 1027), (294, 1038), (294, 1063), (294, 1077), (294, 1091), (294, 1102), (294, 1330), (294, 1359), (294, 1361), (294, 1425), (294, 1462), (294, 1486), (294, 1518), (294, 1519), (294, 1526), (294, 1547), (294, 1561), (294, 1581), (294, 1602), (294, 1653), (294, 1693), (294, 1711), (294, 1723), (294, 1757), (294, 1766), (294, 1779), (294, 2001), (294, 2020), (294, 2080), (294, 2127), (294, 2141), (294, 2159), (294, 2181), (294, 2242), (294, 2270), (294, 2294), (294, 2334), (294, 2338), (294, 2363), (294, 2417), (294, 2422), (294, 2424), (294, 2540), (294, 2575), (294, 2612), (294, 2649), (294, 2650), (294, 2652), (294, 2665), (294, 2722), (294, 2723), (294, 2753), (294, 2818), (294, 2867), (294, 3090), (294, 3164), (294, 3212), (294, 3252), (294, 3253), (294, 3255), (294, 3256), (294, 3258), (295, 65), (295, 849), (296, 210), (296, 936), (296, 1000), (296, 1020), (297, 6), (297, 19), (297, 27), (297, 98), (297, 199), (297, 398), (297, 513), (297, 526), (297, 621), (297, 645), (297, 654), (297, 1446), (297, 1558), (297, 1807), (298, 417), (299, 56), (299, 76), (299, 80), (299, 203), (299, 346), (299, 628), (299, 794), (299, 972), (299, 2256), (299, 2387), (300, 45), (300, 54), (300, 76), (300, 87), (300, 95), (300, 165), (300, 257), (300, 305), (300, 311), (300, 319), (300, 413), (300, 443), (300, 451), (300, 497), (300, 595), (300, 708), (300, 799), (300, 1206), (300, 1288), (300, 1771), (300, 1866), (300, 2043), (301, 11), (301, 15), (301, 64), (301, 119), (301, 129), (301, 174), (301, 198), (301, 211), (301, 218), (301, 223), (301, 248), (301, 307), (301, 351), (301, 376), (301, 378), (301, 404), (301, 421), (301, 506), (301, 607), (301, 641), (301, 646), (301, 669), (301, 691), (301, 734), (301, 745), (301, 749), (301, 780), (301, 823), (301, 849), (301, 866), (301, 874), (301, 880), (301, 888), (301, 931), (301, 944), (301, 952), (301, 1036), (301, 1050), (301, 1090), (301, 1116), (301, 1246), (301, 1401), (301, 1407), (301, 1435), (301, 1455), (301, 1501), (301, 1568), (301, 1617), (301, 1623), (301, 1682), (301, 1741), (301, 1778), (301, 1818), (301, 1834), (301, 1981), (301, 2024), (301, 2186), (301, 2216), (301, 2271), (301, 2293), (301, 2402), (301, 2404), (301, 2446), (301, 2478), (301, 2660), (301, 2819), (301, 2885), (301, 2915), (301, 2949), (301, 2989), (301, 2999), (301, 3000), (301, 3122), (301, 3260), (301, 3267), (302, 854), (302, 1480), (302, 1614), (302, 2026), (302, 2169), (302, 2483), (302, 3269), (303, 3), (303, 21), (303, 23), (303, 30), (303, 34), (303, 57), (303, 62), (303, 79), (303, 138), (303, 161), (303, 194), (303, 283), (303, 367), (303, 370), (303, 400), (303, 420), (303, 459), (303, 526), (303, 527), (303, 598), (303, 603), (303, 612), (303, 666), (303, 668), (303, 671), (303, 691), (303, 733), (303, 742), (303, 822), (303, 851), (303, 912), (303, 938), (303, 994), (303, 1001), (303, 1006), (303, 1151), (303, 1227), (303, 1232), (303, 1276), (303, 1304), (303, 1364), (303, 1369), (303, 1403), (303, 1420), (303, 1457), (303, 1559), (303, 1564), (303, 1667), (303, 1702), (303, 1741), (303, 1786), (303, 1858), (303, 1909), (303, 1912), (303, 1940), (303, 1943), (303, 1945), (303, 2077), (303, 2082), (303, 2179), (303, 2284), (303, 2291), (303, 2297), (303, 2300), (303, 2422), (303, 2459), (303, 2550), (303, 2591), (303, 2608), (303, 2641), (303, 2656), (303, 2663), (303, 2669), (303, 2803), (303, 2961), (303, 3017), (303, 3052), (303, 3053), (303, 3065), (303, 3086), (303, 3113), (303, 3143), (303, 3149), (303, 3160), (303, 3169), (303, 3177), (303, 3194), (303, 3277), (303, 3279), (303, 3282), (303, 3285), (303, 3286), (303, 3287), (304, 216), (304, 593), (304, 619), (304, 677), (304, 1036), (305, 65), (305, 110), (305, 210), (305, 243), (305, 641), (305, 862), (305, 911), (305, 919), (305, 2269), (305, 3288), (305, 3290), (306, 39), (306, 260), (306, 619), (306, 710), (306, 913), (306, 1270), (306, 1283), (306, 1700), (307, 979), (308, 27), (308, 57), (308, 82), (308, 148), (308, 161), (308, 202), (308, 250), (308, 317), (308, 348), (308, 633), (308, 691), (308, 699), (308, 830), (308, 849), (308, 1172), (308, 1429), (308, 1461), (308, 2196), (308, 2410), (308, 2538), (308, 3048), (309, 9), (309, 56), (309, 64), (309, 72), (309, 84), (309, 104), (309, 110), (309, 135), (309, 155), (309, 173), (309, 191), (309, 205), (309, 207), (309, 318), (309, 502), (309, 614), (309, 691), (309, 983), (309, 1204), (309, 1226), (309, 1458), (309, 1589), (309, 1634), (309, 1653), (309, 1989), (309, 2234), (309, 2772), (309, 3292), (310, 4), (310, 7), (310, 9), (310, 26), (310, 30), (310, 235), (310, 275), (310, 284), (310, 401), (310, 410), (310, 445), (310, 500), (310, 591), (310, 1176), (310, 3294), (311, 300), (311, 591), (311, 2766), (312, 105), (312, 543), (312, 1560), (313, 3), (313, 6), (313, 33), (313, 71), (313, 184), (313, 210), (313, 220), (313, 252), (313, 490), (313, 493), (313, 612), (313, 710), (313, 858), (313, 869), (313, 887), (313, 994), (313, 1089), (313, 1104), (313, 1837), (314, 38), (314, 51), (314, 131), (314, 150), (314, 163), (314, 202), (314, 220), (314, 221), (314, 344), (314, 368), (314, 387), (314, 465), (314, 503), (314, 553), (314, 594), (314, 622), (314, 660), (314, 662), (314, 674), (314, 724), (314, 823), (314, 845), (314, 868), (314, 874), (314, 910), (314, 916), (314, 975), (314, 987), (314, 1005), (314, 1024), (314, 1052), (314, 1097), (314, 1145), (314, 1344), (314, 1378), (314, 1420), (314, 1515), (314, 1520), (314, 1557), (314, 1582), (314, 1647), (314, 1658), (314, 1701), (314, 1753), (314, 1756), (314, 1764), (314, 1988), (314, 1997), (314, 2002), (314, 2017), (314, 2184), (314, 2188), (314, 2332), (314, 2337), (314, 2383), (314, 2396), (314, 2427), (314, 2599), (314, 2738), (314, 2739), (314, 2744), (314, 2970), (314, 3046), (314, 3132), (314, 3135), (314, 3146), (314, 3263), (314, 3274), (314, 3296), (314, 3297), (314, 3298), (314, 3300), (314, 3301), (314, 3302), (314, 3307), (314, 3309), (314, 3310), (314, 3311), (314, 3312), (314, 3313), (315, 6), (315, 1119), (316, 2860), (317, 1), (317, 40), (317, 406), (318, 41), (318, 374), (318, 686), (318, 801), (318, 1060), (318, 1232), (318, 1735), (318, 3233), (319, 7), (319, 273), (319, 306), (319, 524), (319, 1130), (319, 1984), (319, 2258), (319, 3315), (320, 366), (320, 3316), (321, 11), (321, 102), (321, 210), (321, 258), (321, 264), (321, 357), (321, 396), (321, 419), (321, 493), (321, 615), (321, 625), (321, 697), (321, 1165), (321, 1200), (321, 1215), (321, 1246), (321, 1361), (321, 1599), (321, 1785), (321, 1860), (321, 1871), (321, 2056), (321, 2827), (321, 2905), (321, 2975), (321, 2977), (321, 3106), (321, 3225), (321, 3248), (321, 3317), (321, 3318), (321, 3320), (321, 3321), (322, 133), (322, 150), (322, 220), (322, 739), (322, 820), (322, 959), (322, 1055), (322, 1687), (322, 2156), (322, 2344), (322, 2897), (323, 1010), (323, 1017), (323, 2270), (324, 35), (324, 43), (324, 62), (324, 65), (324, 80), (324, 83), (324, 100), (324, 115), (324, 218), (324, 245), (324, 295), (324, 315), (324, 331), (324, 348), (324, 493), (324, 611), (324, 637), (324, 645), (324, 650), (324, 891), (324, 915), (324, 932), (324, 940), (324, 1142), (324, 1182), (324, 1559), (324, 1854), (324, 2041), (325, 66), (325, 210), (326, 4), (326, 36), (326, 64), (326, 79), (326, 90), (326, 158), (326, 207), (326, 252), (326, 281), (326, 315), (326, 391), (326, 397), (326, 551), (326, 597), (326, 618), (326, 631), (326, 670), (326, 801), (326, 868), (326, 965), (326, 975), (326, 1243), (326, 1643), (326, 1740), (326, 2135), (326, 2172), (327, 15), (327, 199), (327, 210), (327, 234), (327, 367), (327, 376), (327, 605), (327, 641), (327, 713), (327, 739), (327, 936), (327, 1023), (327, 1089), (327, 1109), (327, 1369), (327, 1417), (327, 1741), (327, 2138), (327, 2186), (328, 35), (328, 80), (328, 173), (328, 356), (328, 596), (328, 635), (328, 839), (328, 877), (328, 961), (328, 990), (328, 1039), (328, 1201), (328, 1704), (328, 2201), (328, 2403), (328, 2438), (328, 2865), (328, 2983), (328, 3124), (328, 3322), (328, 3323), (329, 244), (329, 1375), (330, 76), (330, 119), (330, 150), (330, 173), (330, 293), (330, 404), (330, 513), (330, 619), (330, 937), (330, 1027), (330, 1570), (330, 1601), (330, 1747), (330, 2310), (330, 2789), (330, 3094), (330, 3324), (331, 19), (331, 33), (331, 367), (331, 1261), (332, 129), (332, 184), (332, 844), (332, 918), (332, 1293), (332, 1469), (333, 68), (333, 965), (334, 1622), (334, 3003), (334, 3325), (335, 2), (335, 71), (335, 94), (335, 298), (335, 368), (335, 416), (335, 734), (335, 741), (335, 753), (335, 758), (335, 864), (335, 874), (335, 877), (335, 884), (335, 903), (335, 957), (335, 986), (335, 1085), (335, 1095), (335, 1413), (335, 1422), (335, 1559), (335, 1569), (335, 1741), (335, 1781), (335, 1982), (335, 2165), (335, 2187), (335, 2328), (335, 2674), (335, 2788), (335, 2898), (335, 3126), (335, 3127), (335, 3201), (335, 3326), (336, 19), (336, 24), (336, 458), (336, 465), (337, 25), (337, 713), (337, 816), (337, 1069), (337, 1400), (337, 1544), (338, 346), (338, 979), (338, 1390), (338, 1428), (338, 1809), (338, 2345), (339, 27), (339, 165), (339, 378), (339, 641), (339, 863), (339, 926), (339, 2949), (340, 6), (340, 150), (340, 165), (340, 168), (340, 366), (340, 1322), (340, 1682), (340, 3315), (341, 61), (341, 574), (341, 1340), (341, 1873), (341, 2874), (341, 3329), (342, 27), (342, 86), (342, 97), (342, 165), (342, 275), (342, 965), (342, 992), (342, 1171), (342, 1607), (342, 1832), (342, 2379), (342, 2443), (342, 3331), (342, 3332), (342, 3333), (343, 3), (343, 6), (343, 399), (343, 404), (343, 499), (343, 551), (344, 15), (344, 332), (344, 590), (344, 2792), (345, 283), (346, 35), (346, 410), (346, 429), (346, 1151), (346, 1797), (347, 173), (347, 212), (347, 621), (347, 742), (347, 757), (347, 874), (347, 996), (347, 1484), (347, 1842), (347, 2207), (347, 2323), (347, 2390), (347, 3172), (347, 3306), (347, 3334), (347, 3335), (347, 3336), (347, 3337), (348, 4), (348, 56), (348, 69), (348, 97), (348, 132), (348, 190), (348, 591), (348, 604), (348, 612), (348, 673), (348, 742), (348, 868), (348, 875), (348, 887), (348, 973), (348, 1000), (348, 1031), (348, 1071), (348, 1095), (348, 1104), (348, 1119), (348, 1336), (348, 1403), (348, 1471), (348, 1488), (348, 1506), (348, 1530), (348, 1533), (348, 1575), (348, 1726), (348, 1847), (348, 2162), (348, 2230), (348, 2823), (348, 3024), (349, 3), (349, 15), (349, 395), (349, 446), (349, 463), (349, 521), (350, 4), (350, 174), (350, 199), (350, 211), (350, 215), (350, 406), (350, 470), (350, 590), (350, 598), (350, 609), (350, 626), (350, 657), (350, 673), (350, 686), (350, 737), (350, 742), (350, 1012), (350, 1263), (350, 1278), (350, 1345), (350, 1379), (350, 1584), (351, 65), (351, 427), (351, 2429), (352, 4), (352, 18), (352, 28), (352, 66), (352, 134), (352, 152), (352, 161), (352, 163), (352, 251), (352, 311), (352, 342), (352, 356), (352, 378), (352, 452), (352, 599), (352, 602), (352, 792), (352, 821), (352, 931), (352, 980), (352, 1019), (352, 1065), (352, 1244), (352, 1253), (352, 1347), (352, 1487), (352, 1614), (352, 1688), (352, 1721), (352, 1786), (352, 1870), (352, 1891), (352, 2304), (352, 2561), (352, 3195), (352, 3212), (353, 4), (353, 30), (353, 34), (353, 41), (353, 72), (353, 110), (353, 131), (353, 223), (353, 309), (353, 366), (353, 376), (353, 417), (353, 504), (353, 524), (353, 544), (353, 592), (353, 603), (353, 708), (353, 713), (353, 715), (353, 718), (353, 794), (353, 838), (353, 853), (353, 870), (353, 997), (353, 1151), (353, 1180), (353, 1184), (353, 1198), (353, 1552), (353, 1575), (353, 1672), (353, 1741), (353, 1783), (353, 1865), (353, 2114), (353, 2227), (353, 2365), (353, 2450), (353, 2987), (353, 3281), (353, 3338), (354, 1244), (355, 25), (355, 33), (355, 65), (355, 175), (355, 731), (355, 904), (355, 973), (355, 1274), (355, 1965), (356, 96), (356, 2441), (357, 14), (357, 94), (357, 380), (357, 513), (357, 529), (357, 682), (357, 683), (357, 1043), (357, 1246), (357, 2412), (357, 2662), (358, 2), (358, 6), (358, 73), (358, 131), (358, 493), (358, 620), (358, 692), (358, 1062), (358, 1197), (358, 1756), (358, 1774), (358, 2147), (358, 3111), (359, 4), (359, 92), (359, 286), (359, 975), (360, 0), (361, 10), (361, 101), (361, 165), (361, 212), (361, 217), (361, 369), (361, 385), (361, 541), (361, 620), (361, 621), (361, 763), (361, 861), (361, 864), (361, 865), (361, 871), (361, 890), (361, 892), (361, 975), (361, 1023), (361, 1102), (361, 1303), (361, 1343), (361, 1508), (361, 1517), (361, 2140), (361, 2154), (361, 2167), (361, 2336), (361, 2577), (361, 2717), (361, 2722), (361, 2822), (361, 3139), (362, 231), (363, 19), (363, 207), (363, 331), (363, 605), (363, 613), (363, 708), (363, 850), (363, 987), (363, 1238), (363, 1367), (363, 1373), (363, 1387), (363, 1459), (363, 1901), (363, 1902), (363, 2126), (363, 2130), (363, 3340), (364, 33), (364, 61), (364, 63), (364, 68), (364, 76), (364, 88), (364, 94), (364, 99), (364, 134), (364, 156), (364, 296), (364, 458), (364, 494), (364, 551), (364, 595), (364, 600), (364, 696), (364, 806), (364, 819), (364, 838), (364, 842), (364, 852), (364, 946), (364, 1153), (364, 1163), (364, 1180), (364, 1188), (364, 1207), (364, 1278), (364, 1319), (364, 1338), (364, 1363), (364, 1451), (364, 1638), (364, 1668), (364, 1671), (364, 1874), (364, 2053), (364, 2113), (364, 2117), (364, 2248), (364, 2530), (364, 2531), (364, 2776), (364, 2779), (364, 2853), (364, 2945), (364, 3010), (364, 3016), (364, 3018), (364, 3218), (364, 3343), (364, 3345), (364, 3347), (365, 26), (365, 173), (365, 179), (365, 510), (365, 575), (365, 866), (365, 904), (365, 979), (365, 1269), (365, 1454), (365, 1928), (365, 2209), (365, 2756), (365, 2848), (366, 32), (366, 68), (366, 99), (366, 146), (366, 212), (366, 348), (366, 371), (366, 378), (366, 624), (366, 632), (366, 931), (367, 99), (367, 175), (367, 307), (367, 620), (367, 2818), (368, 8), (368, 13), (368, 16), (368, 19), (368, 27), (368, 55), (368, 64), (368, 69), (368, 210), (368, 245), (368, 282), (368, 308), (368, 553), (368, 554), (368, 794), (368, 942), (368, 969), (368, 970), (368, 1164), (368, 1641), (368, 1770), (368, 1791), (368, 1930), (368, 1931), (368, 3348), (369, 20), (369, 21), (369, 25), (369, 388), (369, 400), (369, 405), (369, 437), (369, 457), (369, 473), (369, 507), (369, 1828), (370, 18), (370, 285), (370, 2039), (371, 24), (371, 60), (371, 119), (371, 161), (371, 295), (371, 348), (371, 391), (371, 412), (371, 594), (371, 595), (371, 657), (371, 670), (371, 1682), (372, 397), (372, 1167), (372, 1996), (372, 2275), (372, 2709), (372, 3284), (372, 3350), (372, 3351), (373, 210), (373, 216), (373, 398), (373, 641), (374, 16), (374, 18), (374, 26), (374, 27), (374, 406), (375, 3), (375, 11), (375, 82), (375, 99), (375, 134), (375, 171), (375, 203), (375, 207), (375, 219), (375, 290), (375, 357), (375, 510), (375, 551), (375, 573), (375, 598), (375, 606), (375, 612), (375, 625), (375, 626), (375, 631), (375, 633), (375, 636), (375, 648), (375, 652), (375, 673), (375, 691), (375, 701), (375, 742), (375, 744), (375, 760), (375, 823), (375, 833), (375, 848), (375, 849), (375, 855), (375, 866), (375, 889), (375, 944), (375, 993), (375, 1016), (375, 1028), (375, 1041), (375, 1067), (375, 1091), (375, 1107), (375, 1195), (375, 1204), (375, 1206), (375, 1273), (375, 1294), (375, 1308), (375, 1309), (375, 1334), (375, 1343), (375, 1345), (375, 1378), (375, 1432), (375, 1437), (375, 1458), (375, 1465), (375, 1505), (375, 1561), (375, 1625), (375, 1635), (375, 1682), (375, 1691), (375, 1702), (375, 1776), (375, 1828), (375, 1841), (375, 1855), (375, 1887), (375, 1930), (375, 2008), (375, 2066), (375, 2092), (375, 2096), (375, 2107), (375, 2153), (375, 2170), (375, 2177), (375, 2203), (375, 2212), (375, 2229), (375, 2240), (375, 2251), (375, 2290), (375, 2329), (375, 2333), (375, 2398), (375, 2419), (375, 2574), (375, 2648), (375, 2996), (375, 3060), (375, 3076), (375, 3078), (375, 3110), (375, 3119), (375, 3162), (375, 3186), (375, 3199), (375, 3264), (375, 3295), (375, 3328), (375, 3354), (375, 3356), (375, 3357), (375, 3358), (375, 3360), (375, 3361), (375, 3362), (376, 16), (376, 25), (376, 55), (376, 56), (376, 90), (376, 150), (376, 210), (376, 211), (376, 252), (376, 369), (376, 370), (376, 378), (376, 504), (376, 598), (376, 614), (376, 620), (376, 626), (376, 650), (376, 659), (376, 702), (376, 708), (376, 730), (376, 855), (376, 860), (376, 863), (376, 936), (376, 940), (376, 1004), (376, 1207), (376, 1220), (376, 1260), (376, 1330), (376, 1340), (376, 1375), (376, 1390), (376, 1407), (376, 1432), (376, 1440), (376, 1462), (376, 1477), (376, 1560), (376, 1575), (376, 1749), (376, 1841), (376, 1895), (376, 2066), (376, 2071), (376, 2313), (376, 3091), (376, 3190), (377, 134), (377, 255), (377, 385), (377, 599), (377, 613), (377, 616), (377, 642), (377, 671), (377, 713), (377, 754), (377, 766), (377, 865), (377, 1044), (377, 1049), (377, 1097), (377, 1205), (377, 1292), (377, 1417), (377, 1451), (377, 1618), (377, 1717), (377, 2315), (377, 2447), (377, 2594), (377, 2684), (377, 2810), (377, 2822), (377, 2884), (377, 3077), (377, 3087), (377, 3363), (377, 3366), (377, 3367), (378, 63), (378, 1889), (378, 2959), (379, 66), (379, 129), (379, 1267), (379, 1906), (380, 0), (380, 18), (380, 50), (380, 62), (380, 63), (380, 76), (380, 265), (380, 299), (380, 304), (380, 309), (380, 405), (380, 487), (380, 489), (380, 516), (380, 920), (380, 1144), (380, 1628), (380, 1788), (380, 2439), (380, 2511), (381, 17), (381, 258), (381, 451), (381, 501), (381, 516), (382, 19), (382, 21), (382, 26), (382, 44), (382, 47), (382, 60), (382, 84), (382, 122), (382, 148), (382, 153), (382, 174), (382, 177), (382, 212), (382, 214), (382, 358), (382, 543), (382, 561), (382, 602), (382, 659), (382, 704), (382, 858), (382, 914), (382, 926), (382, 965), (382, 1004), (382, 1009), (382, 1156), (382, 1159), (382, 1173), (382, 1221), (382, 1236), (382, 1249), (382, 1261), (382, 1356), (382, 1451), (382, 1467), (382, 1473), (382, 1550), (382, 1570), (382, 1577), (382, 1578), (382, 1614), (382, 1626), (382, 1634), (382, 1678), (382, 1694), (382, 1722), (382, 1742), (382, 1808), (382, 1827), (382, 1987), (382, 1990), (382, 1992), (382, 2041), (382, 2042), (382, 2078), (382, 2103), (382, 2123), (382, 2124), (382, 2173), (382, 2236), (382, 2284), (382, 2413), (382, 2427), (382, 2548), (382, 2552), (382, 2553), (382, 2572), (382, 2603), (382, 2763), (382, 2804), (382, 2826), (382, 2922), (382, 2929), (382, 2954), (382, 3051), (382, 3078), (382, 3191), (382, 3222), (382, 3278), (382, 3330), (382, 3369), (382, 3371), (382, 3372), (382, 3374), (382, 3375), (382, 3377), (382, 3378), (382, 3379), (383, 2477), (384, 258), (384, 421), (385, 629), (385, 929), (385, 1793), (386, 6), (386, 14), (386, 35), (386, 63), (386, 76), (386, 202), (386, 247), (386, 276), (386, 292), (386, 295), (386, 302), (386, 304), (386, 348), (386, 387), (386, 538), (386, 692), (386, 710), (386, 838), (386, 926), (386, 930), (386, 963), (386, 974), (386, 1248), (386, 1250), (386, 1253), (386, 1288), (386, 1424), (386, 1550), (386, 1584), (386, 1668), (386, 1669), (386, 1684), (386, 1789), (386, 1969), (386, 2199), (386, 2278), (386, 2366), (386, 2837), (386, 2843), (386, 2866), (386, 2911), (386, 3207), (386, 3383), (387, 84), (387, 307), (387, 369), (387, 631), (387, 634), (387, 637), (387, 660), (387, 668), (387, 1038), (387, 2186), (387, 2991), (388, 19), (388, 526), (389, 6), (389, 16), (389, 21), (389, 26), (389, 47), (389, 513), (389, 553), (389, 837), (390, 493), (390, 919), (390, 1208), (390, 1984), (391, 2760), (392, 258), (392, 294), (392, 349), (392, 1017), (392, 1759), (393, 657), (394, 64), (394, 69), (394, 838), (395, 567), (395, 622), (395, 939), (395, 955), (395, 1038), (395, 1130), (395, 2356), (395, 2474), (395, 2502), (396, 40), (396, 566), (396, 1151), (397, 146), (397, 3096), (398, 283), (398, 388), (398, 389), (398, 406), (398, 465), (398, 834), (398, 837), (399, 70), (399, 379), (399, 493), (399, 710), (399, 853), (399, 915), (399, 931), (399, 2437), (399, 2749), (400, 394), (400, 1475), (401, 866), (402, 222), (402, 412), (402, 543), (402, 659), (402, 670), (402, 682), (402, 786), (402, 892), (402, 895), (402, 1460), (402, 3124), (403, 15), (403, 62), (403, 145), (403, 158), (403, 190), (403, 334), (403, 813), (403, 1183), (403, 1455), (403, 1550), (403, 2055), (403, 2442), (403, 2568), (403, 3370), (404, 14), (404, 15), (404, 137), (404, 175), (404, 275), (404, 292), (404, 360), (404, 912), (404, 1141), (404, 1202), (404, 1241), (404, 1357), (404, 1898), (404, 1991), (404, 2173), (404, 2249), (404, 2348), (404, 2427), (404, 2909), (404, 3207), (404, 3226), (404, 3385), (404, 3386), (405, 0), (405, 25), (405, 32), (405, 259), (405, 276), (405, 471), (405, 492), (405, 500), (405, 551), (405, 1141), (406, 55), (406, 70), (406, 149), (406, 388), (406, 597), (406, 919), (406, 1160), (406, 1274), (406, 1590), (406, 1888), (407, 27), (407, 134), (407, 210), (407, 593), (407, 607), (407, 620), (407, 825), (408, 13), (408, 18), (408, 44), (408, 46), (408, 54), (408, 56), (408, 58), (408, 67), (408, 68), (408, 83), (408, 91), (408, 97), (408, 110), (408, 117), (408, 128), (408, 175), (408, 194), (408, 204), (408, 205), (408, 211), (408, 215), (408, 233), (408, 238), (408, 246), (408, 256), (408, 272), (408, 291), (408, 302), (408, 339), (408, 351), (408, 355), (408, 361), (408, 365), (408, 368), (408, 395), (408, 421), (408, 426), (408, 446), (408, 460), (408, 466), (408, 471), (408, 482), (408, 512), (408, 547), (408, 583), (408, 592), (408, 595), (408, 607), (408, 608), (408, 632), (408, 635), (408, 645), (408, 668), (408, 669), (408, 670), (408, 681), (408, 682), (408, 689), (408, 690), (408, 705), (408, 706), (408, 710), (408, 715), (408, 718), (408, 729), (408, 732), (408, 741), (408, 748), (408, 751), (408, 752), (408, 753), (408, 760), (408, 775), (408, 781), (408, 793), (408, 802), (408, 845), (408, 863), (408, 866), (408, 874), (408, 888), (408, 892), (408, 897), (408, 902), (408, 922), (408, 947), (408, 966), (408, 967), (408, 972), (408, 975), (408, 977), (408, 992), (408, 1012), (408, 1038), (408, 1043), (408, 1045), (408, 1058), (408, 1062), (408, 1069), (408, 1084), (408, 1085), (408, 1099), (408, 1121), (408, 1186), (408, 1188), (408, 1191), (408, 1245), (408, 1258), (408, 1260), (408, 1262), (408, 1265), (408, 1270), (408, 1271), (408, 1277), (408, 1281), (408, 1282), (408, 1303), (408, 1320), (408, 1327), (408, 1372), (408, 1376), (408, 1381), (408, 1384), (408, 1397), (408, 1417), (408, 1434), (408, 1446), (408, 1470), (408, 1473), (408, 1499), (408, 1551), (408, 1555), (408, 1557), (408, 1578), (408, 1612), (408, 1615), (408, 1618), (408, 1629), (408, 1639), (408, 1645), (408, 1659), (408, 1667), (408, 1672), (408, 1681), (408, 1691), (408, 1704), (408, 1718), (408, 1723), (408, 1726), (408, 1740), (408, 1744), (408, 1750), (408, 1765), (408, 1767), (408, 1802), (408, 1817), (408, 1829), (408, 1847), (408, 1861), (408, 1865), (408, 1867), (408, 1872), (408, 1879), (408, 1892), (408, 1903), (408, 1917), (408, 1930), (408, 1931), (408, 1933), (408, 1953), (408, 1962), (408, 1976), (408, 1993), (408, 1994), (408, 2013), (408, 2023), (408, 2041), (408, 2057), (408, 2058), (408, 2065), (408, 2079), (408, 2086), (408, 2106), (408, 2118), (408, 2148), (408, 2186), (408, 2198), (408, 2202), (408, 2210), (408, 2220), (408, 2226), (408, 2263), (408, 2266), (408, 2282), (408, 2314), (408, 2370), (408, 2387), (408, 2463), (408, 2467), (408, 2518), (408, 2519), (408, 2535), (408, 2537), (408, 2558), (408, 2569), (408, 2638), (408, 2656), (408, 2669), (408, 2686), (408, 2707), (408, 2745), (408, 2746), (408, 2753), (408, 2764), (408, 2776), (408, 2785), (408, 2800), (408, 2807), (408, 2808), (408, 2851), (408, 2853), (408, 2858), (408, 2861), (408, 2863), (408, 2881), (408, 2883), (408, 2887), (408, 2888), (408, 2912), (408, 2918), (408, 2919), (408, 2926), (408, 2949), (408, 2955), (408, 2975), (408, 2978), (408, 3007), (408, 3022), (408, 3026), (408, 3034), (408, 3054), (408, 3066), (408, 3067), (408, 3088), (408, 3108), (408, 3120), (408, 3140), (408, 3147), (408, 3155), (408, 3169), (408, 3176), (408, 3206), (408, 3208), (408, 3221), (408, 3236), (408, 3250), (408, 3257), (408, 3259), (408, 3275), (408, 3305), (408, 3344), (408, 3386), (408, 3391), (408, 3393), (408, 3394), (408, 3395), (408, 3396), (408, 3397), (408, 3399), (408, 3400), (408, 3402), (408, 3403), (408, 3404), (408, 3405), (408, 3407), (408, 3408), (408, 3411), (408, 3413), (408, 3414), (408, 3415), (408, 3416), (408, 3417), (408, 3418), (408, 3419), (408, 3421), (408, 3422), (408, 3423), (408, 3424), (409, 35), (409, 131), (409, 184), (409, 225), (409, 933), (409, 1413), (409, 1487), (409, 1951), (410, 173), (410, 387), (410, 572), (410, 590), (410, 825), (411, 19), (411, 65), (411, 66), (411, 212), (411, 348), (411, 631), (411, 641), (412, 876), (412, 931), (412, 951), (412, 1089), (412, 1109), (412, 1244), (412, 1500), (412, 2583), (412, 3259), (413, 66), (413, 110), (413, 132), (413, 149), (413, 536), (413, 598), (413, 613), (413, 809), (413, 830), (413, 856), (413, 903), (413, 965), (413, 1295), (413, 1616), (413, 2175), (413, 2456), (413, 2955), (413, 3425), (413, 3426), (413, 3427), (413, 3428), (414, 25), (414, 44), (414, 184), (414, 337), (414, 618), (414, 639), (414, 1391), (414, 1476), (414, 1559), (414, 2310), (414, 2779), (414, 3346), (415, 165), (415, 1618), (415, 1769), (415, 2133), (416, 366), (416, 566), (416, 1656), (416, 1676), (416, 1879), (416, 3429), (416, 3430), (417, 25), (417, 316), (417, 621), (418, 146), (418, 150), (418, 186), (418, 210), (418, 222), (418, 331), (418, 398), (418, 668), (418, 992), (418, 1104), (418, 1468), (418, 1497), (418, 1569), (418, 2161), (418, 2218), (418, 2857), (418, 3020), (419, 68), (419, 93), (419, 97), (419, 184), (419, 319), (419, 348), (419, 387), (419, 397), (419, 503), (419, 532), (419, 598), (419, 612), (419, 640), (419, 819), (419, 854), (419, 1004), (419, 1048), (419, 1295), (419, 1629), (419, 1659), (419, 1716), (419, 1783), (419, 2299), (419, 2697), (420, 285), (420, 612), (420, 754), (420, 863), (420, 1003), (421, 67), (421, 522), (421, 624), (421, 626), (421, 710), (421, 841), (421, 2276), (421, 2410), (421, 2796), (421, 2798), (422, 14), (422, 99), (422, 112), (422, 121), (422, 142), (422, 161), (422, 174), (422, 391), (422, 513), (422, 611), (422, 613), (422, 618), (422, 635), (422, 697), (422, 815), (422, 842), (422, 852), (422, 853), (422, 925), (422, 926), (422, 936), (422, 983), (422, 987), (422, 1188), (422, 1220), (422, 1246), (422, 1683), (422, 1836), (422, 2069), (422, 2289), (422, 2417), (422, 2589), (422, 2658), (423, 266), (423, 396), (423, 486), (423, 498), (423, 514), (424, 210), (424, 704), (424, 922), (424, 1003), (424, 1293), (424, 1370), (425, 522), (425, 529), (425, 944), (426, 4), (426, 15), (426, 25), (426, 215), (426, 220), (426, 347), (426, 398), (426, 404), (426, 623), (426, 940), (426, 952), (426, 956), (426, 1322), (426, 1491), (426, 1497), (426, 1614), (426, 1810), (426, 2007), (426, 2195), (426, 2400), (426, 2401), (426, 2720), (426, 3381), (426, 3432), (426, 3433), (427, 220), (427, 222), (427, 2031), (428, 6), (428, 12), (428, 14), (428, 40), (428, 91), (428, 625), (428, 631), (428, 634), (428, 635), (428, 670), (428, 861), (428, 940), (428, 957), (428, 1293), (428, 1397), (428, 1581), (428, 1662), (429, 10), (429, 199), (429, 1027), (430, 388), (430, 399), (430, 411), (430, 481), (430, 508), (430, 510), (430, 513), (430, 532), (430, 545), (430, 551), (430, 1139), (431, 27), (431, 84), (431, 210), (431, 287), (431, 431), (431, 432), (431, 452), (431, 524), (431, 541), (431, 1771), (431, 1856), (431, 1864), (431, 2510), (432, 11), (432, 14), (432, 89), (432, 91), (432, 99), (432, 101), (432, 110), (432, 245), (432, 258), (432, 404), (432, 451), (432, 456), (432, 459), (432, 506), (432, 570), (432, 587), (432, 601), (432, 603), (432, 607), (432, 610), (432, 613), (432, 624), (432, 631), (432, 636), (432, 640), (432, 663), (432, 682), (432, 705), (432, 799), (432, 823), (432, 940), (432, 946), (432, 999), (432, 1010), (432, 1137), (432, 1153), (432, 1291), (432, 1370), (432, 1402), (432, 1462), (432, 1709), (432, 1730), (432, 1825), (432, 2270), (432, 2425), (432, 2771), (432, 2799), (432, 2922), (432, 2941), (432, 3023), (432, 3069), (432, 3167), (432, 3406), (433, 641), (433, 1097), (434, 307), (434, 1209), (435, 91), (435, 161), (435, 227), (435, 891), (435, 1097), (435, 1777), (436, 850), (436, 1776), (437, 165), (437, 839), (437, 878), (438, 25), (438, 505), (439, 24), (439, 27), (439, 621), (439, 641), (439, 868), (439, 904), (439, 914), (440, 32), (440, 39), (440, 404), (440, 416), (440, 473), (440, 504), (441, 25), (441, 393), (441, 401), (441, 498), (441, 525), (441, 543), (442, 4), (442, 11), (442, 14), (442, 16), (442, 21), (442, 32), (442, 33), (442, 43), (442, 51), (442, 59), (442, 104), (442, 105), (442, 168), (442, 189), (442, 191), (442, 194), (442, 195), (442, 201), (442, 209), (442, 237), (442, 254), (442, 299), (442, 332), (442, 334), (442, 405), (442, 407), (442, 409), (442, 507), (442, 562), (442, 603), (442, 619), (442, 631), (442, 640), (442, 682), (442, 713), (442, 720), (442, 770), (442, 782), (442, 789), (442, 793), (442, 798), (442, 803), (442, 844), (442, 863), (442, 888), (442, 894), (442, 900), (442, 941), (442, 947), (442, 948), (442, 950), (442, 969), (442, 974), (442, 1010), (442, 1015), (442, 1024), (442, 1037), (442, 1043), (442, 1047), (442, 1052), (442, 1058), (442, 1064), (442, 1069), (442, 1084), (442, 1087), (442, 1090), (442, 1103), (442, 1106), (442, 1132), (442, 1239), (442, 1275), (442, 1284), (442, 1301), (442, 1321), (442, 1342), (442, 1371), (442, 1383), (442, 1419), (442, 1451), (442, 1459), (442, 1472), (442, 1495), (442, 1516), (442, 1525), (442, 1534), (442, 1539), (442, 1546), (442, 1576), (442, 1591), (442, 1631), (442, 1641), (442, 1659), (442, 1681), (442, 1683), (442, 1692), (442, 1724), (442, 1758), (442, 1883), (442, 1888), (442, 1935), (442, 1937), (442, 1941), (442, 1948), (442, 1956), (442, 1977), (442, 2009), (442, 2036), (442, 2037), (442, 2079), (442, 2096), (442, 2125), (442, 2158), (442, 2172), (442, 2178), (442, 2205), (442, 2237), (442, 2241), (442, 2262), (442, 2272), (442, 2278), (442, 2336), (442, 2339), (442, 2344), (442, 2354), (442, 2356), (442, 2361), (442, 2407), (442, 2411), (442, 2414), (442, 2472), (442, 2475), (442, 2580), (442, 2584), (442, 2598), (442, 2637), (442, 2664), (442, 2671), (442, 2672), (442, 2713), (442, 2802), (442, 2886), (442, 2921), (442, 2942), (442, 3022), (442, 3044), (442, 3045), (442, 3054), (442, 3063), (442, 3084), (442, 3093), (442, 3112), (442, 3114), (442, 3115), (442, 3129), (442, 3133), (442, 3230), (442, 3254), (442, 3261), (442, 3303), (442, 3341), (442, 3364), (442, 3379), (442, 3438), (442, 3441), (442, 3444), (442, 3445), (442, 3448), (442, 3449), (442, 3450), (442, 3451), (442, 3452), (442, 3453), (442, 3454), (442, 3455), (442, 3457), (442, 3459), (442, 3460), (442, 3461), (442, 3462), (442, 3463), (442, 3464), (442, 3466), (442, 3467), (442, 3468), (442, 3469), (442, 3470), (442, 3471), (442, 3472), (443, 4), (443, 159), (443, 459), (444, 5), (444, 55), (444, 165), (444, 293), (444, 831), (444, 973), (444, 1224), (444, 2770), (444, 3473), (445, 409), (445, 421), (445, 445), (445, 1788), (445, 1790), (446, 41), (446, 64), (446, 72), (446, 96), (446, 104), (446, 190), (446, 203), (446, 299), (446, 346), (446, 591), (446, 594), (446, 595), (446, 615), (446, 923), (446, 1206), (446, 1272), (446, 1324), (446, 1452), (446, 1552), (446, 2048), (447, 3), (447, 19), (447, 35), (447, 57), (447, 101), (447, 249), (447, 321), (447, 346), (447, 347), (447, 359), (447, 371), (447, 451), (447, 599), (447, 816), (447, 1152), (447, 1186), (447, 1221), (447, 1265), (447, 1287), (447, 1783), (447, 1864), (447, 1901), (447, 2040), (447, 2051), (447, 2200), (447, 2647), (447, 2648), (447, 3207), (448, 252), (448, 1552), (449, 6), (449, 7), (449, 26), (449, 388), (449, 398), (449, 404), (449, 903), (449, 1579), (450, 1), (450, 40), (450, 55), (450, 286), (450, 409), (450, 429), (450, 570), (450, 964), (450, 1131), (451, 165), (451, 601), (451, 923), (451, 979), (451, 1321), (452, 55), (452, 390), (452, 391), (452, 394), (452, 450), (452, 470), (452, 524), (453, 150), (453, 752), (453, 2508), (454, 348), (454, 603), (454, 752), (454, 862), (454, 1027), (454, 1395), (454, 1742), (454, 2186), (454, 3047), (455, 27), (456, 26), (456, 33), (456, 68), (456, 199), (456, 272), (456, 348), (456, 404), (456, 406), (456, 503), (456, 672), (456, 707), (456, 758), (456, 903), (456, 915), (456, 932), (456, 959), (456, 975), (456, 1036), (456, 1094), (456, 1099), (456, 1109), (456, 1120), (456, 1274), (456, 1619), (456, 1635), (456, 1861), (456, 1870), (456, 1910), (456, 2055), (456, 2124), (456, 2223), (456, 2371), (456, 2851), (456, 2933), (456, 2945), (456, 2951), (456, 3304), (456, 3384), (456, 3436), (456, 3465), (456, 3475), (456, 3476), (456, 3477), (456, 3478), (457, 637), (458, 21), (458, 33), (458, 63), (458, 76), (458, 215), (458, 416), (458, 592), (458, 639), (458, 660), (458, 940), (458, 1211), (458, 1868), (458, 2199), (458, 2619), (458, 3479), (459, 150), (459, 154), (459, 349), (459, 904), (459, 950), (459, 1352), (459, 1359), (459, 1361), (459, 1389), (459, 1638), (459, 2123), (460, 220), (460, 619), (460, 994), (460, 1026), (460, 1038), (460, 1039), (460, 1616), (461, 3481), (462, 390), (462, 393), (462, 400), (462, 449), (462, 465), (462, 470), (462, 520), (463, 29), (463, 31), (463, 39), (463, 43), (463, 76), (463, 82), (463, 100), (463, 124), (463, 138), (463, 161), (463, 163), (463, 165), (463, 209), (463, 251), (463, 258), (463, 275), (463, 296), (463, 336), (463, 340), (463, 348), (463, 441), (463, 462), (463, 589), (463, 692), (463, 711), (463, 809), (463, 916), (463, 917), (463, 946), (463, 971), (463, 1144), (463, 1155), (463, 1166), (463, 1208), (463, 1214), (463, 1286), (463, 1321), (463, 1333), (463, 1362), (463, 1371), (463, 1372), (463, 1453), (463, 1553), (463, 1585), (463, 1649), (463, 1774), (463, 1804), (463, 1937), (463, 1942), (463, 1984), (463, 2100), (463, 2111), (463, 2113), (463, 2526), (463, 2700), (463, 2945), (463, 3032), (463, 3231), (464, 27), (464, 40), (464, 55), (464, 396), (464, 465), (464, 1151), (465, 939), (465, 1710), (466, 210), (466, 910), (466, 1242), (466, 1330), (466, 1893), (466, 1939), (467, 152), (467, 173), (467, 693), (467, 1425), (467, 1441), (467, 1739), (468, 10), (468, 32), (468, 43), (468, 49), (468, 52), (468, 63), (468, 64), (468, 74), (468, 126), (468, 131), (468, 141), (468, 146), (468, 163), (468, 173), (468, 199), (468, 266), (468, 271), (468, 288), (468, 323), (468, 333), (468, 376), (468, 378), (468, 384), (468, 386), (468, 391), (468, 422), (468, 469), (468, 471), (468, 514), (468, 553), (468, 572), (468, 586), (468, 593), (468, 609), (468, 617), (468, 618), (468, 620), (468, 644), (468, 680), (468, 686), (468, 721), (468, 728), (468, 739), (468, 740), (468, 741), (468, 791), (468, 853), (468, 855), (468, 906), (468, 913), (468, 915), (468, 925), (468, 946), (468, 950), (468, 951), (468, 972), (468, 973), (468, 1011), (468, 1014), (468, 1035), (468, 1038), (468, 1039), (468, 1160), (468, 1167), (468, 1171), (468, 1173), (468, 1181), (468, 1249), (468, 1255), (468, 1300), (468, 1306), (468, 1312), (468, 1331), (468, 1332), (468, 1376), (468, 1378), (468, 1379), (468, 1394), (468, 1443), (468, 1444), (468, 1561), (468, 1598), (468, 1604), (468, 1606), (468, 1639), (468, 1700), (468, 1714), (468, 1721), (468, 1722), (468, 1737), (468, 1773), (468, 1784), (468, 1791), (468, 1827), (468, 1897), (468, 1914), (468, 1950), (468, 1956), (468, 1966), (468, 1969), (468, 1989), (468, 2039), (468, 2057), (468, 2093), (468, 2097), (468, 2116), (468, 2174), (468, 2176), (468, 2211), (468, 2212), (468, 2220), (468, 2249), (468, 2257), (468, 2266), (468, 2274), (468, 2278), (468, 2345), (468, 2347), (468, 2373), (468, 2377), (468, 2378), (468, 2385), (468, 2448), (468, 2522), (468, 2545), (468, 2549), (468, 2560), (468, 2570), (468, 2595), (468, 2602), (468, 2607), (468, 2639), (468, 2659), (468, 2702), (468, 2706), (468, 2754), (468, 2828), (468, 2833), (468, 2836), (468, 2879), (468, 2895), (468, 2917), (468, 2918), (468, 2923), (468, 2928), (468, 2952), (468, 2956), (468, 2960), (468, 2964), (468, 2966), (468, 2969), (468, 2973), (468, 3019), (468, 3035), (468, 3036), (468, 3040), (468, 3062), (468, 3070), (468, 3079), (468, 3082), (468, 3089), (468, 3150), (468, 3155), (468, 3209), (468, 3216), (468, 3232), (468, 3238), (468, 3272), (468, 3281), (468, 3289), (468, 3293), (468, 3319), (468, 3380), (468, 3382), (468, 3417), (468, 3435), (468, 3440), (468, 3482), (468, 3483), (468, 3484), (468, 3485), (468, 3486), (468, 3487), (468, 3489), (468, 3490), (468, 3491), (468, 3493), (468, 3495), (468, 3498), (468, 3499), (468, 3500), (468, 3501), (468, 3502), (468, 3503), (468, 3504), (468, 3505), (468, 3506), (468, 3507), (468, 3509), (468, 3510), (468, 3511), (468, 3514), (468, 3515), (468, 3518), (468, 3519), (468, 3520), (468, 3521), (468, 3522), (468, 3524), (468, 3525), (468, 3526), (468, 3527), (469, 32), (469, 63), (469, 68), (469, 234), (469, 626), (469, 691), (469, 891), (469, 1026), (469, 1061), (469, 1107), (469, 1482), (469, 1500), (469, 1571), (470, 15), (470, 478), (470, 513), (470, 526), (470, 2710), (471, 10), (471, 15), (471, 36), (471, 57), (471, 67), (471, 70), (471, 119), (471, 126), (471, 131), (471, 141), (471, 148), (471, 154), (471, 161), (471, 162), (471, 201), (471, 215), (471, 348), (471, 383), (471, 475), (471, 478), (471, 507), (471, 520), (471, 614), (471, 631), (471, 636), (471, 638), (471, 665), (471, 686), (471, 794), (471, 872), (471, 910), (471, 951), (471, 986), (471, 987), (471, 999), (471, 1066), (471, 1192), (471, 1214), (471, 1230), (471, 1260), (471, 1300), (471, 1408), (471, 1470), (471, 1569), (471, 1574), (471, 1616), (471, 1650), (471, 1660), (471, 1726), (471, 1756), (471, 1774), (471, 1895), (471, 1929), (471, 2367), (471, 2449), (471, 2660), (471, 2944), (471, 2965), (471, 3174), (471, 3443), (471, 3529), (471, 3530), (471, 3531), (472, 55), (472, 670), (472, 3078), (473, 235), (473, 274), (473, 346), (473, 458), (473, 601), (473, 1337), (473, 1821), (473, 1830), (473, 1958), (473, 1984), (473, 2134), (473, 2194), (473, 2519), (473, 2851), (473, 3392), (473, 3532), (473, 3533), (473, 3534), (473, 3535), (474, 6), (474, 11), (474, 13), (474, 25), (474, 35), (474, 40), (474, 41), (474, 44), (474, 97), (474, 130), (474, 154), (474, 185), (474, 210), (474, 308), (474, 329), (474, 369), (474, 375), (474, 376), (474, 379), (474, 404), (474, 405), (474, 418), (474, 490), (474, 532), (474, 592), (474, 608), (474, 610), (474, 645), (474, 656), (474, 668), (474, 674), (474, 681), (474, 691), (474, 814), (474, 826), (474, 851), (474, 862), (474, 933), (474, 991), (474, 998), (474, 1012), (474, 1023), (474, 1028), (474, 1204), (474, 1221), (474, 1293), (474, 1334), (474, 1336), (474, 1400), (474, 1401), (474, 1474), (474, 1611), (474, 1635), (474, 1688), (474, 1690), (474, 1705), (474, 1722), (474, 1736), (474, 1769), (474, 1783), (474, 1822), (474, 1835), (474, 2075), (474, 2078), (474, 2139), (474, 2178), (474, 2215), (474, 2232), (474, 2238), (474, 2289), (474, 2290), (474, 2296), (474, 2346), (474, 2425), (474, 2650), (474, 2728), (474, 2825), (474, 2880), (474, 2912), (474, 3039), (474, 3064), (474, 3066), (474, 3274), (474, 3442), (475, 842), (475, 1807), (475, 1932), (476, 126), (476, 190), (476, 236), (476, 329), (476, 401), (476, 501), (476, 594), (476, 600), (476, 624), (476, 657), (476, 962), (476, 972), (476, 1008), (476, 2238), (476, 3410), (476, 3537), (477, 25), (477, 77), (477, 98), (477, 127), (477, 131), (477, 160), (477, 205), (477, 213), (477, 222), (477, 296), (477, 312), (477, 329), (477, 332), (477, 348), (477, 352), (477, 368), (477, 400), (477, 462), (477, 513), (477, 533), (477, 598), (477, 614), (477, 635), (477, 638), (477, 669), (477, 722), (477, 967), (477, 984), (477, 1021), (477, 1038), (477, 1059), (477, 1194), (477, 1197), (477, 1206), (477, 1273), (477, 1302), (477, 1314), (477, 1333), (477, 1362), (477, 1368), (477, 1478), (477, 1561), (477, 1574), (477, 1575), (477, 2274), (477, 2278), (477, 2316), (477, 2317), (477, 2322), (477, 2341), (477, 2382), (477, 2601), (477, 2641), (477, 2697), (477, 3125), (477, 3156), (477, 3538), (477, 3539), (478, 17), (478, 98), (478, 173), (478, 212), (478, 394), (478, 398), (478, 405), (478, 439), (478, 553), (478, 711), (478, 770), (478, 797), (478, 1020), (478, 1130), (478, 1884), (478, 1890), (478, 1933), (478, 2640), (478, 2675), (478, 2676), (478, 3041), (478, 3246), (478, 3540), (479, 284), (479, 412), (480, 36), (480, 258), (480, 391), (480, 492), (480, 790), (481, 150), (481, 932), (481, 1417), (481, 2340), (482, 65), (482, 285), (482, 574), (482, 1000), (482, 1261), (482, 1636), (482, 2104), (482, 2214), (482, 2431), (482, 2776), (483, 3), (483, 21), (483, 31), (483, 39), (483, 40), (483, 44), (483, 98), (483, 105), (483, 119), (483, 128), (483, 153), (483, 163), (483, 181), (483, 207), (483, 222), (483, 243), (483, 276), (483, 311), (483, 372), (483, 390), (483, 445), (483, 476), (483, 593), (483, 597), (483, 622), (483, 641), (483, 642), (483, 657), (483, 670), (483, 686), (483, 714), (483, 720), (483, 727), (483, 836), (483, 844), (483, 855), (483, 866), (483, 961), (483, 975), (483, 1013), (483, 1345), (483, 1404), (483, 1452), (483, 1473), (483, 1486), (483, 1500), (483, 1564), (483, 1612), (483, 1614), (483, 1710), (483, 1727), (483, 1770), (483, 1810), (483, 1843), (483, 1937), (483, 1963), (483, 1967), (483, 1968), (483, 2136), (483, 2196), (483, 2258), (483, 2278), (483, 2360), (483, 2374), (483, 2468), (483, 2574), (483, 2642), (483, 2753), (483, 2774), (483, 3541), (483, 3542), (484, 597), (484, 634), (484, 637), (484, 713), (484, 870), (484, 932), (484, 936), (484, 1043), (484, 1047), (484, 1191), (484, 1436), (484, 1614), (485, 380), (485, 596), (485, 610), (485, 684), (485, 728), (485, 736), (485, 1468), (485, 2338), (486, 0), (486, 40), (486, 53), (486, 439), (486, 558), (486, 559), (486, 571), (486, 576), (486, 808), (486, 1147), (486, 1151), (486, 1153), (486, 1191), (486, 1862), (487, 32), (487, 166), (487, 207), (487, 1460), (487, 2527), (487, 2533), (487, 3543), (488, 14), (488, 911), (489, 40), (489, 160), (489, 376), (489, 397), (489, 710), (489, 759), (489, 799), (489, 958), (489, 1089), (489, 1142), (489, 1191), (489, 1419), (489, 1614), (489, 1816), (489, 1951), (489, 1978), (489, 2088), (489, 2154), (489, 2156), (489, 2648), (489, 2681), (489, 2892), (489, 3544), (490, 78), (490, 211), (490, 348), (490, 400), (490, 838), (490, 932), (491, 3), (491, 6), (491, 399), (491, 465), (492, 2916), (492, 3058), (493, 25), (493, 28), (493, 114), (493, 271), (493, 814), (493, 845), (493, 1284), (493, 1787), (493, 2116), (494, 37), (495, 101), (495, 184), (495, 310), (495, 543), (495, 1155), (496, 25), (496, 150), (496, 383), (496, 940), (496, 1172), (496, 1558), (496, 2235), (496, 2677), (497, 331), (497, 362), (497, 376), (497, 714), (497, 997), (497, 1263), (497, 1695), (497, 1837), (497, 2542), (498, 756), (498, 2520), (499, 763), (500, 3), (500, 18), (500, 388), (501, 289), (501, 1796), (502, 12), (502, 100), (502, 158), (502, 160), (502, 180), (502, 211), (502, 212), (502, 567), (502, 596), (502, 616), (502, 637), (502, 709), (502, 722), (502, 743), (502, 814), (502, 862), (502, 865), (502, 885), (502, 888), (502, 934), (502, 966), (502, 1031), (502, 1065), (502, 1085), (502, 1091), (502, 1196), (502, 1416), (502, 1442), (502, 1469), (502, 1533), (502, 1614), (502, 1851), (502, 2004), (502, 2183), (502, 2289), (502, 2342), (502, 2471), (502, 2611), (502, 2676), (502, 2746), (502, 2755), (502, 2889), (502, 2926), (502, 3355), (502, 3547), (502, 3548), (502, 3549), (502, 3550), (503, 54), (503, 65), (503, 351), (503, 363), (503, 416), (503, 620), (503, 1027), (503, 1295), (503, 1783), (503, 3551), (504, 150), (504, 229), (504, 340), (504, 752), (504, 889), (504, 1119), (504, 1125), (504, 1755), (505, 18), (505, 396), (505, 399), (505, 465), (505, 526), (506, 6), (506, 14), (506, 165), (506, 296), (506, 391), (506, 3552), (507, 14), (507, 32), (507, 69), (507, 78), (507, 82), (507, 138), (507, 203), (507, 222), (507, 245), (507, 299), (507, 406), (507, 419), (507, 524), (507, 641), (507, 686), (507, 691), (507, 839), (507, 883), (507, 940), (507, 959), (507, 980), (507, 1116), (507, 1150), (507, 1170), (507, 1244), (507, 1312), (507, 1343), (507, 1363), (507, 1484), (507, 1751), (507, 1775), (507, 1895), (507, 1911), (507, 1915), (507, 1947), (507, 2116), (507, 2225), (507, 2334), (507, 2689), (507, 3159), (507, 3166), (507, 3181), (507, 3182), (507, 3223), (507, 3283), (507, 3553), (507, 3554), (507, 3555), (507, 3556), (507, 3557), (508, 14), (508, 1126), (508, 2031), (509, 24), (509, 65), (509, 129), (509, 1905), (509, 3222), (510, 43), (510, 79), (510, 83), (510, 109), (510, 240), (510, 276), (510, 294), (510, 299), (510, 406), (510, 487), (510, 597), (510, 612), (510, 681), (510, 682), (510, 734), (510, 773), (510, 914), (510, 936), (510, 960), (510, 975), (510, 984), (510, 1109), (510, 1274), (510, 1333), (510, 1341), (510, 1342), (510, 1388), (510, 1481), (510, 1500), (510, 1570), (510, 1626), (510, 2041), (510, 2046), (510, 2094), (510, 2097), (510, 2344), (510, 2408), (510, 2454), (510, 2711), (510, 2994), (510, 3108), (510, 3144), (510, 3558), (511, 530), (511, 634), (511, 919), (511, 1324), (511, 2065), (512, 19), (512, 211), (512, 789), (513, 100), (513, 218), (513, 310), (513, 595), (513, 612), (513, 676), (513, 682), (513, 760), (513, 1012), (513, 1015), (513, 1209), (513, 1272), (513, 1810), (513, 1844), (513, 2285), (513, 2593), (513, 3437), (514, 36), (514, 259), (514, 2426), (515, 19), (515, 41), (515, 70), (515, 116), (515, 154), (515, 178), (515, 187), (515, 682), (515, 742), (515, 745), (515, 759), (515, 838), (515, 839), (515, 874), (515, 1018), (515, 1027), (515, 1056), (515, 1067), (515, 1272), (515, 1710), (515, 2013), (515, 2156), (515, 2987), (516, 405), (516, 637), (516, 774), (516, 855), (516, 936), (516, 1012), (516, 1029), (516, 1620), (516, 2490), (516, 2624), (517, 24), (517, 63), (517, 80), (517, 310), (517, 392), (517, 839), (517, 907), (517, 2093), (518, 11), (518, 34), (518, 50), (518, 210), (518, 231), (518, 366), (518, 367), (518, 371), (518, 406), (518, 407), (518, 567), (518, 590), (518, 632), (518, 678), (518, 738), (518, 763), (518, 863), (518, 871), (518, 885), (518, 957), (518, 1026), (518, 1045), (518, 1076), (518, 1132), (518, 1301), (518, 1404), (518, 1418), (518, 1435), (518, 1441), (518, 1704), (518, 1844), (518, 1930), (518, 2090), (518, 2295), (518, 2594), (518, 2648), (518, 2812), (518, 2994), (518, 3420), (518, 3559), (519, 173), (519, 210), (519, 1012), (519, 1039), (519, 1117), (519, 1521), (520, 56), (520, 106), (520, 331), (520, 1177), (520, 1202), (520, 1226), (520, 1317), (520, 1379), (520, 1386), (520, 1388), (520, 1409), (520, 1626), (520, 1628), (520, 2062), (520, 2980), (520, 3317), (521, 19), (521, 228), (521, 230), (521, 670), (521, 832), (521, 1067), (521, 1324), (521, 1498), (521, 1848), (521, 2418), (521, 3116), (522, 39), (522, 258), (522, 964), (523, 501), (523, 505), (524, 975), (525, 84), (525, 184), (525, 801), (525, 903), (525, 990), (526, 150), (526, 2041), (526, 2405), (527, 34), (527, 83), (527, 84), (527, 99), (527, 161), (527, 170), (527, 172), (527, 212), (527, 247), (527, 385), (527, 603), (527, 631), (527, 660), (527, 664), (527, 669), (527, 801), (527, 809), (527, 866), (527, 991), (527, 994), (527, 1059), (527, 1080), (527, 1085), (527, 1088), (527, 1090), (527, 1095), (527, 1228), (527, 1348), (527, 1411), (527, 1485), (527, 1509), (527, 1523), (527, 1569), (527, 1768), (527, 1846), (527, 2299), (527, 2308), (527, 2357), (527, 2359), (527, 2481), (527, 2670), (527, 2681), (527, 2734), (527, 3097), (527, 3262), (527, 3265), (527, 3266), (527, 3456), (527, 3561), (527, 3562), (528, 159), (528, 346), (528, 1284), (529, 267), (529, 276), (529, 501), (529, 3348), (530, 1510), (530, 2088), (531, 216), (531, 447), (531, 1145), (532, 27), (532, 210), (532, 612), (533, 63), (533, 637), (533, 1710), (533, 1739), (533, 1879), (534, 35), (534, 451), (534, 488), (534, 508), (535, 66), (535, 210), (535, 597), (535, 628), (535, 656), (535, 678), (535, 728), (535, 992), (535, 1413), (535, 2041), (536, 94), (536, 284), (536, 378), (536, 397), (536, 513), (536, 988), (536, 1003), (536, 1485), (536, 1629), (536, 2270), (536, 2340), (536, 2618), (536, 3299), (537, 41), (537, 560), (537, 1922), (538, 349), (538, 1211), (538, 3030), (539, 80), (539, 447), (539, 604), (539, 1278), (539, 1326), (539, 2393), (540, 1183), (541, 63), (541, 216), (541, 1806), (542, 14), (542, 894), (543, 3563), (544, 6), (544, 14), (544, 106), (544, 222), (544, 513), (544, 646), (544, 776), (544, 874), (544, 888), (544, 1077), (544, 1091), (544, 1108), (544, 1114), (544, 1529), (545, 1), (545, 30), (545, 55), (545, 63), (545, 96), (545, 211), (545, 367), (545, 501), (545, 627), (545, 904), (545, 911), (545, 962), (545, 1308), (545, 1337), (545, 1343), (545, 1462), (545, 1667), (545, 1813), (545, 2127), (546, 69), (546, 150), (546, 173), (546, 963), (546, 1004), (547, 35), (547, 247), (547, 340), (547, 1155), (547, 1315), (547, 1792), (547, 1876), (548, 10), (548, 19), (548, 65), (548, 106), (548, 126), (548, 150), (548, 175), (548, 194), (548, 302), (548, 331), (548, 364), (548, 429), (548, 462), (548, 529), (548, 792), (548, 843), (548, 973), (548, 977), (548, 1136), (548, 1147), (548, 1148), (548, 1169), (548, 1197), (548, 1200), (548, 1226), (548, 1254), (548, 1271), (548, 1278), (548, 1279), (548, 1291), (548, 1350), (548, 1361), (548, 1588), (548, 1608), (548, 1811), (548, 1885), (548, 1900), (548, 1984), (548, 2093), (548, 2104), (548, 2346), (548, 2814), (548, 3008), (548, 3151), (548, 3229), (548, 3271), (548, 3390), (548, 3492), (548, 3564), (549, 641), (549, 938), (549, 1471), (549, 3131), (550, 397), (551, 15), (551, 21), (551, 963), (551, 1555), (551, 1611), (551, 1686), (551, 1826), (551, 1898), (551, 2565), (552, 2), (552, 18), (552, 281), (552, 284), (552, 397), (552, 464), (552, 517), (552, 520), (552, 537), (552, 567), (552, 906), (552, 1139), (553, 14), (553, 63), (553, 68), (553, 108), (553, 162), (553, 252), (553, 258), (553, 315), (553, 327), (553, 369), (553, 623), (553, 638), (553, 639), (553, 736), (553, 744), (553, 760), (553, 761), (553, 896), (553, 1038), (553, 1081), (553, 1109), (553, 1189), (553, 1506), (553, 1517), (553, 1559), (553, 1561), (553, 1616), (553, 1763), (553, 1854), (553, 2085), (553, 2138), (553, 2181), (553, 2208), (553, 2630), (553, 2732), (553, 2736), (553, 2738), (553, 3244), (553, 3339), (553, 3528), (553, 3546), (553, 3565), (553, 3566), (554, 4), (554, 82), (554, 95), (554, 124), (554, 156), (554, 213), (554, 222), (554, 388), (554, 446), (554, 529), (554, 640), (554, 682), (554, 737), (554, 827), (554, 859), (554, 865), (554, 879), (554, 896), (554, 936), (554, 957), (554, 994), (554, 1059), (554, 1077), (554, 1085), (554, 1142), (554, 1183), (554, 1300), (554, 1448), (554, 1472), (554, 1489), (554, 1531), (554, 1700), (554, 1855), (554, 1985), (554, 2012), (554, 2151), (554, 2153), (554, 2160), (554, 2206), (554, 2299), (554, 2971), (554, 3134), (554, 3136), (554, 3353), (555, 27), (555, 70), (555, 76), (555, 97), (555, 110), (555, 157), (555, 159), (555, 194), (555, 199), (555, 711), (555, 768), (555, 953), (555, 1012), (555, 1221), (555, 1274), (555, 1819), (555, 1995), (555, 2065), (555, 2333), (555, 2681), (555, 3415), (555, 3568), (556, 55), (556, 64), (556, 80), (556, 232), (556, 284), (556, 633), (556, 684), (556, 747), (556, 749), (556, 755), (556, 1069), (556, 1232), (556, 1266), (556, 1554), (556, 1842), (556, 1851), (556, 2320), (556, 2493), (556, 3569), (557, 219), (557, 329), (557, 331), (557, 380), (557, 390), (557, 596), (557, 648), (557, 684), (557, 750), (557, 979), (557, 1520), (557, 1522), (557, 1536), (557, 1614), (557, 1618), (557, 1758), (557, 2009), (557, 2351), (557, 2352), (557, 3447), (557, 3458), (558, 275), (558, 283), (558, 284), (559, 7), (559, 25), (559, 29), (559, 393), (559, 398), (559, 421), (560, 0), (560, 226), (560, 308), (560, 328), (560, 398), (560, 775), (560, 779), (560, 893), (560, 898), (560, 916), (560, 939), (560, 981), (560, 1113), (560, 1115), (560, 1119), (560, 1124), (560, 1155), (560, 1515), (560, 1545), (560, 1546), (560, 1852), (560, 1942), (560, 2003), (560, 2340), (560, 2396), (560, 2476), (560, 2480), (560, 2502), (560, 2582), (560, 2645), (560, 2939), (560, 3138), (560, 3312), (560, 3570), (560, 3571), (560, 3572), (560, 3573), (560, 3574), (560, 3575), (560, 3576), (560, 3577), (561, 25), (561, 182), (561, 1892), (562, 399), (562, 513), (562, 521), (563, 61), (563, 79), (563, 80), (563, 119), (563, 296), (563, 349), (563, 363), (563, 493), (563, 541), (563, 682), (563, 964), (563, 965), (563, 1740), (564, 71), (564, 248), (564, 1129), (564, 1282), (564, 1285), (564, 1332), (564, 1629), (564, 1869), (564, 1989), (564, 2523), (564, 2813), (564, 3247), (564, 3352), (564, 3564), (565, 104), (565, 138), (565, 175), (565, 244), (565, 257), (565, 417), (565, 578), (565, 591), (565, 1875), (565, 2567), (565, 2782), (565, 3488), (566, 24), (566, 70), (566, 93), (566, 97), (566, 119), (566, 150), (566, 174), (566, 199), (566, 309), (566, 317), (566, 412), (566, 493), (566, 635), (566, 649), (566, 776), (566, 827), (566, 841), (566, 888), (566, 954), (566, 964), (566, 979), (566, 992), (566, 1003), (566, 1004), (566, 1017), (566, 1037), (566, 1038), (566, 1060), (566, 1069), (566, 1107), (566, 1418), (566, 1744), (566, 1825), (566, 2270), (566, 2324), (567, 3), (567, 6), (567, 396), (567, 458), (567, 521), (568, 151), (568, 311), (568, 3271), (569, 164), (569, 306), (569, 500), (570, 33), (570, 44), (570, 58), (570, 80), (570, 183), (570, 296), (570, 309), (570, 315), (570, 333), (570, 522), (570, 537), (570, 1204), (570, 1649), (570, 1870), (570, 2245), (570, 2870), (571, 94), (571, 109), (571, 110), (571, 362), (571, 603), (571, 813), (571, 1281), (571, 1322), (572, 70), (572, 108), (572, 110), (572, 118), (572, 159), (572, 186), (572, 198), (572, 252), (572, 295), (572, 329), (572, 337), (572, 388), (572, 404), (572, 492), (572, 503), (572, 591), (572, 594), (572, 597), (572, 614), (572, 621), (572, 622), (572, 639), (572, 677), (572, 682), (572, 744), (572, 833), (572, 858), (572, 944), (572, 971), (572, 974), (572, 983), (572, 1002), (572, 1016), (572, 1026), (572, 1185), (572, 1267), (572, 1399), (572, 1597), (572, 1603), (572, 1609), (572, 1707), (572, 2277), (572, 2388), (572, 2527), (572, 3291), (572, 3523), (573, 210), (573, 378), (573, 632), (573, 720), (574, 220), (574, 629), (574, 879), (574, 1034), (574, 1496), (574, 1498), (575, 217), (575, 219), (575, 750), (575, 1401), (576, 31), (576, 401), (576, 451), (576, 465), (576, 492), (576, 504), (576, 521), (576, 531), (576, 962), (577, 23), (577, 215), (577, 222), (577, 326), (577, 1052), (577, 1665), (578, 24), (578, 68), (578, 168), (578, 194), (578, 211), (578, 597), (578, 619), (578, 635), (578, 646), (578, 744), (578, 752), (578, 839), (578, 1105), (578, 1114), (578, 1442), (578, 1459), (578, 1524), (578, 1527), (578, 1535), (578, 1549), (578, 1841), (578, 1982), (578, 2461), (578, 2684), (579, 31), (579, 80), (579, 246), (579, 247), (579, 260), (579, 294), (579, 354), (579, 399), (579, 445), (579, 524), (579, 551), (579, 805), (579, 944), (579, 1179), (579, 1200), (579, 1288), (579, 2434), (579, 2860), (579, 3579), (580, 11), (580, 393), (580, 490), (580, 505), (580, 2513), (581, 27), (581, 40), (581, 41), (581, 60), (581, 505), (582, 14), (582, 32), (582, 59), (582, 63), (582, 68), (582, 79), (582, 107), (582, 119), (582, 121), (582, 176), (582, 180), (582, 192), (582, 244), (582, 249), (582, 258), (582, 284), (582, 295), (582, 310), (582, 317), (582, 351), (582, 392), (582, 405), (582, 418), (582, 462), (582, 494), (582, 507), (582, 522), (582, 601), (582, 630), (582, 638), (582, 686), (582, 692), (582, 710), (582, 729), (582, 865), (582, 949), (582, 961), (582, 973), (582, 990), (582, 1023), (582, 1045), (582, 1061), (582, 1069), (582, 1443), (582, 1455), (582, 1459), (582, 1487), (582, 1570), (582, 1587), (582, 1695), (582, 1770), (582, 1841), (582, 2051), (582, 2288), (582, 2410), (582, 2574), (582, 2768), (582, 2775), (582, 3168), (582, 3237), (583, 603), (583, 816), (583, 923), (583, 1328), (584, 285), (584, 436), (584, 486), (584, 494), (584, 501), (584, 504), (584, 790), (584, 2519), (585, 68), (585, 283), (585, 284), (585, 301), (585, 331), (585, 398), (585, 424), (585, 504), (585, 513), (585, 624), (585, 657), (585, 1034), (585, 1038), (585, 1558), (585, 2769), (586, 106), (586, 113), (586, 413), (586, 537), (586, 551), (586, 735), (586, 1184), (586, 1305), (586, 1437), (586, 1984), (586, 2238), (586, 2241), (586, 2274), (586, 2594), (586, 2844), (586, 2854), (586, 3052), (586, 3342), (586, 3517), (586, 3580), (586, 3582), (586, 3583), (586, 3585), (587, 2112), (588, 62), (588, 70), (588, 98), (588, 216), (588, 227), (588, 234), (588, 249), (588, 371), (588, 378), (588, 605), (588, 629), (588, 633), (588, 639), (588, 657), (588, 729), (588, 825), (588, 895), (588, 1060), (588, 1085), (588, 1096), (588, 1102), (588, 1177), (588, 1531), (588, 1542), (588, 1741), (588, 1888), (588, 2081), (588, 2408), (588, 2596), (588, 2646), (588, 3327), (588, 3586), (588, 3587), (588, 3588), (588, 3589), (588, 3590), (589, 14), (589, 41), (589, 43), (589, 58), (589, 63), (589, 65), (589, 73), (589, 76), (589, 82), (589, 110), (589, 120), (589, 130), (589, 168), (589, 275), (589, 284), (589, 301), (589, 335), (589, 350), (589, 392), (589, 399), (589, 602), (589, 711), (589, 839), (589, 841), (589, 910), (589, 965), (589, 969), (589, 1169), (589, 1209), (589, 1219), (589, 1231), (589, 1238), (589, 1276), (589, 1284), (589, 1780), (589, 1781), (589, 1829), (589, 2436), (589, 2779), (589, 2902), (589, 3100), (589, 3153), (590, 936), (590, 2737), (591, 3), (591, 4), (591, 8), (591, 13), (591, 40), (591, 57), (591, 62), (591, 63), (591, 64), (591, 72), (591, 91), (591, 94), (591, 107), (591, 125), (591, 143), (591, 146), (591, 163), (591, 165), (591, 182), (591, 193), (591, 197), (591, 202), (591, 222), (591, 238), (591, 248), (591, 251), (591, 288), (591, 302), (591, 322), (591, 342), (591, 362), (591, 371), (591, 377), (591, 401), (591, 439), (591, 441), (591, 457), (591, 467), (591, 480), (591, 528), (591, 540), (591, 544), (591, 547), (591, 548), (591, 549), (591, 563), (591, 579), (591, 593), (591, 616), (591, 630), (591, 640), (591, 650), (591, 668), (591, 687), (591, 694), (591, 704), (591, 767), (591, 775), (591, 790), (591, 804), (591, 814), (591, 817), (591, 821), (591, 829), (591, 830), (591, 839), (591, 849), (591, 850), (591, 871), (591, 876), (591, 883), (591, 928), (591, 937), (591, 940), (591, 942), (591, 962), (591, 989), (591, 997), (591, 999), (591, 1004), (591, 1006), (591, 1007), (591, 1051), (591, 1073), (591, 1183), (591, 1189), (591, 1191), (591, 1202), (591, 1226), (591, 1242), (591, 1243), (591, 1244), (591, 1250), (591, 1263), (591, 1296), (591, 1300), (591, 1312), (591, 1320), (591, 1326), (591, 1377), (591, 1422), (591, 1430), (591, 1432), (591, 1484), (591, 1511), (591, 1586), (591, 1633), (591, 1654), (591, 1667), (591, 1675), (591, 1706), (591, 1752), (591, 1759), (591, 1786), (591, 1808), (591, 1822), (591, 1835), (591, 1854), (591, 1891), (591, 1895), (591, 1902), (591, 1908), (591, 1948), (591, 1949), (591, 1975), (591, 1999), (591, 2021), (591, 2068), (591, 2091), (591, 2100), (591, 2128), (591, 2162), (591, 2217), (591, 2237), (591, 2239), (591, 2258), (591, 2265), (591, 2278), (591, 2291), (591, 2310), (591, 2327), (591, 2370), (591, 2407), (591, 2465), (591, 2475), (591, 2532), (591, 2609), (591, 2611), (591, 2705), (591, 2710), (591, 2723), (591, 2724), (591, 2726), (591, 2751), (591, 2773), (591, 2807), (591, 2831), (591, 2847), (591, 2855), (591, 2863), (591, 2878), (591, 2902), (591, 2904), (591, 2908), (591, 2927), (591, 2958), (591, 2988), (591, 3004), (591, 3005), (591, 3015), (591, 3025), (591, 3064), (591, 3118), (591, 3152), (591, 3157), (591, 3164), (591, 3170), (591, 3183), (591, 3192), (591, 3199), (591, 3241), (591, 3251), (591, 3270), (591, 3273), (591, 3276), (591, 3349), (591, 3359), (591, 3401), (591, 3409), (591, 3412), (591, 3431), (591, 3439), (591, 3496), (591, 3508), (591, 3539), (591, 3545), (591, 3560), (591, 3575), (591, 3578), (591, 3581), (591, 3584), (591, 3591), (591, 3592), (591, 3593), (591, 3595), (591, 3596), (591, 3597), (591, 3598), (591, 3599), (591, 3600), (591, 3601), (591, 3602), (591, 3603), (591, 3604), (591, 3605), (591, 3606), (591, 3607), (591, 3608), (591, 3610), (591, 3611), (591, 3612), (591, 3613), (591, 3614), (591, 3615), (591, 3616), (591, 3617), (591, 3618), (591, 3619), (591, 3620), (591, 3621), (591, 3622), (591, 3623), (592, 0), (592, 28), (592, 33), (592, 34), (592, 36), (592, 43), (592, 48), (592, 65), (592, 70), (592, 76), (592, 86), (592, 126), (592, 127), (592, 131), (592, 158), (592, 163), (592, 178), (592, 329), (592, 346), (592, 367), (592, 418), (592, 470), (592, 482), (592, 503), (592, 506), (592, 524), (592, 550), (592, 553), (592, 573), (592, 593), (592, 631), (592, 641), (592, 662), (592, 710), (592, 712), (592, 716), (592, 731), (592, 799), (592, 837), (592, 849), (592, 851), (592, 909), (592, 914), (592, 965), (592, 979), (592, 1191), (592, 1240), (592, 1243), (592, 1289), (592, 1313), (592, 1400), (592, 1583), (592, 1587), (592, 1666), (592, 1723), (592, 1749), (592, 1783), (592, 1840), (592, 1882), (592, 1910), (592, 1924), (592, 1960), (592, 1998), (592, 2037), (592, 2052), (592, 2252), (592, 2346), (592, 2438), (592, 2514), (592, 2525), (592, 2586), (592, 2604), (592, 2657), (592, 2752), (592, 2753), (592, 2782), (592, 2849), (592, 2858), (592, 3008), (592, 3009), (592, 3081), (592, 3143), (592, 3376), (592, 3594), (593, 0), (593, 231), (593, 657), (593, 763), (593, 774), (593, 855), (593, 896), (593, 926), (593, 938), (593, 942), (593, 955), (593, 1624), (593, 1627), (593, 2508), (594, 12), (594, 39), (594, 279), (594, 281), (594, 397), (594, 406), (594, 413), (594, 419), (594, 537), (594, 541), (594, 834), (594, 835), (594, 961), (594, 963), (594, 1140), (594, 2101), (594, 2129), (595, 9), (595, 36), (595, 60), (595, 67), (595, 74), (595, 79), (595, 126), (595, 131), (595, 249), (595, 257), (595, 272), (595, 277), (595, 293), (595, 294), (595, 304), (595, 313), (595, 328), (595, 338), (595, 356), (595, 490), (595, 504), (595, 519), (595, 605), (595, 692), (595, 794), (595, 801), (595, 922), (595, 943), (595, 949), (595, 965), (595, 978), (595, 1163), (595, 1233), (595, 1239), (595, 1246), (595, 1314), (595, 1337), (595, 1342), (595, 1554), (595, 1578), (595, 1593), (595, 1594), (595, 1647), (595, 1650), (595, 1674), (595, 1799), (595, 1800), (595, 1814), (595, 1831), (595, 1834), (595, 1871), (595, 1939), (595, 1942), (595, 2044), (595, 2132), (595, 2197), (595, 2249), (595, 2564), (595, 2636), (595, 2701), (595, 2750), (595, 2784), (595, 2788), (595, 2831), (595, 2857), (595, 2897), (595, 2918), (595, 2962), (595, 3031), (595, 3201), (595, 3239), (595, 3241), (595, 3368), (595, 3385), (595, 3388), (595, 3389), (595, 3434), (595, 3494), (595, 3497), (595, 3624), (595, 3625), (595, 3626), (595, 3627), (595, 3628), (596, 11), (596, 16), (596, 284), (596, 285), (596, 394), (596, 399), (596, 430), (596, 465), (596, 502), (596, 521), (596, 522), (596, 962), (596, 2571), (596, 2765), (597, 64), (597, 631), (597, 647), (597, 1030), (597, 1176), (597, 1290), (597, 1333), (597, 1475), (597, 1571), (597, 1615), (597, 2150), (597, 2517), (597, 2519), (597, 3171), (597, 3480), (597, 3609), (598, 4), (598, 36), (598, 41), (598, 73), (598, 106), (598, 126), (598, 127), (598, 165), (598, 212), (598, 241), (598, 242), (598, 272), (598, 297), (598, 299), (598, 305), (598, 340), (598, 362), (598, 378), (598, 413), (598, 415), (598, 469), (598, 557), (598, 614), (598, 622), (598, 631), (598, 640), (598, 705), (598, 716), (598, 725), (598, 734), (598, 738), (598, 837), (598, 838), (598, 844), (598, 858), (598, 967), (598, 986), (598, 1005), (598, 1040), (598, 1155), (598, 1202), (598, 1222), (598, 1250), (598, 1252), (598, 1342), (598, 1435), (598, 1458), (598, 1471), (598, 1561), (598, 1562), (598, 1626), (598, 1665), (598, 1719), (598, 1739), (598, 1769), (598, 1793), (598, 1810), (598, 1814), (598, 1830), (598, 1923), (598, 1973), (598, 2040), (598, 2097), (598, 2098), (598, 2124), (598, 2193), (598, 2216), (598, 2243), (598, 2383), (598, 2439), (598, 2451), (598, 2546), (598, 2558), (598, 2712), (598, 2730), (598, 2774), (598, 2788), (598, 2797), (598, 2915), (598, 2931), (598, 3092), (598, 3373), (598, 3376), (598, 3474), (598, 3512), (598, 3513), (598, 3516), (598, 3536), (598, 3567), (598, 3629), (598, 3630), (598, 3631), (598, 3632), (598, 3633), (598, 3634), (598, 3635), (598, 3636), (599, 16), (599, 25), (599, 63), (599, 76), (599, 128), (599, 161), (599, 180), (599, 182), (599, 193), (599, 404), (599, 441), (599, 463), (599, 582), (599, 598), (599, 835), (599, 838), (599, 1147), (599, 1390), (599, 1588), (599, 1659), (599, 2096), (599, 2551), (600, 6), (600, 9), (600, 22), (600, 33), (600, 70), (600, 81), (600, 84), (600, 88), (600, 98), (600, 123), (600, 125), (600, 150), (600, 178), (600, 200), (600, 284), (600, 327), (600, 339), (600, 348), (600, 378), (600, 391), (600, 398), (600, 404), (600, 487), (600, 501), (600, 570), (600, 626), (600, 627), (600, 628), (600, 634), (600, 635), (600, 638), (600, 673), (600, 704), (600, 720), (600, 805), (600, 842), (600, 845), (600, 854), (600, 923), (600, 967), (600, 980), (600, 984), (600, 1133), (600, 1217), (600, 1226), (600, 1227), (600, 1232), (600, 1243), (600, 1260), (600, 1265), (600, 1276), (600, 1293), (600, 1349), (600, 1369), (600, 1400), (600, 1559), (600, 1569), (600, 1689), (600, 1835), (600, 1937), (600, 2060), (600, 2198), (600, 2279), (600, 2282), (600, 2378), (600, 2397), (600, 2524), (600, 2543), (600, 2554), (600, 2558), (600, 2747), (600, 2803), (600, 2848), (600, 3168), (600, 3169), (600, 3280), (601, 501), (601, 1925), (601, 2967), (601, 3387), (602, 2), (602, 27), (602, 69), (602, 212), (602, 214), (602, 216), (602, 228), (602, 295), (602, 363), (602, 367), (602, 386), (602, 441), (602, 448), (602, 513), (602, 591), (602, 608), (602, 629), (602, 630), (602, 637), (602, 639), (602, 651), (602, 736), (602, 758), (602, 770), (602, 788), (602, 836), (602, 839), (602, 862), (602, 884), (602, 886), (602, 892), (602, 950), (602, 954), (602, 957), (602, 980), (602, 981), (602, 992), (602, 1003), (602, 1030), (602, 1056), (602, 1061), (602, 1062), (602, 1079), (602, 1098), (602, 1122), (602, 1413), (602, 1418), (602, 1442), (602, 1462), (602, 1478), (602, 1497), (602, 1514), (602, 1539), (602, 1540), (602, 1556), (602, 1572), (602, 1574), (602, 1589), (602, 1698), (602, 1710), (602, 1742), (602, 1767), (602, 1844), (602, 1846), (602, 1854), (602, 1969), (602, 2092), (602, 2160), (602, 2181), (602, 2188), (602, 2209), (602, 2277), (602, 2293), (602, 2294), (602, 2314), (602, 2405), (602, 2469), (602, 2520), (602, 2542), (602, 2566), (602, 2617), (602, 2649), (602, 2657), (602, 2716), (602, 2717), (602, 2721), (602, 2742), (602, 2748), (602, 2803), (602, 2877), (602, 2904), (602, 2909), (602, 2957), (602, 3093), (602, 3099), (602, 3105), (602, 3107), (602, 3109), (602, 3158), (602, 3175), (602, 3180), (602, 3189), (602, 3193), (602, 3197), (602, 3198), (602, 3252), (602, 3268), (602, 3308), (602, 3314), (602, 3365), (602, 3398), (602, 3446), (602, 3599), (602, 3637), (602, 3638), (602, 3639), (602, 3640), (602, 3641), (602, 3642), (602, 3643), (602, 3644), (602, 3645), (602, 3646), (602, 3647), (602, 3648), (602, 3649), (602, 3650), (602, 3651), (602, 3652)]\n",
            "movieId  0     1     2     3     4     5     7     8     9     10    ...  \\\n",
            "userId                                                               ...   \n",
            "0         NaN   NaN   NaN   NaN   NaN   NaN   NaN   NaN   NaN   NaN  ...   \n",
            "1         NaN   NaN   NaN   NaN   NaN   NaN   NaN   NaN   NaN   NaN  ...   \n",
            "2         NaN   NaN   NaN   NaN   NaN   NaN   NaN   NaN   NaN   NaN  ...   \n",
            "3         NaN   NaN   NaN   NaN   NaN   NaN   NaN   NaN   NaN   NaN  ...   \n",
            "4         4.0   NaN   NaN   NaN   NaN   NaN   NaN   NaN   NaN   NaN  ...   \n",
            "...       ...   ...   ...   ...   ...   ...   ...   ...   ...   ...  ...   \n",
            "605       NaN   NaN   NaN   NaN   4.5   NaN   NaN   NaN   NaN   NaN  ...   \n",
            "606       NaN   NaN   NaN   NaN   NaN   NaN   NaN   NaN   NaN   NaN  ...   \n",
            "607       NaN   NaN   NaN   NaN   NaN   NaN   4.0   NaN   NaN   3.0  ...   \n",
            "608       NaN   NaN   NaN   NaN   NaN   NaN   NaN   NaN   NaN   NaN  ...   \n",
            "609       NaN   NaN   5.0   NaN   NaN   NaN   NaN   NaN   NaN   NaN  ...   \n",
            "\n",
            "movieId  9671  9681  9688  9690  9691  9694  9698  9709  9716  9719  \n",
            "userId                                                               \n",
            "0         NaN   NaN   NaN   NaN   NaN   NaN   NaN   NaN   NaN   NaN  \n",
            "1         NaN   NaN   NaN   NaN   NaN   NaN   NaN   NaN   NaN   NaN  \n",
            "2         NaN   NaN   NaN   NaN   NaN   NaN   NaN   NaN   NaN   NaN  \n",
            "3         NaN   NaN   NaN   NaN   NaN   NaN   NaN   NaN   NaN   NaN  \n",
            "4         NaN   NaN   NaN   NaN   NaN   NaN   NaN   NaN   NaN   NaN  \n",
            "...       ...   ...   ...   ...   ...   ...   ...   ...   ...   ...  \n",
            "605       NaN   NaN   NaN   NaN   NaN   NaN   NaN   NaN   NaN   NaN  \n",
            "606       NaN   NaN   NaN   NaN   NaN   NaN   NaN   NaN   NaN   NaN  \n",
            "607       NaN   NaN   NaN   NaN   NaN   NaN   NaN   NaN   NaN   NaN  \n",
            "608       NaN   NaN   NaN   NaN   NaN   NaN   NaN   NaN   NaN   NaN  \n",
            "609       3.0   3.0   3.5   5.0   4.0   4.0   3.5   3.0   3.5   2.5  \n",
            "\n",
            "[603 rows x 3653 columns]\n"
          ]
        },
        {
          "output_type": "execute_result",
          "data": {
            "text/plain": [
              "'\\ntest_data_columns = test_data.columns\\nprint(len(test_data_columns))\\ntest_data_rows = test_data.index.values\\nprint(len(test_data_rows))\\n\\nprint(test_data)\\n'"
            ],
            "application/vnd.google.colaboratory.intrinsic+json": {
              "type": "string"
            }
          },
          "metadata": {},
          "execution_count": 15
        }
      ]
    },
    {
      "cell_type": "code",
      "source": [
        "from sklearn.utils.extmath import randomized_svd\n",
        "\n",
        "data = df.pivot_table(index='userId', columns='movieId', values='rating').fillna(0)\n",
        "\n",
        "U, Sigma, VT = randomized_svd(np.array(data), n_components=5, n_iter=5, random_state=None)\n",
        "\n",
        "a = U @ np.diag(Sigma) @ VT\n",
        "\n",
        "rmse = np.sqrt(mean_squared_error(data, a))\n",
        "\n",
        "print(\"RMSE:\", rmse)"
      ],
      "metadata": {
        "id": "tx00gY4pCFhH"
      },
      "execution_count": null,
      "outputs": []
    }
  ]
}